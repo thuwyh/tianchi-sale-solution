{
 "cells": [
  {
   "cell_type": "code",
   "execution_count": 1,
   "metadata": {},
   "outputs": [
    {
     "name": "stderr",
     "output_type": "stream",
     "text": [
      "/home/yuanhao/anaconda3/lib/python3.6/site-packages/sklearn/cross_validation.py:44: DeprecationWarning: This module was deprecated in version 0.18 in favor of the model_selection module into which all the refactored classes and functions are moved. Also note that the interface of the new CV iterators are different from that of this module. This module will be removed in 0.20.\n",
      "  \"This module will be removed in 0.20.\", DeprecationWarning)\n",
      "/home/yuanhao/anaconda3/lib/python3.6/site-packages/sklearn/grid_search.py:43: DeprecationWarning: This module was deprecated in version 0.18 in favor of the model_selection module into which all the refactored classes and functions are moved. This module will be removed in 0.20.\n",
      "  DeprecationWarning)\n",
      "/home/yuanhao/anaconda3/lib/python3.6/site-packages/sklearn/lda.py:6: DeprecationWarning: lda.LDA has been moved to discriminant_analysis.LinearDiscriminantAnalysis in 0.17 and will be removed in 0.19\n",
      "  \"in 0.17 and will be removed in 0.19\", DeprecationWarning)\n",
      "/home/yuanhao/anaconda3/lib/python3.6/site-packages/sklearn/learning_curve.py:23: DeprecationWarning: This module was deprecated in version 0.18 in favor of the model_selection module into which all the functions are moved. This module will be removed in 0.20\n",
      "  DeprecationWarning)\n",
      "/home/yuanhao/anaconda3/lib/python3.6/site-packages/sklearn/qda.py:6: DeprecationWarning: qda.QDA has been moved to discriminant_analysis.QuadraticDiscriminantAnalysis in 0.17 and will be removed in 0.19.\n",
      "  \"in 0.17 and will be removed in 0.19.\", DeprecationWarning)\n"
     ]
    }
   ],
   "source": [
    "import pandas as pd\n",
    "import numpy as np\n",
    "import datetime\n",
    "from pandas.tseries.offsets import *\n",
    "\n",
    "from sklearn.model_selection import train_test_split\n",
    "from sklearn import linear_model\n",
    "from sklearn.linear_model import *\n",
    "from sklearn.neighbors import KNeighborsRegressor\n",
    "from sklearn.metrics import mean_squared_error\n",
    "from sklearn import *\n",
    "from catboost import CatBoostRegressor\n",
    "\n",
    "from lightgbm import LGBMRegressor\n",
    "import pickle\n",
    "from lunar import *\n",
    "%matplotlib inline"
   ]
  },
  {
   "cell_type": "code",
   "execution_count": 2,
   "metadata": {},
   "outputs": [
    {
     "name": "stderr",
     "output_type": "stream",
     "text": [
      "/home/yuanhao/anaconda3/lib/python3.6/site-packages/IPython/core/interactiveshell.py:2717: DtypeWarning: Columns (20) have mixed types. Specify dtype option on import or set low_memory=False.\n",
      "  interactivity=interactivity, compiler=compiler, result=result)\n"
     ]
    }
   ],
   "source": [
    "df = pd.read_csv('train_20171226.csv')"
   ]
  },
  {
   "cell_type": "code",
   "execution_count": 3,
   "metadata": {
    "collapsed": true
   },
   "outputs": [],
   "source": [
    "df['sale_date']=pd.to_datetime(df['sale_date'], format='%Y%m')\n",
    "df['price']=pd.to_numeric(df['price'],errors='coerce')"
   ]
  },
  {
   "cell_type": "code",
   "execution_count": 4,
   "metadata": {},
   "outputs": [
    {
     "data": {
      "text/html": [
       "<div>\n",
       "<style scoped>\n",
       "    .dataframe tbody tr th:only-of-type {\n",
       "        vertical-align: middle;\n",
       "    }\n",
       "\n",
       "    .dataframe tbody tr th {\n",
       "        vertical-align: top;\n",
       "    }\n",
       "\n",
       "    .dataframe thead th {\n",
       "        text-align: right;\n",
       "    }\n",
       "</style>\n",
       "<table border=\"1\" class=\"dataframe\">\n",
       "  <thead>\n",
       "    <tr style=\"text-align: right;\">\n",
       "      <th></th>\n",
       "      <th>predict_date</th>\n",
       "      <th>class_id</th>\n",
       "      <th>predict_quantity</th>\n",
       "    </tr>\n",
       "  </thead>\n",
       "  <tbody>\n",
       "    <tr>\n",
       "      <th>0</th>\n",
       "      <td>201711</td>\n",
       "      <td>103507</td>\n",
       "      <td>NaN</td>\n",
       "    </tr>\n",
       "    <tr>\n",
       "      <th>1</th>\n",
       "      <td>201711</td>\n",
       "      <td>124140</td>\n",
       "      <td>NaN</td>\n",
       "    </tr>\n",
       "    <tr>\n",
       "      <th>2</th>\n",
       "      <td>201711</td>\n",
       "      <td>125403</td>\n",
       "      <td>NaN</td>\n",
       "    </tr>\n",
       "    <tr>\n",
       "      <th>3</th>\n",
       "      <td>201711</td>\n",
       "      <td>136916</td>\n",
       "      <td>NaN</td>\n",
       "    </tr>\n",
       "    <tr>\n",
       "      <th>4</th>\n",
       "      <td>201711</td>\n",
       "      <td>169673</td>\n",
       "      <td>NaN</td>\n",
       "    </tr>\n",
       "  </tbody>\n",
       "</table>\n",
       "</div>"
      ],
      "text/plain": [
       "   predict_date  class_id  predict_quantity\n",
       "0        201711    103507               NaN\n",
       "1        201711    124140               NaN\n",
       "2        201711    125403               NaN\n",
       "3        201711    136916               NaN\n",
       "4        201711    169673               NaN"
      ]
     },
     "execution_count": 4,
     "metadata": {},
     "output_type": "execute_result"
    }
   ],
   "source": [
    "df_test = pd.read_csv('testA_20171225.csv')\n",
    "\n",
    "df_test.head()"
   ]
  },
  {
   "cell_type": "code",
   "execution_count": 5,
   "metadata": {
    "collapsed": true
   },
   "outputs": [],
   "source": [
    "sale_class_date = df[['sale_quantity', 'class_id', 'sale_date']].groupby(['class_id','sale_date']).sale_quantity.agg('sum')"
   ]
  },
  {
   "cell_type": "markdown",
   "metadata": {},
   "source": [
    "## step 1"
   ]
  },
  {
   "cell_type": "code",
   "execution_count": 8,
   "metadata": {
    "collapsed": true
   },
   "outputs": [],
   "source": [
    "def quantity_feature(data, months, end_date):\n",
    "    start_date = end_date + DateOffset(months=-months)\n",
    "    data_temp = data[(data['sale_date']>=start_date) & (data['sale_date']<end_date)]\n",
    "    result = data_temp.groupby(['class_id']).sale_quantity.agg({'mean%d'%months:'mean',\n",
    "                                                                'median%d'%months: 'median',\n",
    "                                                                'min%d'%months: 'min',\n",
    "                                                                'max%d'%months: 'max',\n",
    "                                                                'std%d'%months: 'std',\n",
    "                                                                'count%d'%months: 'count',\n",
    "                                                                'skew%d'%months: 'skew'})\n",
    "    result['date'] = end_date\n",
    "    return result"
   ]
  },
  {
   "cell_type": "code",
   "execution_count": 12,
   "metadata": {
    "collapsed": true
   },
   "outputs": [],
   "source": [
    "def ratio_feature(data):\n",
    "    data['mean2_3'] = data['mean2']/(data['mean3']+1)\n",
    "    data['mean2_6'] = data['mean2']/(data['mean6']+1)\n",
    "    data['mean2_12'] = data['mean2']/(data['mean12']+1)\n",
    "    data['mean3_6'] = data['mean3']/(data['mean6']+1)\n",
    "    data['mean3_12'] = data['mean3']/(data['mean12']+1)\n",
    "    return data"
   ]
  },
  {
   "cell_type": "code",
   "execution_count": 10,
   "metadata": {},
   "outputs": [
    {
     "name": "stderr",
     "output_type": "stream",
     "text": [
      "/home/yuanhao/anaconda3/lib/python3.6/site-packages/ipykernel_launcher.py:10: FutureWarning: using a dict on a Series for aggregation\n",
      "is deprecated and will be removed in a future version\n",
      "  # Remove the CWD from sys.path while we load stuff.\n"
     ]
    }
   ],
   "source": [
    "reset_scd = sale_class_date.reset_index()\n",
    "lagging_features = []\n",
    "\n",
    "for date in df['sale_date'].dt.date.unique():\n",
    "    month_feature = []\n",
    "    for month in [2,3,6,12,18,24,100]:\n",
    "        month_feature.append(quantity_feature(reset_scd, month, date))\n",
    "    temp = pd.concat(month_feature, axis=1)\n",
    "    temp = temp.loc[:,~temp.columns.duplicated()]\n",
    "    lagging_features.append(temp.copy())\n"
   ]
  },
  {
   "cell_type": "code",
   "execution_count": 15,
   "metadata": {
    "collapsed": true
   },
   "outputs": [],
   "source": [
    "lagging_features_df = pd.concat(lagging_features, axis=0).reset_index()\n",
    "lagging_features_df = ratio_feature(lagging_features_df)"
   ]
  },
  {
   "cell_type": "code",
   "execution_count": 17,
   "metadata": {
    "collapsed": true
   },
   "outputs": [],
   "source": [
    "cols = ['current_sale','last_month_sale','last_year_sale','e_year','e_month',\n",
    "        'month','year','class_id','last_month_price','last_year_price', 'price_delta', \n",
    "        'holidays','holiday_importance','weekend','length','workday','virtual_date']\n",
    "dataset = {}\n",
    "for c in cols:\n",
    "    dataset[c]=[]"
   ]
  },
  {
   "cell_type": "code",
   "execution_count": 18,
   "metadata": {
    "collapsed": true
   },
   "outputs": [],
   "source": [
    "core_cols = ['current_sale','last_month_sale','last_year_sale','last_3m_avg','e_year','e_month',\n",
    "            'last_month_price','last_year_price','price_delta','holidays','holiday_importance']"
   ]
  },
  {
   "cell_type": "code",
   "execution_count": 19,
   "metadata": {
    "collapsed": true
   },
   "outputs": [],
   "source": [
    "price_date = df[['price','class_id','sale_date']].groupby(['class_id','sale_date']).price.agg('mean')"
   ]
  },
  {
   "cell_type": "code",
   "execution_count": 20,
   "metadata": {
    "collapsed": true
   },
   "outputs": [],
   "source": [
    "holiday_df = pd.read_csv('holiday.csv')\n",
    "holiday_df['date'] = pd.to_datetime(holiday_df['date'],format='%Y%m')"
   ]
  },
  {
   "cell_type": "code",
   "execution_count": 22,
   "metadata": {
    "collapsed": true
   },
   "outputs": [],
   "source": [
    "for idx, row in holiday_df.iterrows():\n",
    "    if row['important']==1:\n",
    "        if row.date.month in [4,5]:\n",
    "            holiday_df.loc[idx, 'important'] = 2\n",
    "        if row.date.month in [9,10]:\n",
    "            holiday_df.loc[idx, 'important'] = 3"
   ]
  },
  {
   "cell_type": "code",
   "execution_count": 23,
   "metadata": {
    "collapsed": true
   },
   "outputs": [],
   "source": [
    "holiday_df.set_index('date', inplace=True)"
   ]
  },
  {
   "cell_type": "code",
   "execution_count": 26,
   "metadata": {},
   "outputs": [
    {
     "name": "stdout",
     "output_type": "stream",
     "text": [
      "5587\n"
     ]
    }
   ],
   "source": [
    "count = 0\n",
    "max_value = sale_class_date.max()\n",
    "for c in sale_class_date.index.levels[0]:\n",
    "    for t in sale_class_date[c].index:\n",
    "        count +=1\n",
    "        dataset['current_sale'].append(sale_class_date[c][t])\n",
    "        dataset['month'].append(t.month)\n",
    "        dataset['year'].append(t.year)\n",
    "        dataset['class_id'].append(c)\n",
    "        dataset['virtual_date'].append(t)\n",
    "        l3_total, l3_count = 0, 0\n",
    "        \n",
    "        last_month = t + DateOffset(months=-1)\n",
    "        if last_month in sale_class_date[c].index:\n",
    "            dataset['last_month_sale'].append(sale_class_date[c][last_month])\n",
    "            l3_total += sale_class_date[c][last_month]\n",
    "            l3_count += 1\n",
    "        else:\n",
    "            dataset['last_month_sale'].append(np.nan)\n",
    "            \n",
    "        last_year = t + DateOffset(years = -1)\n",
    "        if last_year in sale_class_date[c].index:\n",
    "            dataset['last_year_sale'].append(sale_class_date[c][last_year])\n",
    "        else:\n",
    "            dataset['last_year_sale'].append(np.nan)\n",
    "            \n",
    "        lalm = last_year + DateOffset(months = -1)\n",
    "        if last_month in sale_class_date[c].index and last_year in sale_class_date[c].index and lalm in sale_class_date[c].index:\n",
    "            dataset['e_year'].append(np.minimum(max_value,sale_class_date[c][last_month]*sale_class_date[c][last_year]/sale_class_date[c][lalm]))\n",
    "        else:\n",
    "            dataset['e_year'].append(np.nan)\n",
    "            \n",
    "        last_two_month = last_month + DateOffset(months = -1)\n",
    "        if last_month in sale_class_date[c].index and last_two_month in sale_class_date[c].index:\n",
    "            dataset['e_month'].append(np.minimum(max_value,sale_class_date[c][last_month]*sale_class_date[c][last_month]/sale_class_date[c][last_two_month]))\n",
    "        else:\n",
    "            dataset['e_month'].append(np.nan)\n",
    "            \n",
    "        if last_month in price_date[c].index:\n",
    "            dataset['last_month_price'].append(price_date[c][last_month])\n",
    "        else:\n",
    "            dataset['last_month_price'].append(np.nan)\n",
    "            \n",
    "        if last_year in price_date[c].index:\n",
    "            dataset['last_year_price'].append(price_date[c][last_year])\n",
    "        else:\n",
    "            dataset['last_year_price'].append(np.nan)\n",
    "            \n",
    "        dataset['price_delta'].append(dataset['last_month_price'][-1] - dataset['last_year_price'][-1])\n",
    "        \n",
    "        dataset['holidays'].append(holiday_df.loc[t,'holidays'])\n",
    "        dataset['holiday_importance'].append(holiday_df.loc[t,'important'])\n",
    "        \n",
    "        temp = t\n",
    "        weekend = 0\n",
    "        length = 0\n",
    "        while temp.month==t.month:\n",
    "            length+=1\n",
    "            if temp.weekday() >=5:\n",
    "                weekend+=1\n",
    "            temp += DateOffset(days=1)\n",
    "        dataset['weekend'].append(weekend)\n",
    "        dataset['length'].append(length)\n",
    "        dataset['workday'].append(length-weekend-holiday_df.loc[t,'holidays'])\n",
    "print(count)"
   ]
  },
  {
   "cell_type": "code",
   "execution_count": 27,
   "metadata": {
    "collapsed": true
   },
   "outputs": [],
   "source": [
    "data_df = pd.DataFrame(dataset, columns=cols)"
   ]
  },
  {
   "cell_type": "code",
   "execution_count": 28,
   "metadata": {
    "collapsed": true
   },
   "outputs": [],
   "source": [
    "data_df['virtual_date'] = data_df['virtual_date'].dt.date"
   ]
  },
  {
   "cell_type": "code",
   "execution_count": 30,
   "metadata": {
    "collapsed": true
   },
   "outputs": [],
   "source": [
    "data_df['sin_month'] = np.sin(data_df['month']*np.pi/12)"
   ]
  },
  {
   "cell_type": "code",
   "execution_count": 32,
   "metadata": {},
   "outputs": [
    {
     "data": {
      "text/plain": [
       "Index(['current_sale', 'last_month_sale', 'last_year_sale', 'e_year',\n",
       "       'e_month', 'month', 'year', 'class_id', 'last_month_price',\n",
       "       'last_year_price', 'price_delta', 'holidays', 'holiday_importance',\n",
       "       'weekend', 'length', 'workday', 'virtual_date', 'sin_month'],\n",
       "      dtype='object')"
      ]
     },
     "execution_count": 32,
     "metadata": {},
     "output_type": "execute_result"
    }
   ],
   "source": [
    "data_df.columns"
   ]
  },
  {
   "cell_type": "code",
   "execution_count": 33,
   "metadata": {},
   "outputs": [
    {
     "data": {
      "text/plain": [
       "Index(['class_id', 'mean2', 'median2', 'min2', 'max2', 'std2', 'count2',\n",
       "       'skew2', 'date', 'mean3', 'median3', 'min3', 'max3', 'std3', 'count3',\n",
       "       'skew3', 'mean6', 'median6', 'min6', 'max6', 'std6', 'count6', 'skew6',\n",
       "       'mean12', 'median12', 'min12', 'max12', 'std12', 'count12', 'skew12',\n",
       "       'mean18', 'median18', 'min18', 'max18', 'std18', 'count18', 'skew18',\n",
       "       'mean24', 'median24', 'min24', 'max24', 'std24', 'count24', 'skew24',\n",
       "       'mean100', 'median100', 'min100', 'max100', 'std100', 'count100',\n",
       "       'skew100', 'mean2_3', 'mean2_6', 'mean2_12', 'mean3_6', 'mean3_12'],\n",
       "      dtype='object')"
      ]
     },
     "execution_count": 33,
     "metadata": {},
     "output_type": "execute_result"
    }
   ],
   "source": [
    "lagging_features_df.columns"
   ]
  },
  {
   "cell_type": "code",
   "execution_count": 34,
   "metadata": {
    "collapsed": true
   },
   "outputs": [],
   "source": [
    "data_df = data_df.merge(lagging_features_df, left_on=['class_id','virtual_date'], right_on=['class_id','date'], \n",
    "                        how='left')"
   ]
  },
  {
   "cell_type": "code",
   "execution_count": 35,
   "metadata": {
    "collapsed": true
   },
   "outputs": [],
   "source": [
    "data_df.drop(['virtual_date','date'], axis=1, inplace=True)"
   ]
  },
  {
   "cell_type": "code",
   "execution_count": 36,
   "metadata": {
    "collapsed": true
   },
   "outputs": [],
   "source": [
    "with open('data_df.pkl', 'wb') as f:\n",
    "    pickle.dump(data_df, f, protocol=pickle.HIGHEST_PROTOCOL)"
   ]
  },
  {
   "cell_type": "markdown",
   "metadata": {},
   "source": [
    "## CV"
   ]
  },
  {
   "cell_type": "code",
   "execution_count": 40,
   "metadata": {
    "collapsed": true
   },
   "outputs": [],
   "source": [
    "from sklearn.neural_network import MLPRegressor"
   ]
  },
  {
   "cell_type": "code",
   "execution_count": 41,
   "metadata": {
    "collapsed": true
   },
   "outputs": [],
   "source": [
    "validation_df = data_df[(data_df['month']==10)&(data_df['year']==2017)]\n",
    "\n",
    "train_df = data_df[~((data_df['month']==10)&(data_df['year']==2017))]\n",
    "\n",
    "train_X = train_df.drop(['current_sale'], axis=1)\n",
    "train_Y = train_df['current_sale']"
   ]
  },
  {
   "cell_type": "code",
   "execution_count": 42,
   "metadata": {
    "collapsed": true
   },
   "outputs": [],
   "source": [
    "test_X = validation_df.drop(['current_sale'], axis=1)\n",
    "test_Y = validation_df['current_sale']"
   ]
  },
  {
   "cell_type": "code",
   "execution_count": 95,
   "metadata": {
    "collapsed": true
   },
   "outputs": [],
   "source": [
    "from sklearn.model_selection import GridSearchCV\n",
    "from sklearn.model_selection import PredefinedSplit"
   ]
  },
  {
   "cell_type": "code",
   "execution_count": 103,
   "metadata": {
    "collapsed": true
   },
   "outputs": [],
   "source": [
    "parameters = {'learning_rate':[0.01,0.015,0.02],\n",
    "              'n_estimators':[400,800,1200,1600],\n",
    "              'subsample': [0.8],\n",
    "              'num_leaves': [30,50,70,100],\n",
    "              'colsample_bytree': [0.4,0.6,0.8],\n",
    "              'min_child_samples': [5, 10, 20, 40],\n",
    "              'n_jobs': [1],\n",
    "              'random_seed': [1]\n",
    "             }    \n",
    "lgb = LGBMRegressor()\n",
    "idx = ((data_df['month']==10)&(data_df['year']==2017)).astype(np.int)-1"
   ]
  },
  {
   "cell_type": "code",
   "execution_count": 106,
   "metadata": {},
   "outputs": [
    {
     "name": "stdout",
     "output_type": "stream",
     "text": [
      "Fitting 1 folds for each of 576 candidates, totalling 576 fits\n",
      "[CV] colsample_bytree=0.4, learning_rate=0.01, min_child_samples=5, n_estimators=400, n_jobs=1, num_leaves=30, random_seed=1, subsample=0.8 \n",
      "[CV] colsample_bytree=0.4, learning_rate=0.01, min_child_samples=5, n_estimators=400, n_jobs=1, num_leaves=50, random_seed=1, subsample=0.8 \n",
      "[CV] colsample_bytree=0.4, learning_rate=0.01, min_child_samples=5, n_estimators=400, n_jobs=1, num_leaves=70, random_seed=1, subsample=0.8 \n",
      "[CV] colsample_bytree=0.4, learning_rate=0.01, min_child_samples=5, n_estimators=400, n_jobs=1, num_leaves=100, random_seed=1, subsample=0.8 \n",
      "[CV] colsample_bytree=0.4, learning_rate=0.01, min_child_samples=5, n_estimators=800, n_jobs=1, num_leaves=30, random_seed=1, subsample=0.8 \n",
      "[CV] colsample_bytree=0.4, learning_rate=0.01, min_child_samples=5, n_estimators=800, n_jobs=1, num_leaves=50, random_seed=1, subsample=0.8 \n",
      "[CV] colsample_bytree=0.4, learning_rate=0.01, min_child_samples=5, n_estimators=800, n_jobs=1, num_leaves=70, random_seed=1, subsample=0.8 \n",
      "[CV] colsample_bytree=0.4, learning_rate=0.01, min_child_samples=5, n_estimators=800, n_jobs=1, num_leaves=100, random_seed=1, subsample=0.8 \n",
      "[CV]  colsample_bytree=0.4, learning_rate=0.01, min_child_samples=5, n_estimators=400, n_jobs=1, num_leaves=30, random_seed=1, subsample=0.8, score=-18581.416720, total=   3.5s\n",
      "[CV] colsample_bytree=0.4, learning_rate=0.01, min_child_samples=5, n_estimators=1200, n_jobs=1, num_leaves=30, random_seed=1, subsample=0.8 \n",
      "[CV]  colsample_bytree=0.4, learning_rate=0.01, min_child_samples=5, n_estimators=400, n_jobs=1, num_leaves=50, random_seed=1, subsample=0.8, score=-17297.320719, total=   5.5s\n",
      "[CV] colsample_bytree=0.4, learning_rate=0.01, min_child_samples=5, n_estimators=1200, n_jobs=1, num_leaves=50, random_seed=1, subsample=0.8 \n",
      "[CV]  colsample_bytree=0.4, learning_rate=0.01, min_child_samples=5, n_estimators=800, n_jobs=1, num_leaves=30, random_seed=1, subsample=0.8, score=-19418.280521, total=   7.2s\n",
      "[CV] colsample_bytree=0.4, learning_rate=0.01, min_child_samples=5, n_estimators=1200, n_jobs=1, num_leaves=70, random_seed=1, subsample=0.8 \n",
      "[CV]  colsample_bytree=0.4, learning_rate=0.01, min_child_samples=5, n_estimators=400, n_jobs=1, num_leaves=70, random_seed=1, subsample=0.8, score=-18142.727283, total=   7.9s\n",
      "[CV] colsample_bytree=0.4, learning_rate=0.01, min_child_samples=5, n_estimators=1200, n_jobs=1, num_leaves=100, random_seed=1, subsample=0.8 \n",
      "[CV]  colsample_bytree=0.4, learning_rate=0.01, min_child_samples=5, n_estimators=400, n_jobs=1, num_leaves=100, random_seed=1, subsample=0.8, score=-18775.487411, total=   9.4s\n",
      "[CV] colsample_bytree=0.4, learning_rate=0.01, min_child_samples=5, n_estimators=1600, n_jobs=1, num_leaves=30, random_seed=1, subsample=0.8 \n",
      "[CV]  colsample_bytree=0.4, learning_rate=0.01, min_child_samples=5, n_estimators=800, n_jobs=1, num_leaves=50, random_seed=1, subsample=0.8, score=-18512.606075, total=  10.8s\n",
      "[CV] colsample_bytree=0.4, learning_rate=0.01, min_child_samples=5, n_estimators=1600, n_jobs=1, num_leaves=50, random_seed=1, subsample=0.8 \n",
      "[CV]  colsample_bytree=0.4, learning_rate=0.01, min_child_samples=5, n_estimators=1200, n_jobs=1, num_leaves=30, random_seed=1, subsample=0.8, score=-19436.759909, total=  10.5s\n",
      "[CV] colsample_bytree=0.4, learning_rate=0.01, min_child_samples=5, n_estimators=1600, n_jobs=1, num_leaves=70, random_seed=1, subsample=0.8 \n",
      "[CV]  colsample_bytree=0.4, learning_rate=0.01, min_child_samples=5, n_estimators=800, n_jobs=1, num_leaves=70, random_seed=1, subsample=0.8, score=-19075.243168, total=  14.4s\n",
      "[CV] colsample_bytree=0.4, learning_rate=0.01, min_child_samples=5, n_estimators=1600, n_jobs=1, num_leaves=100, random_seed=1, subsample=0.8 \n",
      "[CV]  colsample_bytree=0.4, learning_rate=0.01, min_child_samples=5, n_estimators=800, n_jobs=1, num_leaves=100, random_seed=1, subsample=0.8, score=-19435.362357, total=  18.9s\n",
      "[CV] colsample_bytree=0.4, learning_rate=0.01, min_child_samples=10, n_estimators=400, n_jobs=1, num_leaves=30, random_seed=1, subsample=0.8 \n",
      "[CV]  colsample_bytree=0.4, learning_rate=0.01, min_child_samples=5, n_estimators=1200, n_jobs=1, num_leaves=50, random_seed=1, subsample=0.8, score=-18741.563460, total=  16.4s\n",
      "[CV] colsample_bytree=0.4, learning_rate=0.01, min_child_samples=10, n_estimators=400, n_jobs=1, num_leaves=50, random_seed=1, subsample=0.8 \n",
      "[CV]  colsample_bytree=0.4, learning_rate=0.01, min_child_samples=10, n_estimators=400, n_jobs=1, num_leaves=30, random_seed=1, subsample=0.8, score=-16046.685394, total=   3.6s\n",
      "[CV] colsample_bytree=0.4, learning_rate=0.01, min_child_samples=10, n_estimators=400, n_jobs=1, num_leaves=70, random_seed=1, subsample=0.8 \n",
      "[CV]  colsample_bytree=0.4, learning_rate=0.01, min_child_samples=5, n_estimators=1600, n_jobs=1, num_leaves=30, random_seed=1, subsample=0.8, score=-19432.594734, total=  14.5s\n",
      "[CV] colsample_bytree=0.4, learning_rate=0.01, min_child_samples=10, n_estimators=400, n_jobs=1, num_leaves=100, random_seed=1, subsample=0.8 \n",
      "[CV]  colsample_bytree=0.4, learning_rate=0.01, min_child_samples=10, n_estimators=400, n_jobs=1, num_leaves=50, random_seed=1, subsample=0.8, score=-16613.996791, total=   5.4s\n",
      "[CV] colsample_bytree=0.4, learning_rate=0.01, min_child_samples=10, n_estimators=800, n_jobs=1, num_leaves=30, random_seed=1, subsample=0.8 \n",
      "[CV]  colsample_bytree=0.4, learning_rate=0.01, min_child_samples=5, n_estimators=1200, n_jobs=1, num_leaves=70, random_seed=1, subsample=0.8, score=-19265.784754, total=  21.1s\n",
      "[CV] colsample_bytree=0.4, learning_rate=0.01, min_child_samples=10, n_estimators=800, n_jobs=1, num_leaves=50, random_seed=1, subsample=0.8 \n",
      "[CV]  colsample_bytree=0.4, learning_rate=0.01, min_child_samples=10, n_estimators=400, n_jobs=1, num_leaves=70, random_seed=1, subsample=0.8, score=-16598.653149, total=   7.0s\n",
      "[CV] colsample_bytree=0.4, learning_rate=0.01, min_child_samples=10, n_estimators=800, n_jobs=1, num_leaves=70, random_seed=1, subsample=0.8 \n",
      "[CV]  colsample_bytree=0.4, learning_rate=0.01, min_child_samples=10, n_estimators=400, n_jobs=1, num_leaves=100, random_seed=1, subsample=0.8, score=-17732.170805, total=   9.0s\n",
      "[CV] colsample_bytree=0.4, learning_rate=0.01, min_child_samples=10, n_estimators=800, n_jobs=1, num_leaves=100, random_seed=1, subsample=0.8 \n"
     ]
    },
    {
     "name": "stderr",
     "output_type": "stream",
     "text": [
      "[Parallel(n_jobs=-1)]: Done  16 tasks      | elapsed:   35.2s\n"
     ]
    },
    {
     "name": "stdout",
     "output_type": "stream",
     "text": [
      "[CV]  colsample_bytree=0.4, learning_rate=0.01, min_child_samples=5, n_estimators=1600, n_jobs=1, num_leaves=50, random_seed=1, subsample=0.8, score=-18926.727909, total=  21.0s\n",
      "[CV] colsample_bytree=0.4, learning_rate=0.01, min_child_samples=10, n_estimators=1200, n_jobs=1, num_leaves=30, random_seed=1, subsample=0.8 \n",
      "[CV]  colsample_bytree=0.4, learning_rate=0.01, min_child_samples=10, n_estimators=800, n_jobs=1, num_leaves=30, random_seed=1, subsample=0.8, score=-16871.832303, total=   6.9s\n",
      "[CV] colsample_bytree=0.4, learning_rate=0.01, min_child_samples=10, n_estimators=1200, n_jobs=1, num_leaves=50, random_seed=1, subsample=0.8 \n",
      "[CV]  colsample_bytree=0.4, learning_rate=0.01, min_child_samples=5, n_estimators=1200, n_jobs=1, num_leaves=100, random_seed=1, subsample=0.8, score=-19550.683469, total=  29.4s\n",
      "[CV] colsample_bytree=0.4, learning_rate=0.01, min_child_samples=10, n_estimators=1200, n_jobs=1, num_leaves=70, random_seed=1, subsample=0.8 \n",
      "[CV]  colsample_bytree=0.4, learning_rate=0.01, min_child_samples=10, n_estimators=800, n_jobs=1, num_leaves=50, random_seed=1, subsample=0.8, score=-17807.999620, total=  10.3s\n",
      "[CV] colsample_bytree=0.4, learning_rate=0.01, min_child_samples=10, n_estimators=1200, n_jobs=1, num_leaves=100, random_seed=1, subsample=0.8 \n",
      "[CV]  colsample_bytree=0.4, learning_rate=0.01, min_child_samples=10, n_estimators=1200, n_jobs=1, num_leaves=30, random_seed=1, subsample=0.8, score=-17037.505541, total=  10.3s\n",
      "[CV] colsample_bytree=0.4, learning_rate=0.01, min_child_samples=10, n_estimators=1600, n_jobs=1, num_leaves=30, random_seed=1, subsample=0.8 \n",
      "[CV]  colsample_bytree=0.4, learning_rate=0.01, min_child_samples=10, n_estimators=800, n_jobs=1, num_leaves=70, random_seed=1, subsample=0.8, score=-17682.957756, total=  14.8s\n",
      "[CV] colsample_bytree=0.4, learning_rate=0.01, min_child_samples=10, n_estimators=1600, n_jobs=1, num_leaves=50, random_seed=1, subsample=0.8 \n",
      "[CV]  colsample_bytree=0.4, learning_rate=0.01, min_child_samples=5, n_estimators=1600, n_jobs=1, num_leaves=70, random_seed=1, subsample=0.8, score=-19366.994279, total=  29.9s\n",
      "[CV] colsample_bytree=0.4, learning_rate=0.01, min_child_samples=10, n_estimators=1600, n_jobs=1, num_leaves=70, random_seed=1, subsample=0.8 \n",
      "[CV]  colsample_bytree=0.4, learning_rate=0.01, min_child_samples=10, n_estimators=1200, n_jobs=1, num_leaves=50, random_seed=1, subsample=0.8, score=-17685.059720, total=  15.5s\n",
      "[CV] colsample_bytree=0.4, learning_rate=0.01, min_child_samples=10, n_estimators=1600, n_jobs=1, num_leaves=100, random_seed=1, subsample=0.8 \n",
      "[CV]  colsample_bytree=0.4, learning_rate=0.01, min_child_samples=10, n_estimators=800, n_jobs=1, num_leaves=100, random_seed=1, subsample=0.8, score=-18468.290583, total=  19.0s\n",
      "[CV] colsample_bytree=0.4, learning_rate=0.01, min_child_samples=20, n_estimators=400, n_jobs=1, num_leaves=30, random_seed=1, subsample=0.8 \n",
      "[CV]  colsample_bytree=0.4, learning_rate=0.01, min_child_samples=20, n_estimators=400, n_jobs=1, num_leaves=30, random_seed=1, subsample=0.8, score=-15397.079026, total=   3.6s\n",
      "[CV] colsample_bytree=0.4, learning_rate=0.01, min_child_samples=20, n_estimators=400, n_jobs=1, num_leaves=50, random_seed=1, subsample=0.8 \n",
      "[CV]  colsample_bytree=0.4, learning_rate=0.01, min_child_samples=5, n_estimators=1600, n_jobs=1, num_leaves=100, random_seed=1, subsample=0.8, score=-19450.720893, total=  39.7s\n",
      "[CV] colsample_bytree=0.4, learning_rate=0.01, min_child_samples=20, n_estimators=400, n_jobs=1, num_leaves=70, random_seed=1, subsample=0.8 \n",
      "[CV]  colsample_bytree=0.4, learning_rate=0.01, min_child_samples=10, n_estimators=1600, n_jobs=1, num_leaves=30, random_seed=1, subsample=0.8, score=-16868.694385, total=  13.4s\n",
      "[CV] colsample_bytree=0.4, learning_rate=0.01, min_child_samples=20, n_estimators=400, n_jobs=1, num_leaves=100, random_seed=1, subsample=0.8 \n",
      "[CV]  colsample_bytree=0.4, learning_rate=0.01, min_child_samples=20, n_estimators=400, n_jobs=1, num_leaves=50, random_seed=1, subsample=0.8, score=-15959.687437, total=   5.4s\n",
      "[CV] colsample_bytree=0.4, learning_rate=0.01, min_child_samples=20, n_estimators=800, n_jobs=1, num_leaves=30, random_seed=1, subsample=0.8 \n",
      "[CV]  colsample_bytree=0.4, learning_rate=0.01, min_child_samples=10, n_estimators=1200, n_jobs=1, num_leaves=70, random_seed=1, subsample=0.8, score=-17293.088914, total=  20.8s\n",
      "[CV] colsample_bytree=0.4, learning_rate=0.01, min_child_samples=20, n_estimators=800, n_jobs=1, num_leaves=50, random_seed=1, subsample=0.8 \n",
      "[CV]  colsample_bytree=0.4, learning_rate=0.01, min_child_samples=20, n_estimators=400, n_jobs=1, num_leaves=70, random_seed=1, subsample=0.8, score=-16018.175805, total=   6.7s\n",
      "[CV] colsample_bytree=0.4, learning_rate=0.01, min_child_samples=20, n_estimators=800, n_jobs=1, num_leaves=70, random_seed=1, subsample=0.8 \n",
      "[CV]  colsample_bytree=0.4, learning_rate=0.01, min_child_samples=20, n_estimators=400, n_jobs=1, num_leaves=100, random_seed=1, subsample=0.8, score=-16561.434195, total=   8.2s\n",
      "[CV] colsample_bytree=0.4, learning_rate=0.01, min_child_samples=20, n_estimators=800, n_jobs=1, num_leaves=100, random_seed=1, subsample=0.8 \n",
      "[CV]  colsample_bytree=0.4, learning_rate=0.01, min_child_samples=10, n_estimators=1600, n_jobs=1, num_leaves=50, random_seed=1, subsample=0.8, score=-17583.038467, total=  20.7s\n",
      "[CV] colsample_bytree=0.4, learning_rate=0.01, min_child_samples=20, n_estimators=1200, n_jobs=1, num_leaves=30, random_seed=1, subsample=0.8 \n",
      "[CV]  colsample_bytree=0.4, learning_rate=0.01, min_child_samples=20, n_estimators=800, n_jobs=1, num_leaves=30, random_seed=1, subsample=0.8, score=-15268.342898, total=   7.7s\n",
      "[CV] colsample_bytree=0.4, learning_rate=0.01, min_child_samples=20, n_estimators=1200, n_jobs=1, num_leaves=50, random_seed=1, subsample=0.8 \n",
      "[CV]  colsample_bytree=0.4, learning_rate=0.01, min_child_samples=10, n_estimators=1200, n_jobs=1, num_leaves=100, random_seed=1, subsample=0.8, score=-17897.498638, total=  26.8s\n",
      "[CV] colsample_bytree=0.4, learning_rate=0.01, min_child_samples=20, n_estimators=1200, n_jobs=1, num_leaves=70, random_seed=1, subsample=0.8 \n",
      "[CV]  colsample_bytree=0.4, learning_rate=0.01, min_child_samples=20, n_estimators=800, n_jobs=1, num_leaves=50, random_seed=1, subsample=0.8, score=-16119.390755, total=  10.8s\n",
      "[CV] colsample_bytree=0.4, learning_rate=0.01, min_child_samples=20, n_estimators=1200, n_jobs=1, num_leaves=100, random_seed=1, subsample=0.8 \n",
      "[CV]  colsample_bytree=0.4, learning_rate=0.01, min_child_samples=20, n_estimators=800, n_jobs=1, num_leaves=70, random_seed=1, subsample=0.8, score=-15836.429170, total=  13.1s\n",
      "[CV] colsample_bytree=0.4, learning_rate=0.01, min_child_samples=20, n_estimators=1600, n_jobs=1, num_leaves=30, random_seed=1, subsample=0.8 \n",
      "[CV]  colsample_bytree=0.4, learning_rate=0.01, min_child_samples=10, n_estimators=1600, n_jobs=1, num_leaves=70, random_seed=1, subsample=0.8, score=-17159.708679, total=  27.5s\n",
      "[CV] colsample_bytree=0.4, learning_rate=0.01, min_child_samples=20, n_estimators=1600, n_jobs=1, num_leaves=50, random_seed=1, subsample=0.8 \n",
      "[CV]  colsample_bytree=0.4, learning_rate=0.01, min_child_samples=20, n_estimators=1200, n_jobs=1, num_leaves=30, random_seed=1, subsample=0.8, score=-15425.480395, total=  10.6s\n",
      "[CV] colsample_bytree=0.4, learning_rate=0.01, min_child_samples=20, n_estimators=1600, n_jobs=1, num_leaves=70, random_seed=1, subsample=0.8 \n",
      "[CV]  colsample_bytree=0.4, learning_rate=0.01, min_child_samples=20, n_estimators=800, n_jobs=1, num_leaves=100, random_seed=1, subsample=0.8, score=-16221.828471, total=  17.6s\n",
      "[CV] colsample_bytree=0.4, learning_rate=0.01, min_child_samples=20, n_estimators=1600, n_jobs=1, num_leaves=100, random_seed=1, subsample=0.8 \n",
      "[CV]  colsample_bytree=0.4, learning_rate=0.01, min_child_samples=20, n_estimators=1200, n_jobs=1, num_leaves=50, random_seed=1, subsample=0.8, score=-16038.808582, total=  15.2s\n",
      "[CV] colsample_bytree=0.4, learning_rate=0.01, min_child_samples=40, n_estimators=400, n_jobs=1, num_leaves=30, random_seed=1, subsample=0.8 \n",
      "[CV]  colsample_bytree=0.4, learning_rate=0.01, min_child_samples=40, n_estimators=400, n_jobs=1, num_leaves=30, random_seed=1, subsample=0.8, score=-17718.140149, total=   3.9s\n"
     ]
    },
    {
     "name": "stdout",
     "output_type": "stream",
     "text": [
      "[CV] colsample_bytree=0.4, learning_rate=0.01, min_child_samples=40, n_estimators=400, n_jobs=1, num_leaves=50, random_seed=1, subsample=0.8 \n",
      "[CV]  colsample_bytree=0.4, learning_rate=0.01, min_child_samples=10, n_estimators=1600, n_jobs=1, num_leaves=100, random_seed=1, subsample=0.8, score=-17764.136721, total=  37.3s\n",
      "[CV] colsample_bytree=0.4, learning_rate=0.01, min_child_samples=40, n_estimators=400, n_jobs=1, num_leaves=70, random_seed=1, subsample=0.8 \n",
      "[CV]  colsample_bytree=0.4, learning_rate=0.01, min_child_samples=20, n_estimators=1200, n_jobs=1, num_leaves=70, random_seed=1, subsample=0.8, score=-15765.089999, total=  19.6s\n",
      "[CV] colsample_bytree=0.4, learning_rate=0.01, min_child_samples=40, n_estimators=400, n_jobs=1, num_leaves=100, random_seed=1, subsample=0.8 \n",
      "[CV]  colsample_bytree=0.4, learning_rate=0.01, min_child_samples=20, n_estimators=1600, n_jobs=1, num_leaves=30, random_seed=1, subsample=0.8, score=-15035.850488, total=  13.7s\n",
      "[CV] colsample_bytree=0.4, learning_rate=0.01, min_child_samples=40, n_estimators=800, n_jobs=1, num_leaves=30, random_seed=1, subsample=0.8 \n",
      "[CV]  colsample_bytree=0.4, learning_rate=0.01, min_child_samples=40, n_estimators=400, n_jobs=1, num_leaves=50, random_seed=1, subsample=0.8, score=-18280.014668, total=   5.2s\n",
      "[CV] colsample_bytree=0.4, learning_rate=0.01, min_child_samples=40, n_estimators=800, n_jobs=1, num_leaves=50, random_seed=1, subsample=0.8 \n",
      "[CV]  colsample_bytree=0.4, learning_rate=0.01, min_child_samples=40, n_estimators=400, n_jobs=1, num_leaves=70, random_seed=1, subsample=0.8, score=-18142.786583, total=   6.3s\n",
      "[CV] colsample_bytree=0.4, learning_rate=0.01, min_child_samples=40, n_estimators=800, n_jobs=1, num_leaves=70, random_seed=1, subsample=0.8 \n",
      "[CV]  colsample_bytree=0.4, learning_rate=0.01, min_child_samples=40, n_estimators=400, n_jobs=1, num_leaves=100, random_seed=1, subsample=0.8, score=-18172.089185, total=   6.9s\n",
      "[CV] colsample_bytree=0.4, learning_rate=0.01, min_child_samples=40, n_estimators=800, n_jobs=1, num_leaves=100, random_seed=1, subsample=0.8 \n",
      "[CV]  colsample_bytree=0.4, learning_rate=0.01, min_child_samples=40, n_estimators=800, n_jobs=1, num_leaves=30, random_seed=1, subsample=0.8, score=-17756.873840, total=   6.7s\n",
      "[CV] colsample_bytree=0.4, learning_rate=0.01, min_child_samples=40, n_estimators=1200, n_jobs=1, num_leaves=30, random_seed=1, subsample=0.8 \n",
      "[CV]  colsample_bytree=0.4, learning_rate=0.01, min_child_samples=20, n_estimators=1600, n_jobs=1, num_leaves=50, random_seed=1, subsample=0.8, score=-15739.677209, total=  21.2s\n",
      "[CV] colsample_bytree=0.4, learning_rate=0.01, min_child_samples=40, n_estimators=1200, n_jobs=1, num_leaves=50, random_seed=1, subsample=0.8 \n",
      "[CV]  colsample_bytree=0.4, learning_rate=0.01, min_child_samples=20, n_estimators=1200, n_jobs=1, num_leaves=100, random_seed=1, subsample=0.8, score=-16094.387106, total=  26.3s\n",
      "[CV] colsample_bytree=0.4, learning_rate=0.01, min_child_samples=40, n_estimators=1200, n_jobs=1, num_leaves=70, random_seed=1, subsample=0.8 \n",
      "[CV]  colsample_bytree=0.4, learning_rate=0.01, min_child_samples=40, n_estimators=800, n_jobs=1, num_leaves=50, random_seed=1, subsample=0.8, score=-17973.239474, total=  10.1s\n",
      "[CV] colsample_bytree=0.4, learning_rate=0.01, min_child_samples=40, n_estimators=1200, n_jobs=1, num_leaves=100, random_seed=1, subsample=0.8 \n",
      "[CV]  colsample_bytree=0.4, learning_rate=0.01, min_child_samples=40, n_estimators=1200, n_jobs=1, num_leaves=30, random_seed=1, subsample=0.8, score=-16935.604039, total=  10.2s\n",
      "[CV] colsample_bytree=0.4, learning_rate=0.01, min_child_samples=40, n_estimators=1600, n_jobs=1, num_leaves=30, random_seed=1, subsample=0.8 \n",
      "[CV]  colsample_bytree=0.4, learning_rate=0.01, min_child_samples=20, n_estimators=1600, n_jobs=1, num_leaves=70, random_seed=1, subsample=0.8, score=-15471.313881, total=  26.5s\n",
      "[CV] colsample_bytree=0.4, learning_rate=0.01, min_child_samples=40, n_estimators=1600, n_jobs=1, num_leaves=50, random_seed=1, subsample=0.8 \n",
      "[CV]  colsample_bytree=0.4, learning_rate=0.01, min_child_samples=40, n_estimators=800, n_jobs=1, num_leaves=70, random_seed=1, subsample=0.8, score=-18127.988986, total=  12.7s\n",
      "[CV] colsample_bytree=0.4, learning_rate=0.01, min_child_samples=40, n_estimators=1600, n_jobs=1, num_leaves=70, random_seed=1, subsample=0.8 \n",
      "[CV]  colsample_bytree=0.4, learning_rate=0.01, min_child_samples=40, n_estimators=800, n_jobs=1, num_leaves=100, random_seed=1, subsample=0.8, score=-17832.164861, total=  14.0s\n",
      "[CV] colsample_bytree=0.4, learning_rate=0.01, min_child_samples=40, n_estimators=1600, n_jobs=1, num_leaves=100, random_seed=1, subsample=0.8 \n",
      "[CV]  colsample_bytree=0.4, learning_rate=0.01, min_child_samples=40, n_estimators=1200, n_jobs=1, num_leaves=50, random_seed=1, subsample=0.8, score=-17327.891436, total=  15.4s\n",
      "[CV] colsample_bytree=0.4, learning_rate=0.015, min_child_samples=5, n_estimators=400, n_jobs=1, num_leaves=30, random_seed=1, subsample=0.8 \n",
      "[CV]  colsample_bytree=0.4, learning_rate=0.015, min_child_samples=5, n_estimators=400, n_jobs=1, num_leaves=30, random_seed=1, subsample=0.8, score=-17400.671176, total=   3.9s\n",
      "[CV] colsample_bytree=0.4, learning_rate=0.015, min_child_samples=5, n_estimators=400, n_jobs=1, num_leaves=50, random_seed=1, subsample=0.8 \n",
      "[CV]  colsample_bytree=0.4, learning_rate=0.01, min_child_samples=40, n_estimators=1200, n_jobs=1, num_leaves=70, random_seed=1, subsample=0.8, score=-17280.798515, total=  19.7s\n",
      "[CV] colsample_bytree=0.4, learning_rate=0.015, min_child_samples=5, n_estimators=400, n_jobs=1, num_leaves=70, random_seed=1, subsample=0.8 \n",
      "[CV]  colsample_bytree=0.4, learning_rate=0.01, min_child_samples=40, n_estimators=1600, n_jobs=1, num_leaves=30, random_seed=1, subsample=0.8, score=-16665.182612, total=  13.7s\n",
      "[CV] colsample_bytree=0.4, learning_rate=0.015, min_child_samples=5, n_estimators=400, n_jobs=1, num_leaves=100, random_seed=1, subsample=0.8 \n",
      "[CV]  colsample_bytree=0.4, learning_rate=0.01, min_child_samples=20, n_estimators=1600, n_jobs=1, num_leaves=100, random_seed=1, subsample=0.8, score=-15793.336715, total=  36.2s\n",
      "[CV] colsample_bytree=0.4, learning_rate=0.015, min_child_samples=5, n_estimators=800, n_jobs=1, num_leaves=30, random_seed=1, subsample=0.8 \n",
      "[CV]  colsample_bytree=0.4, learning_rate=0.015, min_child_samples=5, n_estimators=400, n_jobs=1, num_leaves=50, random_seed=1, subsample=0.8, score=-19242.288628, total=   6.1s\n",
      "[CV] colsample_bytree=0.4, learning_rate=0.015, min_child_samples=5, n_estimators=800, n_jobs=1, num_leaves=50, random_seed=1, subsample=0.8 \n",
      "[CV]  colsample_bytree=0.4, learning_rate=0.01, min_child_samples=40, n_estimators=1200, n_jobs=1, num_leaves=100, random_seed=1, subsample=0.8, score=-17250.999617, total=  21.0s\n",
      "[CV] colsample_bytree=0.4, learning_rate=0.015, min_child_samples=5, n_estimators=800, n_jobs=1, num_leaves=70, random_seed=1, subsample=0.8 \n",
      "[CV]  colsample_bytree=0.4, learning_rate=0.015, min_child_samples=5, n_estimators=400, n_jobs=1, num_leaves=70, random_seed=1, subsample=0.8, score=-17301.891086, total=   7.5s\n",
      "[CV] colsample_bytree=0.4, learning_rate=0.015, min_child_samples=5, n_estimators=800, n_jobs=1, num_leaves=100, random_seed=1, subsample=0.8 \n",
      "[CV]  colsample_bytree=0.4, learning_rate=0.01, min_child_samples=40, n_estimators=1600, n_jobs=1, num_leaves=50, random_seed=1, subsample=0.8, score=-17060.083174, total=  19.9s\n",
      "[CV] colsample_bytree=0.4, learning_rate=0.015, min_child_samples=5, n_estimators=1200, n_jobs=1, num_leaves=30, random_seed=1, subsample=0.8 \n",
      "[CV]  colsample_bytree=0.4, learning_rate=0.015, min_child_samples=5, n_estimators=800, n_jobs=1, num_leaves=30, random_seed=1, subsample=0.8, score=-17295.259879, total=   7.5s\n",
      "[CV] colsample_bytree=0.4, learning_rate=0.015, min_child_samples=5, n_estimators=1200, n_jobs=1, num_leaves=50, random_seed=1, subsample=0.8 \n",
      "[CV]  colsample_bytree=0.4, learning_rate=0.015, min_child_samples=5, n_estimators=400, n_jobs=1, num_leaves=100, random_seed=1, subsample=0.8, score=-16795.319326, total=   9.9s\n",
      "[CV] colsample_bytree=0.4, learning_rate=0.015, min_child_samples=5, n_estimators=1200, n_jobs=1, num_leaves=70, random_seed=1, subsample=0.8 \n",
      "[CV]  colsample_bytree=0.4, learning_rate=0.015, min_child_samples=5, n_estimators=800, n_jobs=1, num_leaves=50, random_seed=1, subsample=0.8, score=-19017.351433, total=  11.4s\n"
     ]
    },
    {
     "name": "stdout",
     "output_type": "stream",
     "text": [
      "[CV] colsample_bytree=0.4, learning_rate=0.015, min_child_samples=5, n_estimators=1200, n_jobs=1, num_leaves=100, random_seed=1, subsample=0.8 \n",
      "[CV]  colsample_bytree=0.4, learning_rate=0.01, min_child_samples=40, n_estimators=1600, n_jobs=1, num_leaves=70, random_seed=1, subsample=0.8, score=-16983.368543, total=  26.5s\n",
      "[CV] colsample_bytree=0.4, learning_rate=0.015, min_child_samples=5, n_estimators=1600, n_jobs=1, num_leaves=30, random_seed=1, subsample=0.8 \n",
      "[CV]  colsample_bytree=0.4, learning_rate=0.015, min_child_samples=5, n_estimators=800, n_jobs=1, num_leaves=70, random_seed=1, subsample=0.8, score=-17884.137032, total=  13.9s\n",
      "[CV] colsample_bytree=0.4, learning_rate=0.015, min_child_samples=5, n_estimators=1600, n_jobs=1, num_leaves=50, random_seed=1, subsample=0.8 \n",
      "[CV]  colsample_bytree=0.4, learning_rate=0.015, min_child_samples=5, n_estimators=1200, n_jobs=1, num_leaves=30, random_seed=1, subsample=0.8, score=-17318.610050, total=  10.3s\n",
      "[CV] colsample_bytree=0.4, learning_rate=0.015, min_child_samples=5, n_estimators=1600, n_jobs=1, num_leaves=70, random_seed=1, subsample=0.8 \n",
      "[CV]  colsample_bytree=0.4, learning_rate=0.01, min_child_samples=40, n_estimators=1600, n_jobs=1, num_leaves=100, random_seed=1, subsample=0.8, score=-16925.854266, total=  28.6s\n",
      "[CV] colsample_bytree=0.4, learning_rate=0.015, min_child_samples=5, n_estimators=1600, n_jobs=1, num_leaves=100, random_seed=1, subsample=0.8 \n",
      "[CV]  colsample_bytree=0.4, learning_rate=0.015, min_child_samples=5, n_estimators=1200, n_jobs=1, num_leaves=50, random_seed=1, subsample=0.8, score=-19180.621609, total=  16.4s\n",
      "[CV] colsample_bytree=0.4, learning_rate=0.015, min_child_samples=10, n_estimators=400, n_jobs=1, num_leaves=30, random_seed=1, subsample=0.8 \n",
      "[CV]  colsample_bytree=0.4, learning_rate=0.015, min_child_samples=5, n_estimators=800, n_jobs=1, num_leaves=100, random_seed=1, subsample=0.8, score=-17339.644847, total=  19.3s\n",
      "[CV] colsample_bytree=0.4, learning_rate=0.015, min_child_samples=10, n_estimators=400, n_jobs=1, num_leaves=50, random_seed=1, subsample=0.8 \n",
      "[CV]  colsample_bytree=0.4, learning_rate=0.015, min_child_samples=10, n_estimators=400, n_jobs=1, num_leaves=30, random_seed=1, subsample=0.8, score=-17008.837755, total=   3.5s\n",
      "[CV] colsample_bytree=0.4, learning_rate=0.015, min_child_samples=10, n_estimators=400, n_jobs=1, num_leaves=70, random_seed=1, subsample=0.8 \n",
      "[CV]  colsample_bytree=0.4, learning_rate=0.015, min_child_samples=5, n_estimators=1600, n_jobs=1, num_leaves=30, random_seed=1, subsample=0.8, score=-17440.889032, total=  14.1s\n",
      "[CV] colsample_bytree=0.4, learning_rate=0.015, min_child_samples=10, n_estimators=400, n_jobs=1, num_leaves=100, random_seed=1, subsample=0.8 \n",
      "[CV]  colsample_bytree=0.4, learning_rate=0.015, min_child_samples=10, n_estimators=400, n_jobs=1, num_leaves=50, random_seed=1, subsample=0.8, score=-17851.366043, total=   5.2s\n",
      "[CV] colsample_bytree=0.4, learning_rate=0.015, min_child_samples=10, n_estimators=800, n_jobs=1, num_leaves=30, random_seed=1, subsample=0.8 \n",
      "[CV]  colsample_bytree=0.4, learning_rate=0.015, min_child_samples=5, n_estimators=1200, n_jobs=1, num_leaves=70, random_seed=1, subsample=0.8, score=-18245.684788, total=  21.5s\n",
      "[CV] colsample_bytree=0.4, learning_rate=0.015, min_child_samples=10, n_estimators=800, n_jobs=1, num_leaves=50, random_seed=1, subsample=0.8 \n",
      "[CV]  colsample_bytree=0.4, learning_rate=0.015, min_child_samples=10, n_estimators=400, n_jobs=1, num_leaves=70, random_seed=1, subsample=0.8, score=-19039.791411, total=   6.8s\n",
      "[CV] colsample_bytree=0.4, learning_rate=0.015, min_child_samples=10, n_estimators=800, n_jobs=1, num_leaves=70, random_seed=1, subsample=0.8 \n",
      "[CV]  colsample_bytree=0.4, learning_rate=0.015, min_child_samples=10, n_estimators=800, n_jobs=1, num_leaves=30, random_seed=1, subsample=0.8, score=-17929.384012, total=   6.9s\n",
      "[CV] colsample_bytree=0.4, learning_rate=0.015, min_child_samples=10, n_estimators=800, n_jobs=1, num_leaves=100, random_seed=1, subsample=0.8 \n",
      "[CV]  colsample_bytree=0.4, learning_rate=0.015, min_child_samples=10, n_estimators=400, n_jobs=1, num_leaves=100, random_seed=1, subsample=0.8, score=-17958.160193, total=   8.9s\n",
      "[CV] colsample_bytree=0.4, learning_rate=0.015, min_child_samples=10, n_estimators=1200, n_jobs=1, num_leaves=30, random_seed=1, subsample=0.8 \n",
      "[CV]  colsample_bytree=0.4, learning_rate=0.015, min_child_samples=5, n_estimators=1600, n_jobs=1, num_leaves=50, random_seed=1, subsample=0.8, score=-19183.197119, total=  21.0s\n",
      "[CV] colsample_bytree=0.4, learning_rate=0.015, min_child_samples=10, n_estimators=1200, n_jobs=1, num_leaves=50, random_seed=1, subsample=0.8 \n",
      "[CV]  colsample_bytree=0.4, learning_rate=0.015, min_child_samples=10, n_estimators=800, n_jobs=1, num_leaves=50, random_seed=1, subsample=0.8, score=-18211.122024, total=  10.3s\n",
      "[CV] colsample_bytree=0.4, learning_rate=0.015, min_child_samples=10, n_estimators=1200, n_jobs=1, num_leaves=70, random_seed=1, subsample=0.8 \n",
      "[CV]  colsample_bytree=0.4, learning_rate=0.015, min_child_samples=5, n_estimators=1200, n_jobs=1, num_leaves=100, random_seed=1, subsample=0.8, score=-17407.611573, total=  28.3s\n",
      "[CV] colsample_bytree=0.4, learning_rate=0.015, min_child_samples=10, n_estimators=1200, n_jobs=1, num_leaves=100, random_seed=1, subsample=0.8 \n",
      "[CV]  colsample_bytree=0.4, learning_rate=0.015, min_child_samples=10, n_estimators=800, n_jobs=1, num_leaves=70, random_seed=1, subsample=0.8, score=-19121.233310, total=  13.2s\n",
      "[CV] colsample_bytree=0.4, learning_rate=0.015, min_child_samples=10, n_estimators=1600, n_jobs=1, num_leaves=30, random_seed=1, subsample=0.8 \n",
      "[CV]  colsample_bytree=0.4, learning_rate=0.015, min_child_samples=5, n_estimators=1600, n_jobs=1, num_leaves=70, random_seed=1, subsample=0.8, score=-18310.200130, total=  27.3s\n",
      "[CV] colsample_bytree=0.4, learning_rate=0.015, min_child_samples=10, n_estimators=1600, n_jobs=1, num_leaves=50, random_seed=1, subsample=0.8 \n",
      "[CV]  colsample_bytree=0.4, learning_rate=0.015, min_child_samples=10, n_estimators=1200, n_jobs=1, num_leaves=30, random_seed=1, subsample=0.8, score=-17503.338104, total=  10.1s\n",
      "[CV] colsample_bytree=0.4, learning_rate=0.015, min_child_samples=10, n_estimators=1600, n_jobs=1, num_leaves=70, random_seed=1, subsample=0.8 \n",
      "[CV]  colsample_bytree=0.4, learning_rate=0.015, min_child_samples=10, n_estimators=800, n_jobs=1, num_leaves=100, random_seed=1, subsample=0.8, score=-18452.865755, total=  17.8s\n",
      "[CV] colsample_bytree=0.4, learning_rate=0.015, min_child_samples=10, n_estimators=1600, n_jobs=1, num_leaves=100, random_seed=1, subsample=0.8 \n",
      "[CV]  colsample_bytree=0.4, learning_rate=0.015, min_child_samples=10, n_estimators=1200, n_jobs=1, num_leaves=50, random_seed=1, subsample=0.8, score=-18238.595597, total=  16.2s\n",
      "[CV] colsample_bytree=0.4, learning_rate=0.015, min_child_samples=20, n_estimators=400, n_jobs=1, num_leaves=30, random_seed=1, subsample=0.8 \n",
      "[CV]  colsample_bytree=0.4, learning_rate=0.015, min_child_samples=5, n_estimators=1600, n_jobs=1, num_leaves=100, random_seed=1, subsample=0.8, score=-17447.548671, total=  35.8s\n",
      "[CV] colsample_bytree=0.4, learning_rate=0.015, min_child_samples=20, n_estimators=400, n_jobs=1, num_leaves=50, random_seed=1, subsample=0.8 \n",
      "[CV]  colsample_bytree=0.4, learning_rate=0.015, min_child_samples=20, n_estimators=400, n_jobs=1, num_leaves=30, random_seed=1, subsample=0.8, score=-14801.363128, total=   3.5s\n",
      "[CV] colsample_bytree=0.4, learning_rate=0.015, min_child_samples=20, n_estimators=400, n_jobs=1, num_leaves=70, random_seed=1, subsample=0.8 \n",
      "[CV]  colsample_bytree=0.4, learning_rate=0.015, min_child_samples=10, n_estimators=1600, n_jobs=1, num_leaves=30, random_seed=1, subsample=0.8, score=-17119.573733, total=  13.4s\n",
      "[CV] colsample_bytree=0.4, learning_rate=0.015, min_child_samples=20, n_estimators=400, n_jobs=1, num_leaves=100, random_seed=1, subsample=0.8 \n",
      "[CV]  colsample_bytree=0.4, learning_rate=0.015, min_child_samples=20, n_estimators=400, n_jobs=1, num_leaves=50, random_seed=1, subsample=0.8, score=-15013.862982, total=   5.1s\n",
      "[CV] colsample_bytree=0.4, learning_rate=0.015, min_child_samples=20, n_estimators=800, n_jobs=1, num_leaves=30, random_seed=1, subsample=0.8 \n"
     ]
    },
    {
     "name": "stdout",
     "output_type": "stream",
     "text": [
      "[CV]  colsample_bytree=0.4, learning_rate=0.015, min_child_samples=10, n_estimators=1200, n_jobs=1, num_leaves=70, random_seed=1, subsample=0.8, score=-18794.406253, total=  20.5s\n",
      "[CV] colsample_bytree=0.4, learning_rate=0.015, min_child_samples=20, n_estimators=800, n_jobs=1, num_leaves=50, random_seed=1, subsample=0.8 \n",
      "[CV]  colsample_bytree=0.4, learning_rate=0.015, min_child_samples=20, n_estimators=400, n_jobs=1, num_leaves=70, random_seed=1, subsample=0.8, score=-15353.252315, total=   6.5s\n",
      "[CV] colsample_bytree=0.4, learning_rate=0.015, min_child_samples=20, n_estimators=800, n_jobs=1, num_leaves=70, random_seed=1, subsample=0.8 \n",
      "[CV]  colsample_bytree=0.4, learning_rate=0.015, min_child_samples=20, n_estimators=400, n_jobs=1, num_leaves=100, random_seed=1, subsample=0.8, score=-14881.779261, total=   8.6s\n",
      "[CV] colsample_bytree=0.4, learning_rate=0.015, min_child_samples=20, n_estimators=800, n_jobs=1, num_leaves=100, random_seed=1, subsample=0.8 \n",
      "[CV]  colsample_bytree=0.4, learning_rate=0.015, min_child_samples=20, n_estimators=800, n_jobs=1, num_leaves=30, random_seed=1, subsample=0.8, score=-14216.028550, total=   6.7s\n",
      "[CV] colsample_bytree=0.4, learning_rate=0.015, min_child_samples=20, n_estimators=1200, n_jobs=1, num_leaves=30, random_seed=1, subsample=0.8 \n",
      "[CV]  colsample_bytree=0.4, learning_rate=0.015, min_child_samples=10, n_estimators=1600, n_jobs=1, num_leaves=50, random_seed=1, subsample=0.8, score=-17515.402777, total=  20.6s\n",
      "[CV] colsample_bytree=0.4, learning_rate=0.015, min_child_samples=20, n_estimators=1200, n_jobs=1, num_leaves=50, random_seed=1, subsample=0.8 \n",
      "[CV]  colsample_bytree=0.4, learning_rate=0.015, min_child_samples=10, n_estimators=1200, n_jobs=1, num_leaves=100, random_seed=1, subsample=0.8, score=-18044.868704, total=  26.2s\n",
      "[CV] colsample_bytree=0.4, learning_rate=0.015, min_child_samples=20, n_estimators=1200, n_jobs=1, num_leaves=70, random_seed=1, subsample=0.8 \n",
      "[CV]  colsample_bytree=0.4, learning_rate=0.015, min_child_samples=20, n_estimators=800, n_jobs=1, num_leaves=50, random_seed=1, subsample=0.8, score=-14705.595228, total=  10.5s\n",
      "[CV] colsample_bytree=0.4, learning_rate=0.015, min_child_samples=20, n_estimators=1200, n_jobs=1, num_leaves=100, random_seed=1, subsample=0.8 \n",
      "[CV]  colsample_bytree=0.4, learning_rate=0.015, min_child_samples=10, n_estimators=1600, n_jobs=1, num_leaves=70, random_seed=1, subsample=0.8, score=-18330.550909, total=  26.1s\n",
      "[CV] colsample_bytree=0.4, learning_rate=0.015, min_child_samples=20, n_estimators=1600, n_jobs=1, num_leaves=30, random_seed=1, subsample=0.8 \n",
      "[CV]  colsample_bytree=0.4, learning_rate=0.015, min_child_samples=20, n_estimators=1200, n_jobs=1, num_leaves=30, random_seed=1, subsample=0.8, score=-14163.828098, total=  10.1s\n",
      "[CV] colsample_bytree=0.4, learning_rate=0.015, min_child_samples=20, n_estimators=1600, n_jobs=1, num_leaves=50, random_seed=1, subsample=0.8 \n",
      "[CV]  colsample_bytree=0.4, learning_rate=0.015, min_child_samples=20, n_estimators=800, n_jobs=1, num_leaves=70, random_seed=1, subsample=0.8, score=-14983.174844, total=  13.3s\n",
      "[CV] colsample_bytree=0.4, learning_rate=0.015, min_child_samples=20, n_estimators=1600, n_jobs=1, num_leaves=70, random_seed=1, subsample=0.8 \n",
      "[CV]  colsample_bytree=0.4, learning_rate=0.015, min_child_samples=20, n_estimators=1200, n_jobs=1, num_leaves=50, random_seed=1, subsample=0.8, score=-14490.037999, total=  14.8s\n",
      "[CV] colsample_bytree=0.4, learning_rate=0.015, min_child_samples=20, n_estimators=1600, n_jobs=1, num_leaves=100, random_seed=1, subsample=0.8 \n",
      "[CV]  colsample_bytree=0.4, learning_rate=0.015, min_child_samples=20, n_estimators=800, n_jobs=1, num_leaves=100, random_seed=1, subsample=0.8, score=-15173.294042, total=  17.3s\n",
      "[CV] colsample_bytree=0.4, learning_rate=0.015, min_child_samples=40, n_estimators=400, n_jobs=1, num_leaves=30, random_seed=1, subsample=0.8 \n",
      "[CV]  colsample_bytree=0.4, learning_rate=0.015, min_child_samples=40, n_estimators=400, n_jobs=1, num_leaves=30, random_seed=1, subsample=0.8, score=-18410.907568, total=   3.5s\n",
      "[CV] colsample_bytree=0.4, learning_rate=0.015, min_child_samples=40, n_estimators=400, n_jobs=1, num_leaves=50, random_seed=1, subsample=0.8 \n",
      "[CV]  colsample_bytree=0.4, learning_rate=0.015, min_child_samples=20, n_estimators=1600, n_jobs=1, num_leaves=30, random_seed=1, subsample=0.8, score=-13539.027415, total=  13.3s\n",
      "[CV] colsample_bytree=0.4, learning_rate=0.015, min_child_samples=40, n_estimators=400, n_jobs=1, num_leaves=70, random_seed=1, subsample=0.8 \n",
      "[CV]  colsample_bytree=0.4, learning_rate=0.015, min_child_samples=20, n_estimators=1200, n_jobs=1, num_leaves=70, random_seed=1, subsample=0.8, score=-15035.075883, total=  18.8s\n",
      "[CV] colsample_bytree=0.4, learning_rate=0.015, min_child_samples=40, n_estimators=400, n_jobs=1, num_leaves=100, random_seed=1, subsample=0.8 \n",
      "[CV]  colsample_bytree=0.4, learning_rate=0.015, min_child_samples=10, n_estimators=1600, n_jobs=1, num_leaves=100, random_seed=1, subsample=0.8, score=-17774.400916, total=  34.3s\n",
      "[CV] colsample_bytree=0.4, learning_rate=0.015, min_child_samples=40, n_estimators=800, n_jobs=1, num_leaves=30, random_seed=1, subsample=0.8 \n",
      "[CV]  colsample_bytree=0.4, learning_rate=0.015, min_child_samples=40, n_estimators=400, n_jobs=1, num_leaves=50, random_seed=1, subsample=0.8, score=-19242.075060, total=   5.1s\n",
      "[CV] colsample_bytree=0.4, learning_rate=0.015, min_child_samples=40, n_estimators=800, n_jobs=1, num_leaves=50, random_seed=1, subsample=0.8 \n",
      "[CV]  colsample_bytree=0.4, learning_rate=0.015, min_child_samples=40, n_estimators=400, n_jobs=1, num_leaves=70, random_seed=1, subsample=0.8, score=-19431.904117, total=   6.4s\n",
      "[CV] colsample_bytree=0.4, learning_rate=0.015, min_child_samples=40, n_estimators=800, n_jobs=1, num_leaves=70, random_seed=1, subsample=0.8 \n",
      "[CV]  colsample_bytree=0.4, learning_rate=0.015, min_child_samples=40, n_estimators=400, n_jobs=1, num_leaves=100, random_seed=1, subsample=0.8, score=-19601.311970, total=   6.7s\n",
      "[CV] colsample_bytree=0.4, learning_rate=0.015, min_child_samples=40, n_estimators=800, n_jobs=1, num_leaves=100, random_seed=1, subsample=0.8 \n"
     ]
    },
    {
     "name": "stderr",
     "output_type": "stream",
     "text": [
      "[Parallel(n_jobs=-1)]: Done 112 tasks      | elapsed:  4.1min\n"
     ]
    },
    {
     "name": "stdout",
     "output_type": "stream",
     "text": [
      "[CV]  colsample_bytree=0.4, learning_rate=0.015, min_child_samples=40, n_estimators=800, n_jobs=1, num_leaves=30, random_seed=1, subsample=0.8, score=-16950.560412, total=   6.7s\n",
      "[CV] colsample_bytree=0.4, learning_rate=0.015, min_child_samples=40, n_estimators=1200, n_jobs=1, num_leaves=30, random_seed=1, subsample=0.8 \n",
      "[CV]  colsample_bytree=0.4, learning_rate=0.015, min_child_samples=20, n_estimators=1600, n_jobs=1, num_leaves=50, random_seed=1, subsample=0.8, score=-14145.345920, total=  19.6s\n",
      "[CV] colsample_bytree=0.4, learning_rate=0.015, min_child_samples=40, n_estimators=1200, n_jobs=1, num_leaves=50, random_seed=1, subsample=0.8 \n",
      "[CV]  colsample_bytree=0.4, learning_rate=0.015, min_child_samples=20, n_estimators=1200, n_jobs=1, num_leaves=100, random_seed=1, subsample=0.8, score=-14988.398076, total=  25.9s\n",
      "[CV] colsample_bytree=0.4, learning_rate=0.015, min_child_samples=40, n_estimators=1200, n_jobs=1, num_leaves=70, random_seed=1, subsample=0.8 \n",
      "[CV]  colsample_bytree=0.4, learning_rate=0.015, min_child_samples=40, n_estimators=800, n_jobs=1, num_leaves=50, random_seed=1, subsample=0.8, score=-17704.778451, total=   9.8s\n",
      "[CV] colsample_bytree=0.4, learning_rate=0.015, min_child_samples=40, n_estimators=1200, n_jobs=1, num_leaves=100, random_seed=1, subsample=0.8 \n",
      "[CV]  colsample_bytree=0.4, learning_rate=0.015, min_child_samples=20, n_estimators=1600, n_jobs=1, num_leaves=70, random_seed=1, subsample=0.8, score=-14660.031250, total=  26.0s\n",
      "[CV] colsample_bytree=0.4, learning_rate=0.015, min_child_samples=40, n_estimators=1600, n_jobs=1, num_leaves=30, random_seed=1, subsample=0.8 \n",
      "[CV]  colsample_bytree=0.4, learning_rate=0.015, min_child_samples=40, n_estimators=1200, n_jobs=1, num_leaves=30, random_seed=1, subsample=0.8, score=-16478.245992, total=  10.4s\n",
      "[CV] colsample_bytree=0.4, learning_rate=0.015, min_child_samples=40, n_estimators=1600, n_jobs=1, num_leaves=50, random_seed=1, subsample=0.8 \n",
      "[CV]  colsample_bytree=0.4, learning_rate=0.015, min_child_samples=40, n_estimators=800, n_jobs=1, num_leaves=70, random_seed=1, subsample=0.8, score=-17801.064420, total=  12.4s\n",
      "[CV] colsample_bytree=0.4, learning_rate=0.015, min_child_samples=40, n_estimators=1600, n_jobs=1, num_leaves=70, random_seed=1, subsample=0.8 \n",
      "[CV]  colsample_bytree=0.4, learning_rate=0.015, min_child_samples=40, n_estimators=800, n_jobs=1, num_leaves=100, random_seed=1, subsample=0.8, score=-17821.943697, total=  14.2s\n",
      "[CV] colsample_bytree=0.4, learning_rate=0.015, min_child_samples=40, n_estimators=1600, n_jobs=1, num_leaves=100, random_seed=1, subsample=0.8 \n",
      "[CV]  colsample_bytree=0.4, learning_rate=0.015, min_child_samples=40, n_estimators=1200, n_jobs=1, num_leaves=50, random_seed=1, subsample=0.8, score=-17106.756074, total=  15.1s\n",
      "[CV] colsample_bytree=0.4, learning_rate=0.02, min_child_samples=5, n_estimators=400, n_jobs=1, num_leaves=30, random_seed=1, subsample=0.8 \n",
      "[CV]  colsample_bytree=0.4, learning_rate=0.02, min_child_samples=5, n_estimators=400, n_jobs=1, num_leaves=30, random_seed=1, subsample=0.8, score=-18462.572077, total=   3.5s\n",
      "[CV] colsample_bytree=0.4, learning_rate=0.02, min_child_samples=5, n_estimators=400, n_jobs=1, num_leaves=50, random_seed=1, subsample=0.8 \n",
      "[CV]  colsample_bytree=0.4, learning_rate=0.015, min_child_samples=40, n_estimators=1200, n_jobs=1, num_leaves=70, random_seed=1, subsample=0.8, score=-17288.494158, total=  18.4s\n",
      "[CV] colsample_bytree=0.4, learning_rate=0.02, min_child_samples=5, n_estimators=400, n_jobs=1, num_leaves=70, random_seed=1, subsample=0.8 \n",
      "[CV]  colsample_bytree=0.4, learning_rate=0.015, min_child_samples=20, n_estimators=1600, n_jobs=1, num_leaves=100, random_seed=1, subsample=0.8, score=-14638.279624, total=  34.4s\n",
      "[CV] colsample_bytree=0.4, learning_rate=0.02, min_child_samples=5, n_estimators=400, n_jobs=1, num_leaves=100, random_seed=1, subsample=0.8 \n",
      "[CV]  colsample_bytree=0.4, learning_rate=0.015, min_child_samples=40, n_estimators=1600, n_jobs=1, num_leaves=30, random_seed=1, subsample=0.8, score=-16325.819919, total=  13.3s\n",
      "[CV] colsample_bytree=0.4, learning_rate=0.02, min_child_samples=5, n_estimators=800, n_jobs=1, num_leaves=30, random_seed=1, subsample=0.8 \n",
      "[CV]  colsample_bytree=0.4, learning_rate=0.02, min_child_samples=5, n_estimators=400, n_jobs=1, num_leaves=50, random_seed=1, subsample=0.8, score=-19379.787911, total=   5.4s\n",
      "[CV] colsample_bytree=0.4, learning_rate=0.02, min_child_samples=5, n_estimators=800, n_jobs=1, num_leaves=50, random_seed=1, subsample=0.8 \n",
      "[CV]  colsample_bytree=0.4, learning_rate=0.015, min_child_samples=40, n_estimators=1200, n_jobs=1, num_leaves=100, random_seed=1, subsample=0.8, score=-16968.798896, total=  20.5s\n",
      "[CV] colsample_bytree=0.4, learning_rate=0.02, min_child_samples=5, n_estimators=800, n_jobs=1, num_leaves=70, random_seed=1, subsample=0.8 \n",
      "[CV]  colsample_bytree=0.4, learning_rate=0.02, min_child_samples=5, n_estimators=400, n_jobs=1, num_leaves=70, random_seed=1, subsample=0.8, score=-21511.150151, total=   7.0s\n",
      "[CV] colsample_bytree=0.4, learning_rate=0.02, min_child_samples=5, n_estimators=800, n_jobs=1, num_leaves=100, random_seed=1, subsample=0.8 \n",
      "[CV]  colsample_bytree=0.4, learning_rate=0.02, min_child_samples=5, n_estimators=800, n_jobs=1, num_leaves=30, random_seed=1, subsample=0.8, score=-18893.373594, total=   6.9s\n",
      "[CV] colsample_bytree=0.4, learning_rate=0.02, min_child_samples=5, n_estimators=1200, n_jobs=1, num_leaves=30, random_seed=1, subsample=0.8 \n",
      "[CV]  colsample_bytree=0.4, learning_rate=0.02, min_child_samples=5, n_estimators=400, n_jobs=1, num_leaves=100, random_seed=1, subsample=0.8, score=-19716.551603, total=   9.6s\n",
      "[CV] colsample_bytree=0.4, learning_rate=0.02, min_child_samples=5, n_estimators=1200, n_jobs=1, num_leaves=50, random_seed=1, subsample=0.8 \n",
      "[CV]  colsample_bytree=0.4, learning_rate=0.015, min_child_samples=40, n_estimators=1600, n_jobs=1, num_leaves=50, random_seed=1, subsample=0.8, score=-16881.888627, total=  20.0s\n",
      "[CV] colsample_bytree=0.4, learning_rate=0.02, min_child_samples=5, n_estimators=1200, n_jobs=1, num_leaves=70, random_seed=1, subsample=0.8 \n",
      "[CV]  colsample_bytree=0.4, learning_rate=0.02, min_child_samples=5, n_estimators=800, n_jobs=1, num_leaves=50, random_seed=1, subsample=0.8, score=-19574.062005, total=  10.3s\n",
      "[CV] colsample_bytree=0.4, learning_rate=0.02, min_child_samples=5, n_estimators=1200, n_jobs=1, num_leaves=100, random_seed=1, subsample=0.8 \n",
      "[CV]  colsample_bytree=0.4, learning_rate=0.015, min_child_samples=40, n_estimators=1600, n_jobs=1, num_leaves=70, random_seed=1, subsample=0.8, score=-17009.417754, total=  25.1s\n",
      "[CV] colsample_bytree=0.4, learning_rate=0.02, min_child_samples=5, n_estimators=1600, n_jobs=1, num_leaves=30, random_seed=1, subsample=0.8 \n",
      "[CV]  colsample_bytree=0.4, learning_rate=0.02, min_child_samples=5, n_estimators=800, n_jobs=1, num_leaves=70, random_seed=1, subsample=0.8, score=-21616.230106, total=  13.6s\n",
      "[CV] colsample_bytree=0.4, learning_rate=0.02, min_child_samples=5, n_estimators=1600, n_jobs=1, num_leaves=50, random_seed=1, subsample=0.8 \n",
      "[CV]  colsample_bytree=0.4, learning_rate=0.02, min_child_samples=5, n_estimators=1200, n_jobs=1, num_leaves=30, random_seed=1, subsample=0.8, score=-19009.530894, total=  10.3s\n",
      "[CV] colsample_bytree=0.4, learning_rate=0.02, min_child_samples=5, n_estimators=1600, n_jobs=1, num_leaves=70, random_seed=1, subsample=0.8 \n",
      "[CV]  colsample_bytree=0.4, learning_rate=0.015, min_child_samples=40, n_estimators=1600, n_jobs=1, num_leaves=100, random_seed=1, subsample=0.8, score=-16693.068563, total=  28.4s\n",
      "[CV] colsample_bytree=0.4, learning_rate=0.02, min_child_samples=5, n_estimators=1600, n_jobs=1, num_leaves=100, random_seed=1, subsample=0.8 \n",
      "[CV]  colsample_bytree=0.4, learning_rate=0.02, min_child_samples=5, n_estimators=1200, n_jobs=1, num_leaves=50, random_seed=1, subsample=0.8, score=-19670.917125, total=  15.2s\n",
      "[CV] colsample_bytree=0.4, learning_rate=0.02, min_child_samples=10, n_estimators=400, n_jobs=1, num_leaves=30, random_seed=1, subsample=0.8 \n",
      "[CV]  colsample_bytree=0.4, learning_rate=0.02, min_child_samples=5, n_estimators=800, n_jobs=1, num_leaves=100, random_seed=1, subsample=0.8, score=-19879.312417, total=  18.8s\n"
     ]
    },
    {
     "name": "stdout",
     "output_type": "stream",
     "text": [
      "[CV] colsample_bytree=0.4, learning_rate=0.02, min_child_samples=10, n_estimators=400, n_jobs=1, num_leaves=50, random_seed=1, subsample=0.8 \n",
      "[CV]  colsample_bytree=0.4, learning_rate=0.02, min_child_samples=10, n_estimators=400, n_jobs=1, num_leaves=30, random_seed=1, subsample=0.8, score=-16662.660881, total=   3.5s\n",
      "[CV] colsample_bytree=0.4, learning_rate=0.02, min_child_samples=10, n_estimators=400, n_jobs=1, num_leaves=70, random_seed=1, subsample=0.8 \n",
      "[CV]  colsample_bytree=0.4, learning_rate=0.02, min_child_samples=5, n_estimators=1600, n_jobs=1, num_leaves=30, random_seed=1, subsample=0.8, score=-19234.227738, total=  13.8s\n",
      "[CV] colsample_bytree=0.4, learning_rate=0.02, min_child_samples=10, n_estimators=400, n_jobs=1, num_leaves=100, random_seed=1, subsample=0.8 \n",
      "[CV]  colsample_bytree=0.4, learning_rate=0.02, min_child_samples=10, n_estimators=400, n_jobs=1, num_leaves=50, random_seed=1, subsample=0.8, score=-17991.084027, total=   5.3s\n",
      "[CV] colsample_bytree=0.4, learning_rate=0.02, min_child_samples=10, n_estimators=800, n_jobs=1, num_leaves=30, random_seed=1, subsample=0.8 \n",
      "[CV]  colsample_bytree=0.4, learning_rate=0.02, min_child_samples=5, n_estimators=1200, n_jobs=1, num_leaves=70, random_seed=1, subsample=0.8, score=-21545.077481, total=  20.3s\n",
      "[CV] colsample_bytree=0.4, learning_rate=0.02, min_child_samples=10, n_estimators=800, n_jobs=1, num_leaves=50, random_seed=1, subsample=0.8 \n",
      "[CV]  colsample_bytree=0.4, learning_rate=0.02, min_child_samples=10, n_estimators=400, n_jobs=1, num_leaves=70, random_seed=1, subsample=0.8, score=-17109.181315, total=   6.9s\n",
      "[CV] colsample_bytree=0.4, learning_rate=0.02, min_child_samples=10, n_estimators=800, n_jobs=1, num_leaves=70, random_seed=1, subsample=0.8 \n",
      "[CV]  colsample_bytree=0.4, learning_rate=0.02, min_child_samples=10, n_estimators=800, n_jobs=1, num_leaves=30, random_seed=1, subsample=0.8, score=-16470.129265, total=   6.9s\n",
      "[CV] colsample_bytree=0.4, learning_rate=0.02, min_child_samples=10, n_estimators=800, n_jobs=1, num_leaves=100, random_seed=1, subsample=0.8 \n",
      "[CV]  colsample_bytree=0.4, learning_rate=0.02, min_child_samples=10, n_estimators=400, n_jobs=1, num_leaves=100, random_seed=1, subsample=0.8, score=-17788.702732, total=   8.9s\n",
      "[CV] colsample_bytree=0.4, learning_rate=0.02, min_child_samples=10, n_estimators=1200, n_jobs=1, num_leaves=30, random_seed=1, subsample=0.8 \n",
      "[CV]  colsample_bytree=0.4, learning_rate=0.02, min_child_samples=5, n_estimators=1600, n_jobs=1, num_leaves=50, random_seed=1, subsample=0.8, score=-19787.645592, total=  20.2s\n",
      "[CV] colsample_bytree=0.4, learning_rate=0.02, min_child_samples=10, n_estimators=1200, n_jobs=1, num_leaves=50, random_seed=1, subsample=0.8 \n",
      "[CV]  colsample_bytree=0.4, learning_rate=0.02, min_child_samples=10, n_estimators=800, n_jobs=1, num_leaves=50, random_seed=1, subsample=0.8, score=-17598.259074, total=  10.3s\n",
      "[CV] colsample_bytree=0.4, learning_rate=0.02, min_child_samples=10, n_estimators=1200, n_jobs=1, num_leaves=70, random_seed=1, subsample=0.8 \n",
      "[CV]  colsample_bytree=0.4, learning_rate=0.02, min_child_samples=5, n_estimators=1200, n_jobs=1, num_leaves=100, random_seed=1, subsample=0.8, score=-19821.181809, total=  27.5s\n",
      "[CV] colsample_bytree=0.4, learning_rate=0.02, min_child_samples=10, n_estimators=1200, n_jobs=1, num_leaves=100, random_seed=1, subsample=0.8 \n",
      "[CV]  colsample_bytree=0.4, learning_rate=0.02, min_child_samples=5, n_estimators=1600, n_jobs=1, num_leaves=70, random_seed=1, subsample=0.8, score=-21593.789959, total=  26.8s\n",
      "[CV] colsample_bytree=0.4, learning_rate=0.02, min_child_samples=10, n_estimators=1600, n_jobs=1, num_leaves=30, random_seed=1, subsample=0.8 \n",
      "[CV]  colsample_bytree=0.4, learning_rate=0.02, min_child_samples=10, n_estimators=800, n_jobs=1, num_leaves=70, random_seed=1, subsample=0.8, score=-17258.483928, total=  13.1s\n",
      "[CV] colsample_bytree=0.4, learning_rate=0.02, min_child_samples=10, n_estimators=1600, n_jobs=1, num_leaves=50, random_seed=1, subsample=0.8 \n",
      "[CV]  colsample_bytree=0.4, learning_rate=0.02, min_child_samples=10, n_estimators=1200, n_jobs=1, num_leaves=30, random_seed=1, subsample=0.8, score=-16321.613064, total=  10.1s\n",
      "[CV] colsample_bytree=0.4, learning_rate=0.02, min_child_samples=10, n_estimators=1600, n_jobs=1, num_leaves=70, random_seed=1, subsample=0.8 \n",
      "[CV]  colsample_bytree=0.4, learning_rate=0.02, min_child_samples=10, n_estimators=1200, n_jobs=1, num_leaves=50, random_seed=1, subsample=0.8, score=-17449.160108, total=  15.2s\n",
      "[CV] colsample_bytree=0.4, learning_rate=0.02, min_child_samples=10, n_estimators=1600, n_jobs=1, num_leaves=100, random_seed=1, subsample=0.8 \n",
      "[CV]  colsample_bytree=0.4, learning_rate=0.02, min_child_samples=10, n_estimators=800, n_jobs=1, num_leaves=100, random_seed=1, subsample=0.8, score=-17696.328900, total=  17.8s\n",
      "[CV] colsample_bytree=0.4, learning_rate=0.02, min_child_samples=20, n_estimators=400, n_jobs=1, num_leaves=30, random_seed=1, subsample=0.8 \n",
      "[CV]  colsample_bytree=0.4, learning_rate=0.02, min_child_samples=20, n_estimators=400, n_jobs=1, num_leaves=30, random_seed=1, subsample=0.8, score=-15963.857459, total=   3.4s\n",
      "[CV] colsample_bytree=0.4, learning_rate=0.02, min_child_samples=20, n_estimators=400, n_jobs=1, num_leaves=50, random_seed=1, subsample=0.8 \n",
      "[CV]  colsample_bytree=0.4, learning_rate=0.02, min_child_samples=5, n_estimators=1600, n_jobs=1, num_leaves=100, random_seed=1, subsample=0.8, score=-19870.535462, total=  36.2s\n",
      "[CV] colsample_bytree=0.4, learning_rate=0.02, min_child_samples=20, n_estimators=400, n_jobs=1, num_leaves=70, random_seed=1, subsample=0.8 \n",
      "[CV]  colsample_bytree=0.4, learning_rate=0.02, min_child_samples=10, n_estimators=1600, n_jobs=1, num_leaves=30, random_seed=1, subsample=0.8, score=-15931.085216, total=  13.1s\n",
      "[CV] colsample_bytree=0.4, learning_rate=0.02, min_child_samples=20, n_estimators=400, n_jobs=1, num_leaves=100, random_seed=1, subsample=0.8 \n",
      "[CV]  colsample_bytree=0.4, learning_rate=0.02, min_child_samples=10, n_estimators=1200, n_jobs=1, num_leaves=70, random_seed=1, subsample=0.8, score=-17020.358546, total=  19.4s\n",
      "[CV] colsample_bytree=0.4, learning_rate=0.02, min_child_samples=20, n_estimators=800, n_jobs=1, num_leaves=30, random_seed=1, subsample=0.8 \n",
      "[CV]  colsample_bytree=0.4, learning_rate=0.02, min_child_samples=20, n_estimators=400, n_jobs=1, num_leaves=50, random_seed=1, subsample=0.8, score=-15655.267329, total=   5.3s\n",
      "[CV] colsample_bytree=0.4, learning_rate=0.02, min_child_samples=20, n_estimators=800, n_jobs=1, num_leaves=50, random_seed=1, subsample=0.8 \n",
      "[CV]  colsample_bytree=0.4, learning_rate=0.02, min_child_samples=20, n_estimators=400, n_jobs=1, num_leaves=70, random_seed=1, subsample=0.8, score=-16845.237173, total=   6.6s\n",
      "[CV] colsample_bytree=0.4, learning_rate=0.02, min_child_samples=20, n_estimators=800, n_jobs=1, num_leaves=70, random_seed=1, subsample=0.8 \n",
      "[CV]  colsample_bytree=0.4, learning_rate=0.02, min_child_samples=20, n_estimators=400, n_jobs=1, num_leaves=100, random_seed=1, subsample=0.8, score=-17009.864253, total=   8.6s\n",
      "[CV] colsample_bytree=0.4, learning_rate=0.02, min_child_samples=20, n_estimators=800, n_jobs=1, num_leaves=100, random_seed=1, subsample=0.8 \n",
      "[CV]  colsample_bytree=0.4, learning_rate=0.02, min_child_samples=10, n_estimators=1600, n_jobs=1, num_leaves=50, random_seed=1, subsample=0.8, score=-16960.603106, total=  20.5s\n",
      "[CV] colsample_bytree=0.4, learning_rate=0.02, min_child_samples=20, n_estimators=1200, n_jobs=1, num_leaves=30, random_seed=1, subsample=0.8 \n",
      "[CV]  colsample_bytree=0.4, learning_rate=0.02, min_child_samples=10, n_estimators=1200, n_jobs=1, num_leaves=100, random_seed=1, subsample=0.8, score=-17304.254855, total=  26.1s\n",
      "[CV] colsample_bytree=0.4, learning_rate=0.02, min_child_samples=20, n_estimators=1200, n_jobs=1, num_leaves=50, random_seed=1, subsample=0.8 \n",
      "[CV]  colsample_bytree=0.4, learning_rate=0.02, min_child_samples=20, n_estimators=800, n_jobs=1, num_leaves=30, random_seed=1, subsample=0.8, score=-15500.809488, total=   7.3s\n",
      "[CV] colsample_bytree=0.4, learning_rate=0.02, min_child_samples=20, n_estimators=1200, n_jobs=1, num_leaves=70, random_seed=1, subsample=0.8 \n",
      "[CV]  colsample_bytree=0.4, learning_rate=0.02, min_child_samples=20, n_estimators=800, n_jobs=1, num_leaves=50, random_seed=1, subsample=0.8, score=-15184.687499, total=   9.9s\n"
     ]
    },
    {
     "name": "stdout",
     "output_type": "stream",
     "text": [
      "[CV] colsample_bytree=0.4, learning_rate=0.02, min_child_samples=20, n_estimators=1200, n_jobs=1, num_leaves=100, random_seed=1, subsample=0.8 \n",
      "[CV]  colsample_bytree=0.4, learning_rate=0.02, min_child_samples=10, n_estimators=1600, n_jobs=1, num_leaves=70, random_seed=1, subsample=0.8, score=-16416.534724, total=  25.8s\n",
      "[CV] colsample_bytree=0.4, learning_rate=0.02, min_child_samples=20, n_estimators=1600, n_jobs=1, num_leaves=30, random_seed=1, subsample=0.8 \n",
      "[CV]  colsample_bytree=0.4, learning_rate=0.02, min_child_samples=20, n_estimators=800, n_jobs=1, num_leaves=70, random_seed=1, subsample=0.8, score=-16186.698492, total=  13.2s\n",
      "[CV] colsample_bytree=0.4, learning_rate=0.02, min_child_samples=20, n_estimators=1600, n_jobs=1, num_leaves=50, random_seed=1, subsample=0.8 \n",
      "[CV]  colsample_bytree=0.4, learning_rate=0.02, min_child_samples=20, n_estimators=1200, n_jobs=1, num_leaves=30, random_seed=1, subsample=0.8, score=-15202.747418, total=  10.1s\n",
      "[CV] colsample_bytree=0.4, learning_rate=0.02, min_child_samples=20, n_estimators=1600, n_jobs=1, num_leaves=70, random_seed=1, subsample=0.8 \n",
      "[CV]  colsample_bytree=0.4, learning_rate=0.02, min_child_samples=20, n_estimators=1200, n_jobs=1, num_leaves=50, random_seed=1, subsample=0.8, score=-14970.310843, total=  14.8s\n",
      "[CV] colsample_bytree=0.4, learning_rate=0.02, min_child_samples=20, n_estimators=1600, n_jobs=1, num_leaves=100, random_seed=1, subsample=0.8 \n",
      "[CV]  colsample_bytree=0.4, learning_rate=0.02, min_child_samples=20, n_estimators=800, n_jobs=1, num_leaves=100, random_seed=1, subsample=0.8, score=-16235.049369, total=  17.1s\n",
      "[CV] colsample_bytree=0.4, learning_rate=0.02, min_child_samples=40, n_estimators=400, n_jobs=1, num_leaves=30, random_seed=1, subsample=0.8 \n",
      "[CV]  colsample_bytree=0.4, learning_rate=0.02, min_child_samples=40, n_estimators=400, n_jobs=1, num_leaves=30, random_seed=1, subsample=0.8, score=-17409.032361, total=   3.6s\n",
      "[CV] colsample_bytree=0.4, learning_rate=0.02, min_child_samples=40, n_estimators=400, n_jobs=1, num_leaves=50, random_seed=1, subsample=0.8 \n",
      "[CV]  colsample_bytree=0.4, learning_rate=0.02, min_child_samples=20, n_estimators=1200, n_jobs=1, num_leaves=70, random_seed=1, subsample=0.8, score=-15641.846445, total=  18.8s\n",
      "[CV] colsample_bytree=0.4, learning_rate=0.02, min_child_samples=40, n_estimators=400, n_jobs=1, num_leaves=70, random_seed=1, subsample=0.8 \n",
      "[CV]  colsample_bytree=0.4, learning_rate=0.02, min_child_samples=20, n_estimators=1600, n_jobs=1, num_leaves=30, random_seed=1, subsample=0.8, score=-14771.709330, total=  13.5s\n",
      "[CV] colsample_bytree=0.4, learning_rate=0.02, min_child_samples=40, n_estimators=400, n_jobs=1, num_leaves=100, random_seed=1, subsample=0.8 \n",
      "[CV]  colsample_bytree=0.4, learning_rate=0.02, min_child_samples=10, n_estimators=1600, n_jobs=1, num_leaves=100, random_seed=1, subsample=0.8, score=-16919.994590, total=  35.1s\n",
      "[CV] colsample_bytree=0.4, learning_rate=0.02, min_child_samples=40, n_estimators=800, n_jobs=1, num_leaves=30, random_seed=1, subsample=0.8 \n",
      "[CV]  colsample_bytree=0.4, learning_rate=0.02, min_child_samples=40, n_estimators=400, n_jobs=1, num_leaves=50, random_seed=1, subsample=0.8, score=-18137.884659, total=   5.2s\n",
      "[CV] colsample_bytree=0.4, learning_rate=0.02, min_child_samples=40, n_estimators=800, n_jobs=1, num_leaves=50, random_seed=1, subsample=0.8 \n",
      "[CV]  colsample_bytree=0.4, learning_rate=0.02, min_child_samples=40, n_estimators=400, n_jobs=1, num_leaves=70, random_seed=1, subsample=0.8, score=-17932.050435, total=   6.1s\n",
      "[CV] colsample_bytree=0.4, learning_rate=0.02, min_child_samples=40, n_estimators=800, n_jobs=1, num_leaves=70, random_seed=1, subsample=0.8 \n",
      "[CV]  colsample_bytree=0.4, learning_rate=0.02, min_child_samples=40, n_estimators=400, n_jobs=1, num_leaves=100, random_seed=1, subsample=0.8, score=-18290.845104, total=   6.7s\n",
      "[CV] colsample_bytree=0.4, learning_rate=0.02, min_child_samples=40, n_estimators=800, n_jobs=1, num_leaves=100, random_seed=1, subsample=0.8 \n",
      "[CV]  colsample_bytree=0.4, learning_rate=0.02, min_child_samples=40, n_estimators=800, n_jobs=1, num_leaves=30, random_seed=1, subsample=0.8, score=-15721.434811, total=   7.1s\n",
      "[CV] colsample_bytree=0.4, learning_rate=0.02, min_child_samples=40, n_estimators=1200, n_jobs=1, num_leaves=30, random_seed=1, subsample=0.8 \n",
      "[CV]  colsample_bytree=0.4, learning_rate=0.02, min_child_samples=20, n_estimators=1200, n_jobs=1, num_leaves=100, random_seed=1, subsample=0.8, score=-16035.253821, total=  25.5s\n",
      "[CV] colsample_bytree=0.4, learning_rate=0.02, min_child_samples=40, n_estimators=1200, n_jobs=1, num_leaves=50, random_seed=1, subsample=0.8 \n",
      "[CV]  colsample_bytree=0.4, learning_rate=0.02, min_child_samples=20, n_estimators=1600, n_jobs=1, num_leaves=50, random_seed=1, subsample=0.8, score=-14436.047612, total=  19.8s\n",
      "[CV] colsample_bytree=0.4, learning_rate=0.02, min_child_samples=40, n_estimators=1200, n_jobs=1, num_leaves=70, random_seed=1, subsample=0.8 \n",
      "[CV]  colsample_bytree=0.4, learning_rate=0.02, min_child_samples=40, n_estimators=800, n_jobs=1, num_leaves=50, random_seed=1, subsample=0.8, score=-16760.478726, total=   9.8s\n",
      "[CV] colsample_bytree=0.4, learning_rate=0.02, min_child_samples=40, n_estimators=1200, n_jobs=1, num_leaves=100, random_seed=1, subsample=0.8 \n",
      "[CV]  colsample_bytree=0.4, learning_rate=0.02, min_child_samples=20, n_estimators=1600, n_jobs=1, num_leaves=70, random_seed=1, subsample=0.8, score=-15179.523876, total=  25.5s\n",
      "[CV] colsample_bytree=0.4, learning_rate=0.02, min_child_samples=40, n_estimators=1600, n_jobs=1, num_leaves=30, random_seed=1, subsample=0.8 \n",
      "[CV]  colsample_bytree=0.4, learning_rate=0.02, min_child_samples=40, n_estimators=800, n_jobs=1, num_leaves=70, random_seed=1, subsample=0.8, score=-16358.184166, total=  12.4s\n",
      "[CV] colsample_bytree=0.4, learning_rate=0.02, min_child_samples=40, n_estimators=1600, n_jobs=1, num_leaves=50, random_seed=1, subsample=0.8 \n",
      "[CV]  colsample_bytree=0.4, learning_rate=0.02, min_child_samples=40, n_estimators=1200, n_jobs=1, num_leaves=30, random_seed=1, subsample=0.8, score=-14990.838616, total=  10.2s\n",
      "[CV] colsample_bytree=0.4, learning_rate=0.02, min_child_samples=40, n_estimators=1600, n_jobs=1, num_leaves=70, random_seed=1, subsample=0.8 \n",
      "[CV]  colsample_bytree=0.4, learning_rate=0.02, min_child_samples=40, n_estimators=800, n_jobs=1, num_leaves=100, random_seed=1, subsample=0.8, score=-16497.535848, total=  13.7s\n",
      "[CV] colsample_bytree=0.4, learning_rate=0.02, min_child_samples=40, n_estimators=1600, n_jobs=1, num_leaves=100, random_seed=1, subsample=0.8 \n",
      "[CV]  colsample_bytree=0.4, learning_rate=0.02, min_child_samples=40, n_estimators=1200, n_jobs=1, num_leaves=50, random_seed=1, subsample=0.8, score=-16488.277352, total=  14.7s\n",
      "[CV] colsample_bytree=0.6, learning_rate=0.01, min_child_samples=5, n_estimators=400, n_jobs=1, num_leaves=30, random_seed=1, subsample=0.8 \n",
      "[CV]  colsample_bytree=0.6, learning_rate=0.01, min_child_samples=5, n_estimators=400, n_jobs=1, num_leaves=30, random_seed=1, subsample=0.8, score=-18394.242178, total=   4.4s\n",
      "[CV] colsample_bytree=0.6, learning_rate=0.01, min_child_samples=5, n_estimators=400, n_jobs=1, num_leaves=50, random_seed=1, subsample=0.8 \n",
      "[CV]  colsample_bytree=0.4, learning_rate=0.02, min_child_samples=40, n_estimators=1200, n_jobs=1, num_leaves=70, random_seed=1, subsample=0.8, score=-15967.287928, total=  18.1s\n",
      "[CV] colsample_bytree=0.6, learning_rate=0.01, min_child_samples=5, n_estimators=400, n_jobs=1, num_leaves=70, random_seed=1, subsample=0.8 \n",
      "[CV]  colsample_bytree=0.4, learning_rate=0.02, min_child_samples=20, n_estimators=1600, n_jobs=1, num_leaves=100, random_seed=1, subsample=0.8, score=-15453.596807, total=  34.7s\n",
      "[CV] colsample_bytree=0.6, learning_rate=0.01, min_child_samples=5, n_estimators=400, n_jobs=1, num_leaves=100, random_seed=1, subsample=0.8 \n",
      "[CV]  colsample_bytree=0.4, learning_rate=0.02, min_child_samples=40, n_estimators=1600, n_jobs=1, num_leaves=30, random_seed=1, subsample=0.8, score=-14751.747414, total=  13.6s\n",
      "[CV] colsample_bytree=0.6, learning_rate=0.01, min_child_samples=5, n_estimators=800, n_jobs=1, num_leaves=30, random_seed=1, subsample=0.8 \n",
      "[CV]  colsample_bytree=0.6, learning_rate=0.01, min_child_samples=5, n_estimators=400, n_jobs=1, num_leaves=50, random_seed=1, subsample=0.8, score=-18010.038116, total=   6.9s\n"
     ]
    },
    {
     "name": "stdout",
     "output_type": "stream",
     "text": [
      "[CV] colsample_bytree=0.6, learning_rate=0.01, min_child_samples=5, n_estimators=800, n_jobs=1, num_leaves=50, random_seed=1, subsample=0.8 \n",
      "[CV]  colsample_bytree=0.4, learning_rate=0.02, min_child_samples=40, n_estimators=1200, n_jobs=1, num_leaves=100, random_seed=1, subsample=0.8, score=-15675.858093, total=  20.4s\n",
      "[CV] colsample_bytree=0.6, learning_rate=0.01, min_child_samples=5, n_estimators=800, n_jobs=1, num_leaves=70, random_seed=1, subsample=0.8 \n",
      "[CV]  colsample_bytree=0.6, learning_rate=0.01, min_child_samples=5, n_estimators=400, n_jobs=1, num_leaves=70, random_seed=1, subsample=0.8, score=-18791.141139, total=   8.5s\n",
      "[CV] colsample_bytree=0.6, learning_rate=0.01, min_child_samples=5, n_estimators=800, n_jobs=1, num_leaves=100, random_seed=1, subsample=0.8 \n",
      "[CV]  colsample_bytree=0.6, learning_rate=0.01, min_child_samples=5, n_estimators=800, n_jobs=1, num_leaves=30, random_seed=1, subsample=0.8, score=-19774.880714, total=   9.2s\n",
      "[CV] colsample_bytree=0.6, learning_rate=0.01, min_child_samples=5, n_estimators=1200, n_jobs=1, num_leaves=30, random_seed=1, subsample=0.8 \n",
      "[CV]  colsample_bytree=0.4, learning_rate=0.02, min_child_samples=40, n_estimators=1600, n_jobs=1, num_leaves=50, random_seed=1, subsample=0.8, score=-15971.027272, total=  20.2s\n",
      "[CV] colsample_bytree=0.6, learning_rate=0.01, min_child_samples=5, n_estimators=1200, n_jobs=1, num_leaves=50, random_seed=1, subsample=0.8 \n",
      "[CV]  colsample_bytree=0.6, learning_rate=0.01, min_child_samples=5, n_estimators=400, n_jobs=1, num_leaves=100, random_seed=1, subsample=0.8, score=-18675.982761, total=  11.9s\n",
      "[CV] colsample_bytree=0.6, learning_rate=0.01, min_child_samples=5, n_estimators=1200, n_jobs=1, num_leaves=70, random_seed=1, subsample=0.8 \n",
      "[CV]  colsample_bytree=0.4, learning_rate=0.02, min_child_samples=40, n_estimators=1600, n_jobs=1, num_leaves=70, random_seed=1, subsample=0.8, score=-15448.809159, total=  25.1s\n",
      "[CV] colsample_bytree=0.6, learning_rate=0.01, min_child_samples=5, n_estimators=1200, n_jobs=1, num_leaves=100, random_seed=1, subsample=0.8 \n",
      "[CV]  colsample_bytree=0.6, learning_rate=0.01, min_child_samples=5, n_estimators=800, n_jobs=1, num_leaves=50, random_seed=1, subsample=0.8, score=-19817.466700, total=  13.0s\n",
      "[CV] colsample_bytree=0.6, learning_rate=0.01, min_child_samples=5, n_estimators=1600, n_jobs=1, num_leaves=30, random_seed=1, subsample=0.8 \n",
      "[CV]  colsample_bytree=0.4, learning_rate=0.02, min_child_samples=40, n_estimators=1600, n_jobs=1, num_leaves=100, random_seed=1, subsample=0.8, score=-15413.938027, total=  27.5s\n",
      "[CV] colsample_bytree=0.6, learning_rate=0.01, min_child_samples=5, n_estimators=1600, n_jobs=1, num_leaves=50, random_seed=1, subsample=0.8 \n",
      "[CV]  colsample_bytree=0.6, learning_rate=0.01, min_child_samples=5, n_estimators=800, n_jobs=1, num_leaves=70, random_seed=1, subsample=0.8, score=-20761.448360, total=  17.5s\n",
      "[CV] colsample_bytree=0.6, learning_rate=0.01, min_child_samples=5, n_estimators=1600, n_jobs=1, num_leaves=70, random_seed=1, subsample=0.8 \n",
      "[CV]  colsample_bytree=0.6, learning_rate=0.01, min_child_samples=5, n_estimators=1200, n_jobs=1, num_leaves=30, random_seed=1, subsample=0.8, score=-19618.267985, total=  12.8s\n",
      "[CV] colsample_bytree=0.6, learning_rate=0.01, min_child_samples=5, n_estimators=1600, n_jobs=1, num_leaves=100, random_seed=1, subsample=0.8 \n",
      "[CV]  colsample_bytree=0.6, learning_rate=0.01, min_child_samples=5, n_estimators=1200, n_jobs=1, num_leaves=50, random_seed=1, subsample=0.8, score=-19955.937934, total=  19.5s\n",
      "[CV] colsample_bytree=0.6, learning_rate=0.01, min_child_samples=10, n_estimators=400, n_jobs=1, num_leaves=30, random_seed=1, subsample=0.8 \n",
      "[CV]  colsample_bytree=0.6, learning_rate=0.01, min_child_samples=5, n_estimators=800, n_jobs=1, num_leaves=100, random_seed=1, subsample=0.8, score=-20661.527187, total=  23.9s\n",
      "[CV] colsample_bytree=0.6, learning_rate=0.01, min_child_samples=10, n_estimators=400, n_jobs=1, num_leaves=50, random_seed=1, subsample=0.8 \n",
      "[CV]  colsample_bytree=0.6, learning_rate=0.01, min_child_samples=10, n_estimators=400, n_jobs=1, num_leaves=30, random_seed=1, subsample=0.8, score=-15881.018435, total=   4.2s\n",
      "[CV] colsample_bytree=0.6, learning_rate=0.01, min_child_samples=10, n_estimators=400, n_jobs=1, num_leaves=70, random_seed=1, subsample=0.8 \n",
      "[CV]  colsample_bytree=0.6, learning_rate=0.01, min_child_samples=5, n_estimators=1600, n_jobs=1, num_leaves=30, random_seed=1, subsample=0.8, score=-19726.316230, total=  17.0s\n",
      "[CV] colsample_bytree=0.6, learning_rate=0.01, min_child_samples=10, n_estimators=400, n_jobs=1, num_leaves=100, random_seed=1, subsample=0.8 \n",
      "[CV]  colsample_bytree=0.6, learning_rate=0.01, min_child_samples=10, n_estimators=400, n_jobs=1, num_leaves=50, random_seed=1, subsample=0.8, score=-17016.296767, total=   6.1s\n",
      "[CV] colsample_bytree=0.6, learning_rate=0.01, min_child_samples=10, n_estimators=800, n_jobs=1, num_leaves=30, random_seed=1, subsample=0.8 \n",
      "[CV]  colsample_bytree=0.6, learning_rate=0.01, min_child_samples=5, n_estimators=1200, n_jobs=1, num_leaves=70, random_seed=1, subsample=0.8, score=-20818.556037, total=  26.4s\n",
      "[CV] colsample_bytree=0.6, learning_rate=0.01, min_child_samples=10, n_estimators=800, n_jobs=1, num_leaves=50, random_seed=1, subsample=0.8 \n",
      "[CV]  colsample_bytree=0.6, learning_rate=0.01, min_child_samples=10, n_estimators=400, n_jobs=1, num_leaves=70, random_seed=1, subsample=0.8, score=-17750.372993, total=   8.1s\n",
      "[CV] colsample_bytree=0.6, learning_rate=0.01, min_child_samples=10, n_estimators=800, n_jobs=1, num_leaves=70, random_seed=1, subsample=0.8 \n",
      "[CV]  colsample_bytree=0.6, learning_rate=0.01, min_child_samples=10, n_estimators=800, n_jobs=1, num_leaves=30, random_seed=1, subsample=0.8, score=-16061.604197, total=   8.8s\n",
      "[CV] colsample_bytree=0.6, learning_rate=0.01, min_child_samples=10, n_estimators=800, n_jobs=1, num_leaves=100, random_seed=1, subsample=0.8 \n",
      "[CV]  colsample_bytree=0.6, learning_rate=0.01, min_child_samples=10, n_estimators=400, n_jobs=1, num_leaves=100, random_seed=1, subsample=0.8, score=-18064.255165, total=  10.6s\n",
      "[CV] colsample_bytree=0.6, learning_rate=0.01, min_child_samples=10, n_estimators=1200, n_jobs=1, num_leaves=30, random_seed=1, subsample=0.8 \n",
      "[CV]  colsample_bytree=0.6, learning_rate=0.01, min_child_samples=5, n_estimators=1600, n_jobs=1, num_leaves=50, random_seed=1, subsample=0.8, score=-20111.062828, total=  26.2s\n",
      "[CV] colsample_bytree=0.6, learning_rate=0.01, min_child_samples=10, n_estimators=1200, n_jobs=1, num_leaves=50, random_seed=1, subsample=0.8 \n",
      "[CV]  colsample_bytree=0.6, learning_rate=0.01, min_child_samples=10, n_estimators=800, n_jobs=1, num_leaves=50, random_seed=1, subsample=0.8, score=-17693.602991, total=  12.7s\n",
      "[CV] colsample_bytree=0.6, learning_rate=0.01, min_child_samples=10, n_estimators=1200, n_jobs=1, num_leaves=70, random_seed=1, subsample=0.8 \n",
      "[CV]  colsample_bytree=0.6, learning_rate=0.01, min_child_samples=5, n_estimators=1200, n_jobs=1, num_leaves=100, random_seed=1, subsample=0.8, score=-20463.684989, total=  35.3s\n",
      "[CV] colsample_bytree=0.6, learning_rate=0.01, min_child_samples=10, n_estimators=1200, n_jobs=1, num_leaves=100, random_seed=1, subsample=0.8 \n",
      "[CV]  colsample_bytree=0.6, learning_rate=0.01, min_child_samples=10, n_estimators=1200, n_jobs=1, num_leaves=30, random_seed=1, subsample=0.8, score=-16104.785093, total=  12.7s\n",
      "[CV] colsample_bytree=0.6, learning_rate=0.01, min_child_samples=10, n_estimators=1600, n_jobs=1, num_leaves=30, random_seed=1, subsample=0.8 \n",
      "[CV]  colsample_bytree=0.6, learning_rate=0.01, min_child_samples=10, n_estimators=800, n_jobs=1, num_leaves=70, random_seed=1, subsample=0.8, score=-18395.542239, total=  17.6s\n",
      "[CV] colsample_bytree=0.6, learning_rate=0.01, min_child_samples=10, n_estimators=1600, n_jobs=1, num_leaves=50, random_seed=1, subsample=0.8 \n",
      "[CV]  colsample_bytree=0.6, learning_rate=0.01, min_child_samples=5, n_estimators=1600, n_jobs=1, num_leaves=70, random_seed=1, subsample=0.8, score=-20948.401597, total=  35.3s\n",
      "[CV] colsample_bytree=0.6, learning_rate=0.01, min_child_samples=10, n_estimators=1600, n_jobs=1, num_leaves=70, random_seed=1, subsample=0.8 \n",
      "[CV]  colsample_bytree=0.6, learning_rate=0.01, min_child_samples=10, n_estimators=800, n_jobs=1, num_leaves=100, random_seed=1, subsample=0.8, score=-18735.057994, total=  22.5s\n"
     ]
    },
    {
     "name": "stdout",
     "output_type": "stream",
     "text": [
      "[CV] colsample_bytree=0.6, learning_rate=0.01, min_child_samples=10, n_estimators=1600, n_jobs=1, num_leaves=100, random_seed=1, subsample=0.8 \n",
      "[CV]  colsample_bytree=0.6, learning_rate=0.01, min_child_samples=10, n_estimators=1200, n_jobs=1, num_leaves=50, random_seed=1, subsample=0.8, score=-17140.454497, total=  19.3s\n",
      "[CV] colsample_bytree=0.6, learning_rate=0.01, min_child_samples=20, n_estimators=400, n_jobs=1, num_leaves=30, random_seed=1, subsample=0.8 \n",
      "[CV]  colsample_bytree=0.6, learning_rate=0.01, min_child_samples=5, n_estimators=1600, n_jobs=1, num_leaves=100, random_seed=1, subsample=0.8, score=-20444.574257, total=  47.3s\n",
      "[CV] colsample_bytree=0.6, learning_rate=0.01, min_child_samples=20, n_estimators=400, n_jobs=1, num_leaves=50, random_seed=1, subsample=0.8 \n",
      "[CV]  colsample_bytree=0.6, learning_rate=0.01, min_child_samples=20, n_estimators=400, n_jobs=1, num_leaves=30, random_seed=1, subsample=0.8, score=-14991.565502, total=   4.1s\n",
      "[CV] colsample_bytree=0.6, learning_rate=0.01, min_child_samples=20, n_estimators=400, n_jobs=1, num_leaves=70, random_seed=1, subsample=0.8 \n",
      "[CV]  colsample_bytree=0.6, learning_rate=0.01, min_child_samples=10, n_estimators=1600, n_jobs=1, num_leaves=30, random_seed=1, subsample=0.8, score=-16029.153812, total=  16.6s\n",
      "[CV] colsample_bytree=0.6, learning_rate=0.01, min_child_samples=20, n_estimators=400, n_jobs=1, num_leaves=100, random_seed=1, subsample=0.8 \n",
      "[CV]  colsample_bytree=0.6, learning_rate=0.01, min_child_samples=10, n_estimators=1200, n_jobs=1, num_leaves=70, random_seed=1, subsample=0.8, score=-17779.951498, total=  24.7s\n",
      "[CV] colsample_bytree=0.6, learning_rate=0.01, min_child_samples=20, n_estimators=800, n_jobs=1, num_leaves=30, random_seed=1, subsample=0.8 \n",
      "[CV]  colsample_bytree=0.6, learning_rate=0.01, min_child_samples=20, n_estimators=400, n_jobs=1, num_leaves=50, random_seed=1, subsample=0.8, score=-15339.491528, total=   6.3s\n",
      "[CV] colsample_bytree=0.6, learning_rate=0.01, min_child_samples=20, n_estimators=800, n_jobs=1, num_leaves=50, random_seed=1, subsample=0.8 \n",
      "[CV]  colsample_bytree=0.6, learning_rate=0.01, min_child_samples=20, n_estimators=400, n_jobs=1, num_leaves=70, random_seed=1, subsample=0.8, score=-15807.337036, total=   8.3s\n",
      "[CV] colsample_bytree=0.6, learning_rate=0.01, min_child_samples=20, n_estimators=800, n_jobs=1, num_leaves=70, random_seed=1, subsample=0.8 \n",
      "[CV]  colsample_bytree=0.6, learning_rate=0.01, min_child_samples=20, n_estimators=400, n_jobs=1, num_leaves=100, random_seed=1, subsample=0.8, score=-15946.838857, total=  10.5s\n",
      "[CV] colsample_bytree=0.6, learning_rate=0.01, min_child_samples=20, n_estimators=800, n_jobs=1, num_leaves=100, random_seed=1, subsample=0.8 \n",
      "[CV]  colsample_bytree=0.6, learning_rate=0.01, min_child_samples=10, n_estimators=1600, n_jobs=1, num_leaves=50, random_seed=1, subsample=0.8, score=-16908.550684, total=  25.5s\n",
      "[CV] colsample_bytree=0.6, learning_rate=0.01, min_child_samples=20, n_estimators=1200, n_jobs=1, num_leaves=30, random_seed=1, subsample=0.8 \n",
      "[CV]  colsample_bytree=0.6, learning_rate=0.01, min_child_samples=20, n_estimators=800, n_jobs=1, num_leaves=30, random_seed=1, subsample=0.8, score=-15021.548500, total=   8.4s\n",
      "[CV] colsample_bytree=0.6, learning_rate=0.01, min_child_samples=20, n_estimators=1200, n_jobs=1, num_leaves=50, random_seed=1, subsample=0.8 \n",
      "[CV]  colsample_bytree=0.6, learning_rate=0.01, min_child_samples=10, n_estimators=1200, n_jobs=1, num_leaves=100, random_seed=1, subsample=0.8, score=-18243.412279, total=  33.8s\n",
      "[CV] colsample_bytree=0.6, learning_rate=0.01, min_child_samples=20, n_estimators=1200, n_jobs=1, num_leaves=70, random_seed=1, subsample=0.8 \n",
      "[CV]  colsample_bytree=0.6, learning_rate=0.01, min_child_samples=20, n_estimators=800, n_jobs=1, num_leaves=50, random_seed=1, subsample=0.8, score=-14934.694303, total=  12.4s\n",
      "[CV] colsample_bytree=0.6, learning_rate=0.01, min_child_samples=20, n_estimators=1200, n_jobs=1, num_leaves=100, random_seed=1, subsample=0.8 \n",
      "[CV]  colsample_bytree=0.6, learning_rate=0.01, min_child_samples=10, n_estimators=1600, n_jobs=1, num_leaves=70, random_seed=1, subsample=0.8, score=-17680.205618, total=  32.9s\n",
      "[CV] colsample_bytree=0.6, learning_rate=0.01, min_child_samples=20, n_estimators=1600, n_jobs=1, num_leaves=30, random_seed=1, subsample=0.8 \n",
      "[CV]  colsample_bytree=0.6, learning_rate=0.01, min_child_samples=20, n_estimators=800, n_jobs=1, num_leaves=70, random_seed=1, subsample=0.8, score=-15227.788844, total=  15.9s\n",
      "[CV] colsample_bytree=0.6, learning_rate=0.01, min_child_samples=20, n_estimators=1600, n_jobs=1, num_leaves=50, random_seed=1, subsample=0.8 \n",
      "[CV]  colsample_bytree=0.6, learning_rate=0.01, min_child_samples=20, n_estimators=1200, n_jobs=1, num_leaves=30, random_seed=1, subsample=0.8, score=-15229.601218, total=  12.4s\n",
      "[CV] colsample_bytree=0.6, learning_rate=0.01, min_child_samples=20, n_estimators=1600, n_jobs=1, num_leaves=70, random_seed=1, subsample=0.8 \n",
      "[CV]  colsample_bytree=0.6, learning_rate=0.01, min_child_samples=20, n_estimators=1200, n_jobs=1, num_leaves=50, random_seed=1, subsample=0.8, score=-15199.341189, total=  18.6s\n",
      "[CV] colsample_bytree=0.6, learning_rate=0.01, min_child_samples=20, n_estimators=1600, n_jobs=1, num_leaves=100, random_seed=1, subsample=0.8 \n",
      "[CV]  colsample_bytree=0.6, learning_rate=0.01, min_child_samples=20, n_estimators=800, n_jobs=1, num_leaves=100, random_seed=1, subsample=0.8, score=-15624.013090, total=  21.1s\n",
      "[CV] colsample_bytree=0.6, learning_rate=0.01, min_child_samples=40, n_estimators=400, n_jobs=1, num_leaves=30, random_seed=1, subsample=0.8 \n",
      "[CV]  colsample_bytree=0.6, learning_rate=0.01, min_child_samples=40, n_estimators=400, n_jobs=1, num_leaves=30, random_seed=1, subsample=0.8, score=-17944.098684, total=   4.0s\n",
      "[CV] colsample_bytree=0.6, learning_rate=0.01, min_child_samples=40, n_estimators=400, n_jobs=1, num_leaves=50, random_seed=1, subsample=0.8 \n",
      "[CV]  colsample_bytree=0.6, learning_rate=0.01, min_child_samples=20, n_estimators=1600, n_jobs=1, num_leaves=30, random_seed=1, subsample=0.8, score=-15084.872104, total=  16.0s\n",
      "[CV] colsample_bytree=0.6, learning_rate=0.01, min_child_samples=40, n_estimators=400, n_jobs=1, num_leaves=70, random_seed=1, subsample=0.8 \n",
      "[CV]  colsample_bytree=0.6, learning_rate=0.01, min_child_samples=10, n_estimators=1600, n_jobs=1, num_leaves=100, random_seed=1, subsample=0.8, score=-18038.434548, total=  44.5s\n",
      "[CV]  colsample_bytree=0.6, learning_rate=0.01, min_child_samples=20, n_estimators=1200, n_jobs=1, num_leaves=70, random_seed=1, subsample=0.8, score=-15388.629999, total=  24.3s\n",
      "[CV] colsample_bytree=0.6, learning_rate=0.01, min_child_samples=40, n_estimators=400, n_jobs=1, num_leaves=100, random_seed=1, subsample=0.8 \n",
      "[CV] colsample_bytree=0.6, learning_rate=0.01, min_child_samples=40, n_estimators=800, n_jobs=1, num_leaves=30, random_seed=1, subsample=0.8 \n",
      "[CV]  colsample_bytree=0.6, learning_rate=0.01, min_child_samples=40, n_estimators=400, n_jobs=1, num_leaves=50, random_seed=1, subsample=0.8, score=-18161.693670, total=   6.0s\n",
      "[CV] colsample_bytree=0.6, learning_rate=0.01, min_child_samples=40, n_estimators=800, n_jobs=1, num_leaves=50, random_seed=1, subsample=0.8 \n",
      "[CV]  colsample_bytree=0.6, learning_rate=0.01, min_child_samples=40, n_estimators=400, n_jobs=1, num_leaves=70, random_seed=1, subsample=0.8, score=-18461.375122, total=   7.5s\n",
      "[CV] colsample_bytree=0.6, learning_rate=0.01, min_child_samples=40, n_estimators=800, n_jobs=1, num_leaves=70, random_seed=1, subsample=0.8 \n",
      "[CV]  colsample_bytree=0.6, learning_rate=0.01, min_child_samples=40, n_estimators=400, n_jobs=1, num_leaves=100, random_seed=1, subsample=0.8, score=-18438.308237, total=   8.1s\n",
      "[CV] colsample_bytree=0.6, learning_rate=0.01, min_child_samples=40, n_estimators=800, n_jobs=1, num_leaves=100, random_seed=1, subsample=0.8 \n",
      "[CV]  colsample_bytree=0.6, learning_rate=0.01, min_child_samples=40, n_estimators=800, n_jobs=1, num_leaves=30, random_seed=1, subsample=0.8, score=-17451.714188, total=   8.2s\n",
      "[CV] colsample_bytree=0.6, learning_rate=0.01, min_child_samples=40, n_estimators=1200, n_jobs=1, num_leaves=30, random_seed=1, subsample=0.8 \n",
      "[CV]  colsample_bytree=0.6, learning_rate=0.01, min_child_samples=20, n_estimators=1600, n_jobs=1, num_leaves=50, random_seed=1, subsample=0.8, score=-15112.191750, total=  24.3s\n"
     ]
    },
    {
     "name": "stdout",
     "output_type": "stream",
     "text": [
      "[CV] colsample_bytree=0.6, learning_rate=0.01, min_child_samples=40, n_estimators=1200, n_jobs=1, num_leaves=50, random_seed=1, subsample=0.8 \n",
      "[CV]  colsample_bytree=0.6, learning_rate=0.01, min_child_samples=20, n_estimators=1200, n_jobs=1, num_leaves=100, random_seed=1, subsample=0.8, score=-15741.578661, total=  31.9s\n",
      "[CV] colsample_bytree=0.6, learning_rate=0.01, min_child_samples=40, n_estimators=1200, n_jobs=1, num_leaves=70, random_seed=1, subsample=0.8 \n",
      "[CV]  colsample_bytree=0.6, learning_rate=0.01, min_child_samples=40, n_estimators=800, n_jobs=1, num_leaves=50, random_seed=1, subsample=0.8, score=-17854.955549, total=  12.5s\n",
      "[CV] colsample_bytree=0.6, learning_rate=0.01, min_child_samples=40, n_estimators=1200, n_jobs=1, num_leaves=100, random_seed=1, subsample=0.8 \n",
      "[CV]  colsample_bytree=0.6, learning_rate=0.01, min_child_samples=20, n_estimators=1600, n_jobs=1, num_leaves=70, random_seed=1, subsample=0.8, score=-15166.677822, total=  32.4s\n",
      "[CV] colsample_bytree=0.6, learning_rate=0.01, min_child_samples=40, n_estimators=1600, n_jobs=1, num_leaves=30, random_seed=1, subsample=0.8 \n",
      "[CV]  colsample_bytree=0.6, learning_rate=0.01, min_child_samples=40, n_estimators=1200, n_jobs=1, num_leaves=30, random_seed=1, subsample=0.8, score=-17033.430747, total=  12.2s\n",
      "[CV] colsample_bytree=0.6, learning_rate=0.01, min_child_samples=40, n_estimators=1600, n_jobs=1, num_leaves=50, random_seed=1, subsample=0.8 \n",
      "[CV]  colsample_bytree=0.6, learning_rate=0.01, min_child_samples=40, n_estimators=800, n_jobs=1, num_leaves=70, random_seed=1, subsample=0.8, score=-18234.304606, total=  15.4s\n",
      "[CV] colsample_bytree=0.6, learning_rate=0.01, min_child_samples=40, n_estimators=1600, n_jobs=1, num_leaves=70, random_seed=1, subsample=0.8 \n",
      "[CV]  colsample_bytree=0.6, learning_rate=0.01, min_child_samples=40, n_estimators=800, n_jobs=1, num_leaves=100, random_seed=1, subsample=0.8, score=-17852.258376, total=  16.9s\n",
      "[CV] colsample_bytree=0.6, learning_rate=0.01, min_child_samples=40, n_estimators=1600, n_jobs=1, num_leaves=100, random_seed=1, subsample=0.8 \n",
      "[CV]  colsample_bytree=0.6, learning_rate=0.01, min_child_samples=40, n_estimators=1200, n_jobs=1, num_leaves=50, random_seed=1, subsample=0.8, score=-17282.867418, total=  17.9s\n",
      "[CV] colsample_bytree=0.6, learning_rate=0.015, min_child_samples=5, n_estimators=400, n_jobs=1, num_leaves=30, random_seed=1, subsample=0.8 \n",
      "[CV]  colsample_bytree=0.6, learning_rate=0.015, min_child_samples=5, n_estimators=400, n_jobs=1, num_leaves=30, random_seed=1, subsample=0.8, score=-17948.147841, total=   4.3s\n",
      "[CV] colsample_bytree=0.6, learning_rate=0.015, min_child_samples=5, n_estimators=400, n_jobs=1, num_leaves=50, random_seed=1, subsample=0.8 \n",
      "[CV]  colsample_bytree=0.6, learning_rate=0.01, min_child_samples=40, n_estimators=1200, n_jobs=1, num_leaves=70, random_seed=1, subsample=0.8, score=-17750.515808, total=  23.0s\n",
      "[CV] colsample_bytree=0.6, learning_rate=0.015, min_child_samples=5, n_estimators=400, n_jobs=1, num_leaves=70, random_seed=1, subsample=0.8 \n",
      "[CV]  colsample_bytree=0.6, learning_rate=0.01, min_child_samples=20, n_estimators=1600, n_jobs=1, num_leaves=100, random_seed=1, subsample=0.8, score=-15641.922352, total=  43.6s\n",
      "[CV] colsample_bytree=0.6, learning_rate=0.015, min_child_samples=5, n_estimators=400, n_jobs=1, num_leaves=100, random_seed=1, subsample=0.8 \n",
      "[CV]  colsample_bytree=0.6, learning_rate=0.01, min_child_samples=40, n_estimators=1600, n_jobs=1, num_leaves=30, random_seed=1, subsample=0.8, score=-16485.370321, total=  16.4s\n",
      "[CV] colsample_bytree=0.6, learning_rate=0.015, min_child_samples=5, n_estimators=800, n_jobs=1, num_leaves=30, random_seed=1, subsample=0.8 \n",
      "[CV]  colsample_bytree=0.6, learning_rate=0.015, min_child_samples=5, n_estimators=400, n_jobs=1, num_leaves=50, random_seed=1, subsample=0.8, score=-17287.626508, total=   6.8s\n",
      "[CV] colsample_bytree=0.6, learning_rate=0.015, min_child_samples=5, n_estimators=800, n_jobs=1, num_leaves=50, random_seed=1, subsample=0.8 \n",
      "[CV]  colsample_bytree=0.6, learning_rate=0.01, min_child_samples=40, n_estimators=1200, n_jobs=1, num_leaves=100, random_seed=1, subsample=0.8, score=-17239.679824, total=  26.1s\n",
      "[CV] colsample_bytree=0.6, learning_rate=0.015, min_child_samples=5, n_estimators=800, n_jobs=1, num_leaves=70, random_seed=1, subsample=0.8 \n",
      "[CV]  colsample_bytree=0.6, learning_rate=0.015, min_child_samples=5, n_estimators=400, n_jobs=1, num_leaves=70, random_seed=1, subsample=0.8, score=-17496.286501, total=   8.9s\n",
      "[CV] colsample_bytree=0.6, learning_rate=0.015, min_child_samples=5, n_estimators=800, n_jobs=1, num_leaves=100, random_seed=1, subsample=0.8 \n",
      "[CV]  colsample_bytree=0.6, learning_rate=0.015, min_child_samples=5, n_estimators=800, n_jobs=1, num_leaves=30, random_seed=1, subsample=0.8, score=-17732.831843, total=   8.8s\n",
      "[CV] colsample_bytree=0.6, learning_rate=0.015, min_child_samples=5, n_estimators=1200, n_jobs=1, num_leaves=30, random_seed=1, subsample=0.8 \n",
      "[CV]  colsample_bytree=0.6, learning_rate=0.01, min_child_samples=40, n_estimators=1600, n_jobs=1, num_leaves=50, random_seed=1, subsample=0.8, score=-16836.791099, total=  24.3s\n",
      "[CV] colsample_bytree=0.6, learning_rate=0.015, min_child_samples=5, n_estimators=1200, n_jobs=1, num_leaves=50, random_seed=1, subsample=0.8 \n",
      "[CV]  colsample_bytree=0.6, learning_rate=0.015, min_child_samples=5, n_estimators=400, n_jobs=1, num_leaves=100, random_seed=1, subsample=0.8, score=-18371.886364, total=  11.6s\n",
      "[CV] colsample_bytree=0.6, learning_rate=0.015, min_child_samples=5, n_estimators=1200, n_jobs=1, num_leaves=70, random_seed=1, subsample=0.8 \n",
      "[CV]  colsample_bytree=0.6, learning_rate=0.015, min_child_samples=5, n_estimators=800, n_jobs=1, num_leaves=50, random_seed=1, subsample=0.8, score=-17536.814040, total=  12.9s\n",
      "[CV] colsample_bytree=0.6, learning_rate=0.015, min_child_samples=5, n_estimators=1200, n_jobs=1, num_leaves=100, random_seed=1, subsample=0.8 \n",
      "[CV]  colsample_bytree=0.6, learning_rate=0.01, min_child_samples=40, n_estimators=1600, n_jobs=1, num_leaves=70, random_seed=1, subsample=0.8, score=-17319.664065, total=  31.1s\n",
      "[CV] colsample_bytree=0.6, learning_rate=0.015, min_child_samples=5, n_estimators=1600, n_jobs=1, num_leaves=30, random_seed=1, subsample=0.8 \n",
      "[CV]  colsample_bytree=0.6, learning_rate=0.015, min_child_samples=5, n_estimators=1200, n_jobs=1, num_leaves=30, random_seed=1, subsample=0.8, score=-17463.958245, total=  12.9s\n",
      "[CV] colsample_bytree=0.6, learning_rate=0.015, min_child_samples=5, n_estimators=1600, n_jobs=1, num_leaves=50, random_seed=1, subsample=0.8 \n",
      "[CV]  colsample_bytree=0.6, learning_rate=0.015, min_child_samples=5, n_estimators=800, n_jobs=1, num_leaves=70, random_seed=1, subsample=0.8, score=-17742.590273, total=  17.5s\n",
      "[CV] colsample_bytree=0.6, learning_rate=0.015, min_child_samples=5, n_estimators=1600, n_jobs=1, num_leaves=70, random_seed=1, subsample=0.8 \n",
      "[CV]  colsample_bytree=0.6, learning_rate=0.01, min_child_samples=40, n_estimators=1600, n_jobs=1, num_leaves=100, random_seed=1, subsample=0.8, score=-16667.259591, total=  34.0s\n",
      "[CV] colsample_bytree=0.6, learning_rate=0.015, min_child_samples=5, n_estimators=1600, n_jobs=1, num_leaves=100, random_seed=1, subsample=0.8 \n",
      "[CV]  colsample_bytree=0.6, learning_rate=0.015, min_child_samples=5, n_estimators=800, n_jobs=1, num_leaves=100, random_seed=1, subsample=0.8, score=-18459.669297, total=  23.2s\n",
      "[CV] colsample_bytree=0.6, learning_rate=0.015, min_child_samples=10, n_estimators=400, n_jobs=1, num_leaves=30, random_seed=1, subsample=0.8 \n",
      "[CV]  colsample_bytree=0.6, learning_rate=0.015, min_child_samples=5, n_estimators=1200, n_jobs=1, num_leaves=50, random_seed=1, subsample=0.8, score=-17767.547110, total=  19.8s\n",
      "[CV] colsample_bytree=0.6, learning_rate=0.015, min_child_samples=10, n_estimators=400, n_jobs=1, num_leaves=50, random_seed=1, subsample=0.8 \n",
      "[CV]  colsample_bytree=0.6, learning_rate=0.015, min_child_samples=10, n_estimators=400, n_jobs=1, num_leaves=30, random_seed=1, subsample=0.8, score=-17467.924981, total=   4.2s\n",
      "[CV] colsample_bytree=0.6, learning_rate=0.015, min_child_samples=10, n_estimators=400, n_jobs=1, num_leaves=70, random_seed=1, subsample=0.8 \n",
      "[CV]  colsample_bytree=0.6, learning_rate=0.015, min_child_samples=5, n_estimators=1600, n_jobs=1, num_leaves=30, random_seed=1, subsample=0.8, score=-17546.212742, total=  16.5s\n"
     ]
    },
    {
     "name": "stdout",
     "output_type": "stream",
     "text": [
      "[CV] colsample_bytree=0.6, learning_rate=0.015, min_child_samples=10, n_estimators=400, n_jobs=1, num_leaves=100, random_seed=1, subsample=0.8 \n",
      "[CV]  colsample_bytree=0.6, learning_rate=0.015, min_child_samples=10, n_estimators=400, n_jobs=1, num_leaves=50, random_seed=1, subsample=0.8, score=-20081.473621, total=   6.5s\n",
      "[CV] colsample_bytree=0.6, learning_rate=0.015, min_child_samples=10, n_estimators=800, n_jobs=1, num_leaves=30, random_seed=1, subsample=0.8 \n",
      "[CV]  colsample_bytree=0.6, learning_rate=0.015, min_child_samples=5, n_estimators=1200, n_jobs=1, num_leaves=70, random_seed=1, subsample=0.8, score=-17743.810396, total=  26.1s\n",
      "[CV] colsample_bytree=0.6, learning_rate=0.015, min_child_samples=10, n_estimators=800, n_jobs=1, num_leaves=50, random_seed=1, subsample=0.8 \n",
      "[CV]  colsample_bytree=0.6, learning_rate=0.015, min_child_samples=10, n_estimators=400, n_jobs=1, num_leaves=70, random_seed=1, subsample=0.8, score=-19287.514594, total=   8.5s\n",
      "[CV] colsample_bytree=0.6, learning_rate=0.015, min_child_samples=10, n_estimators=800, n_jobs=1, num_leaves=70, random_seed=1, subsample=0.8 \n",
      "[CV]  colsample_bytree=0.6, learning_rate=0.015, min_child_samples=10, n_estimators=800, n_jobs=1, num_leaves=30, random_seed=1, subsample=0.8, score=-17370.686602, total=   8.3s\n",
      "[CV] colsample_bytree=0.6, learning_rate=0.015, min_child_samples=10, n_estimators=800, n_jobs=1, num_leaves=100, random_seed=1, subsample=0.8 \n",
      "[CV]  colsample_bytree=0.6, learning_rate=0.015, min_child_samples=10, n_estimators=400, n_jobs=1, num_leaves=100, random_seed=1, subsample=0.8, score=-19723.771139, total=  10.9s\n",
      "[CV] colsample_bytree=0.6, learning_rate=0.015, min_child_samples=10, n_estimators=1200, n_jobs=1, num_leaves=30, random_seed=1, subsample=0.8 \n"
     ]
    },
    {
     "name": "stderr",
     "output_type": "stream",
     "text": [
      "[Parallel(n_jobs=-1)]: Done 272 tasks      | elapsed: 10.3min\n"
     ]
    },
    {
     "name": "stdout",
     "output_type": "stream",
     "text": [
      "[CV]  colsample_bytree=0.6, learning_rate=0.015, min_child_samples=5, n_estimators=1600, n_jobs=1, num_leaves=50, random_seed=1, subsample=0.8, score=-17748.563206, total=  26.2s\n",
      "[CV] colsample_bytree=0.6, learning_rate=0.015, min_child_samples=10, n_estimators=1200, n_jobs=1, num_leaves=50, random_seed=1, subsample=0.8 \n",
      "[CV]  colsample_bytree=0.6, learning_rate=0.015, min_child_samples=10, n_estimators=800, n_jobs=1, num_leaves=50, random_seed=1, subsample=0.8, score=-20008.700647, total=  12.9s\n",
      "[CV] colsample_bytree=0.6, learning_rate=0.015, min_child_samples=10, n_estimators=1200, n_jobs=1, num_leaves=70, random_seed=1, subsample=0.8 \n",
      "[CV]  colsample_bytree=0.6, learning_rate=0.015, min_child_samples=5, n_estimators=1200, n_jobs=1, num_leaves=100, random_seed=1, subsample=0.8, score=-18513.500319, total=  35.1s\n",
      "[CV] colsample_bytree=0.6, learning_rate=0.015, min_child_samples=10, n_estimators=1200, n_jobs=1, num_leaves=100, random_seed=1, subsample=0.8 \n",
      "[CV]  colsample_bytree=0.6, learning_rate=0.015, min_child_samples=10, n_estimators=800, n_jobs=1, num_leaves=70, random_seed=1, subsample=0.8, score=-20012.033227, total=  16.3s\n",
      "[CV] colsample_bytree=0.6, learning_rate=0.015, min_child_samples=10, n_estimators=1600, n_jobs=1, num_leaves=30, random_seed=1, subsample=0.8 \n",
      "[CV]  colsample_bytree=0.6, learning_rate=0.015, min_child_samples=10, n_estimators=1200, n_jobs=1, num_leaves=30, random_seed=1, subsample=0.8, score=-16428.616913, total=  13.0s\n",
      "[CV] colsample_bytree=0.6, learning_rate=0.015, min_child_samples=10, n_estimators=1600, n_jobs=1, num_leaves=50, random_seed=1, subsample=0.8 \n",
      "[CV]  colsample_bytree=0.6, learning_rate=0.015, min_child_samples=5, n_estimators=1600, n_jobs=1, num_leaves=70, random_seed=1, subsample=0.8, score=-17820.562463, total=  34.1s\n",
      "[CV] colsample_bytree=0.6, learning_rate=0.015, min_child_samples=10, n_estimators=1600, n_jobs=1, num_leaves=70, random_seed=1, subsample=0.8 \n",
      "[CV]  colsample_bytree=0.6, learning_rate=0.015, min_child_samples=10, n_estimators=800, n_jobs=1, num_leaves=100, random_seed=1, subsample=0.8, score=-19952.491167, total=  22.2s\n",
      "[CV] colsample_bytree=0.6, learning_rate=0.015, min_child_samples=10, n_estimators=1600, n_jobs=1, num_leaves=100, random_seed=1, subsample=0.8 \n",
      "[CV]  colsample_bytree=0.6, learning_rate=0.015, min_child_samples=10, n_estimators=1200, n_jobs=1, num_leaves=50, random_seed=1, subsample=0.8, score=-19201.289920, total=  18.5s\n",
      "[CV] colsample_bytree=0.6, learning_rate=0.015, min_child_samples=20, n_estimators=400, n_jobs=1, num_leaves=30, random_seed=1, subsample=0.8 \n",
      "[CV]  colsample_bytree=0.6, learning_rate=0.015, min_child_samples=5, n_estimators=1600, n_jobs=1, num_leaves=100, random_seed=1, subsample=0.8, score=-18556.241596, total=  45.6s\n",
      "[CV] colsample_bytree=0.6, learning_rate=0.015, min_child_samples=20, n_estimators=400, n_jobs=1, num_leaves=50, random_seed=1, subsample=0.8 \n",
      "[CV]  colsample_bytree=0.6, learning_rate=0.015, min_child_samples=10, n_estimators=1600, n_jobs=1, num_leaves=30, random_seed=1, subsample=0.8, score=-16142.909054, total=  15.9s\n",
      "[CV] colsample_bytree=0.6, learning_rate=0.015, min_child_samples=20, n_estimators=400, n_jobs=1, num_leaves=70, random_seed=1, subsample=0.8 \n",
      "[CV]  colsample_bytree=0.6, learning_rate=0.015, min_child_samples=20, n_estimators=400, n_jobs=1, num_leaves=30, random_seed=1, subsample=0.8, score=-14337.636004, total=   4.2s\n",
      "[CV] colsample_bytree=0.6, learning_rate=0.015, min_child_samples=20, n_estimators=400, n_jobs=1, num_leaves=100, random_seed=1, subsample=0.8 \n",
      "[CV]  colsample_bytree=0.6, learning_rate=0.015, min_child_samples=10, n_estimators=1200, n_jobs=1, num_leaves=70, random_seed=1, subsample=0.8, score=-18901.785295, total=  24.7s\n",
      "[CV] colsample_bytree=0.6, learning_rate=0.015, min_child_samples=20, n_estimators=800, n_jobs=1, num_leaves=30, random_seed=1, subsample=0.8 \n",
      "[CV]  colsample_bytree=0.6, learning_rate=0.015, min_child_samples=20, n_estimators=400, n_jobs=1, num_leaves=50, random_seed=1, subsample=0.8, score=-14822.443256, total=   6.1s\n",
      "[CV] colsample_bytree=0.6, learning_rate=0.015, min_child_samples=20, n_estimators=800, n_jobs=1, num_leaves=50, random_seed=1, subsample=0.8 \n",
      "[CV]  colsample_bytree=0.6, learning_rate=0.015, min_child_samples=20, n_estimators=400, n_jobs=1, num_leaves=70, random_seed=1, subsample=0.8, score=-15347.495932, total=   8.0s\n",
      "[CV] colsample_bytree=0.6, learning_rate=0.015, min_child_samples=20, n_estimators=800, n_jobs=1, num_leaves=70, random_seed=1, subsample=0.8 \n",
      "[CV]  colsample_bytree=0.6, learning_rate=0.015, min_child_samples=20, n_estimators=400, n_jobs=1, num_leaves=100, random_seed=1, subsample=0.8, score=-15228.658528, total=  10.6s\n",
      "[CV] colsample_bytree=0.6, learning_rate=0.015, min_child_samples=20, n_estimators=800, n_jobs=1, num_leaves=100, random_seed=1, subsample=0.8 \n",
      "[CV]  colsample_bytree=0.6, learning_rate=0.015, min_child_samples=10, n_estimators=1600, n_jobs=1, num_leaves=50, random_seed=1, subsample=0.8, score=-19067.068717, total=  25.2s\n",
      "[CV] colsample_bytree=0.6, learning_rate=0.015, min_child_samples=20, n_estimators=1200, n_jobs=1, num_leaves=30, random_seed=1, subsample=0.8 \n",
      "[CV]  colsample_bytree=0.6, learning_rate=0.015, min_child_samples=10, n_estimators=1200, n_jobs=1, num_leaves=100, random_seed=1, subsample=0.8, score=-19163.697683, total=  33.2s\n",
      "[CV] colsample_bytree=0.6, learning_rate=0.015, min_child_samples=20, n_estimators=1200, n_jobs=1, num_leaves=50, random_seed=1, subsample=0.8 \n",
      "[CV]  colsample_bytree=0.6, learning_rate=0.015, min_child_samples=20, n_estimators=800, n_jobs=1, num_leaves=30, random_seed=1, subsample=0.8, score=-14147.247837, total=   8.7s\n",
      "[CV] colsample_bytree=0.6, learning_rate=0.015, min_child_samples=20, n_estimators=1200, n_jobs=1, num_leaves=70, random_seed=1, subsample=0.8 \n",
      "[CV]  colsample_bytree=0.6, learning_rate=0.015, min_child_samples=20, n_estimators=800, n_jobs=1, num_leaves=50, random_seed=1, subsample=0.8, score=-14789.761317, total=  12.1s\n",
      "[CV] colsample_bytree=0.6, learning_rate=0.015, min_child_samples=20, n_estimators=1200, n_jobs=1, num_leaves=100, random_seed=1, subsample=0.8 \n",
      "[CV]  colsample_bytree=0.6, learning_rate=0.015, min_child_samples=10, n_estimators=1600, n_jobs=1, num_leaves=70, random_seed=1, subsample=0.8, score=-18369.748503, total=  33.0s\n",
      "[CV] colsample_bytree=0.6, learning_rate=0.015, min_child_samples=20, n_estimators=1600, n_jobs=1, num_leaves=30, random_seed=1, subsample=0.8 \n",
      "[CV]  colsample_bytree=0.6, learning_rate=0.015, min_child_samples=20, n_estimators=1200, n_jobs=1, num_leaves=30, random_seed=1, subsample=0.8, score=-14119.227845, total=  12.3s\n",
      "[CV] colsample_bytree=0.6, learning_rate=0.015, min_child_samples=20, n_estimators=1600, n_jobs=1, num_leaves=50, random_seed=1, subsample=0.8 \n",
      "[CV]  colsample_bytree=0.6, learning_rate=0.015, min_child_samples=20, n_estimators=800, n_jobs=1, num_leaves=70, random_seed=1, subsample=0.8, score=-15282.560246, total=  16.6s\n",
      "[CV] colsample_bytree=0.6, learning_rate=0.015, min_child_samples=20, n_estimators=1600, n_jobs=1, num_leaves=70, random_seed=1, subsample=0.8 \n",
      "[CV]  colsample_bytree=0.6, learning_rate=0.015, min_child_samples=20, n_estimators=800, n_jobs=1, num_leaves=100, random_seed=1, subsample=0.8, score=-14975.339966, total=  20.9s\n",
      "[CV] colsample_bytree=0.6, learning_rate=0.015, min_child_samples=20, n_estimators=1600, n_jobs=1, num_leaves=100, random_seed=1, subsample=0.8 \n",
      "[CV]  colsample_bytree=0.6, learning_rate=0.015, min_child_samples=20, n_estimators=1200, n_jobs=1, num_leaves=50, random_seed=1, subsample=0.8, score=-14782.378959, total=  18.7s\n",
      "[CV] colsample_bytree=0.6, learning_rate=0.015, min_child_samples=40, n_estimators=400, n_jobs=1, num_leaves=30, random_seed=1, subsample=0.8 \n",
      "[CV]  colsample_bytree=0.6, learning_rate=0.015, min_child_samples=40, n_estimators=400, n_jobs=1, num_leaves=30, random_seed=1, subsample=0.8, score=-18607.786808, total=   4.3s\n",
      "[CV] colsample_bytree=0.6, learning_rate=0.015, min_child_samples=40, n_estimators=400, n_jobs=1, num_leaves=50, random_seed=1, subsample=0.8 \n",
      "[CV]  colsample_bytree=0.6, learning_rate=0.015, min_child_samples=10, n_estimators=1600, n_jobs=1, num_leaves=100, random_seed=1, subsample=0.8, score=-18885.899523, total=  42.6s\n"
     ]
    },
    {
     "name": "stdout",
     "output_type": "stream",
     "text": [
      "[CV] colsample_bytree=0.6, learning_rate=0.015, min_child_samples=40, n_estimators=400, n_jobs=1, num_leaves=70, random_seed=1, subsample=0.8 \n",
      "[CV]  colsample_bytree=0.6, learning_rate=0.015, min_child_samples=20, n_estimators=1200, n_jobs=1, num_leaves=70, random_seed=1, subsample=0.8, score=-14866.585767, total=  24.0s\n",
      "[CV] colsample_bytree=0.6, learning_rate=0.015, min_child_samples=40, n_estimators=400, n_jobs=1, num_leaves=100, random_seed=1, subsample=0.8 \n",
      "[CV]  colsample_bytree=0.6, learning_rate=0.015, min_child_samples=20, n_estimators=1600, n_jobs=1, num_leaves=30, random_seed=1, subsample=0.8, score=-13916.084904, total=  16.5s\n",
      "[CV] colsample_bytree=0.6, learning_rate=0.015, min_child_samples=40, n_estimators=800, n_jobs=1, num_leaves=30, random_seed=1, subsample=0.8 \n",
      "[CV]  colsample_bytree=0.6, learning_rate=0.015, min_child_samples=40, n_estimators=400, n_jobs=1, num_leaves=50, random_seed=1, subsample=0.8, score=-19018.352456, total=   6.0s\n",
      "[CV] colsample_bytree=0.6, learning_rate=0.015, min_child_samples=40, n_estimators=800, n_jobs=1, num_leaves=50, random_seed=1, subsample=0.8 \n",
      "[CV]  colsample_bytree=0.6, learning_rate=0.015, min_child_samples=40, n_estimators=400, n_jobs=1, num_leaves=70, random_seed=1, subsample=0.8, score=-18857.602318, total=   7.6s\n",
      "[CV] colsample_bytree=0.6, learning_rate=0.015, min_child_samples=40, n_estimators=800, n_jobs=1, num_leaves=70, random_seed=1, subsample=0.8 \n",
      "[CV]  colsample_bytree=0.6, learning_rate=0.015, min_child_samples=40, n_estimators=400, n_jobs=1, num_leaves=100, random_seed=1, subsample=0.8, score=-19129.123110, total=   8.3s\n",
      "[CV] colsample_bytree=0.6, learning_rate=0.015, min_child_samples=40, n_estimators=800, n_jobs=1, num_leaves=100, random_seed=1, subsample=0.8 \n",
      "[CV]  colsample_bytree=0.6, learning_rate=0.015, min_child_samples=40, n_estimators=800, n_jobs=1, num_leaves=30, random_seed=1, subsample=0.8, score=-16866.032531, total=   8.1s\n",
      "[CV] colsample_bytree=0.6, learning_rate=0.015, min_child_samples=40, n_estimators=1200, n_jobs=1, num_leaves=30, random_seed=1, subsample=0.8 \n",
      "[CV]  colsample_bytree=0.6, learning_rate=0.015, min_child_samples=20, n_estimators=1200, n_jobs=1, num_leaves=100, random_seed=1, subsample=0.8, score=-14877.540401, total=  31.6s\n",
      "[CV] colsample_bytree=0.6, learning_rate=0.015, min_child_samples=40, n_estimators=1200, n_jobs=1, num_leaves=50, random_seed=1, subsample=0.8 \n",
      "[CV]  colsample_bytree=0.6, learning_rate=0.015, min_child_samples=20, n_estimators=1600, n_jobs=1, num_leaves=50, random_seed=1, subsample=0.8, score=-14622.990108, total=  24.6s\n",
      "[CV] colsample_bytree=0.6, learning_rate=0.015, min_child_samples=40, n_estimators=1200, n_jobs=1, num_leaves=70, random_seed=1, subsample=0.8 \n",
      "[CV]  colsample_bytree=0.6, learning_rate=0.015, min_child_samples=40, n_estimators=800, n_jobs=1, num_leaves=50, random_seed=1, subsample=0.8, score=-17021.588643, total=  11.8s\n",
      "[CV] colsample_bytree=0.6, learning_rate=0.015, min_child_samples=40, n_estimators=1200, n_jobs=1, num_leaves=100, random_seed=1, subsample=0.8 \n",
      "[CV]  colsample_bytree=0.6, learning_rate=0.015, min_child_samples=20, n_estimators=1600, n_jobs=1, num_leaves=70, random_seed=1, subsample=0.8, score=-14654.139648, total=  32.2s\n",
      "[CV] colsample_bytree=0.6, learning_rate=0.015, min_child_samples=40, n_estimators=1600, n_jobs=1, num_leaves=30, random_seed=1, subsample=0.8 \n",
      "[CV]  colsample_bytree=0.6, learning_rate=0.015, min_child_samples=40, n_estimators=1200, n_jobs=1, num_leaves=30, random_seed=1, subsample=0.8, score=-16356.548118, total=  13.2s\n",
      "[CV] colsample_bytree=0.6, learning_rate=0.015, min_child_samples=40, n_estimators=1600, n_jobs=1, num_leaves=50, random_seed=1, subsample=0.8 \n",
      "[CV]  colsample_bytree=0.6, learning_rate=0.015, min_child_samples=40, n_estimators=800, n_jobs=1, num_leaves=70, random_seed=1, subsample=0.8, score=-17019.142652, total=  15.4s\n",
      "[CV] colsample_bytree=0.6, learning_rate=0.015, min_child_samples=40, n_estimators=1600, n_jobs=1, num_leaves=70, random_seed=1, subsample=0.8 \n",
      "[CV]  colsample_bytree=0.6, learning_rate=0.015, min_child_samples=40, n_estimators=800, n_jobs=1, num_leaves=100, random_seed=1, subsample=0.8, score=-16737.302557, total=  17.2s\n",
      "[CV] colsample_bytree=0.6, learning_rate=0.015, min_child_samples=40, n_estimators=1600, n_jobs=1, num_leaves=100, random_seed=1, subsample=0.8 \n",
      "[CV]  colsample_bytree=0.6, learning_rate=0.015, min_child_samples=40, n_estimators=1200, n_jobs=1, num_leaves=50, random_seed=1, subsample=0.8, score=-16770.439322, total=  17.7s\n",
      "[CV] colsample_bytree=0.6, learning_rate=0.02, min_child_samples=5, n_estimators=400, n_jobs=1, num_leaves=30, random_seed=1, subsample=0.8 \n",
      "[CV]  colsample_bytree=0.6, learning_rate=0.02, min_child_samples=5, n_estimators=400, n_jobs=1, num_leaves=30, random_seed=1, subsample=0.8, score=-21341.978044, total=   4.2s\n",
      "[CV] colsample_bytree=0.6, learning_rate=0.02, min_child_samples=5, n_estimators=400, n_jobs=1, num_leaves=50, random_seed=1, subsample=0.8 \n",
      "[CV]  colsample_bytree=0.6, learning_rate=0.015, min_child_samples=40, n_estimators=1200, n_jobs=1, num_leaves=70, random_seed=1, subsample=0.8, score=-16618.993532, total=  23.0s\n",
      "[CV] colsample_bytree=0.6, learning_rate=0.02, min_child_samples=5, n_estimators=400, n_jobs=1, num_leaves=70, random_seed=1, subsample=0.8 \n",
      "[CV]  colsample_bytree=0.6, learning_rate=0.015, min_child_samples=40, n_estimators=1600, n_jobs=1, num_leaves=30, random_seed=1, subsample=0.8, score=-15915.724684, total=  16.2s\n",
      "[CV]  colsample_bytree=0.6, learning_rate=0.015, min_child_samples=20, n_estimators=1600, n_jobs=1, num_leaves=100, random_seed=1, subsample=0.8, score=-14635.850632, total=  43.1s\n",
      "[CV] colsample_bytree=0.6, learning_rate=0.02, min_child_samples=5, n_estimators=800, n_jobs=1, num_leaves=30, random_seed=1, subsample=0.8 \n",
      "[CV] colsample_bytree=0.6, learning_rate=0.02, min_child_samples=5, n_estimators=400, n_jobs=1, num_leaves=100, random_seed=1, subsample=0.8 \n",
      "[CV]  colsample_bytree=0.6, learning_rate=0.02, min_child_samples=5, n_estimators=400, n_jobs=1, num_leaves=50, random_seed=1, subsample=0.8, score=-18477.161627, total=   6.8s\n",
      "[CV] colsample_bytree=0.6, learning_rate=0.02, min_child_samples=5, n_estimators=800, n_jobs=1, num_leaves=50, random_seed=1, subsample=0.8 \n",
      "[CV]  colsample_bytree=0.6, learning_rate=0.015, min_child_samples=40, n_estimators=1200, n_jobs=1, num_leaves=100, random_seed=1, subsample=0.8, score=-16313.487562, total=  25.9s\n",
      "[CV] colsample_bytree=0.6, learning_rate=0.02, min_child_samples=5, n_estimators=800, n_jobs=1, num_leaves=70, random_seed=1, subsample=0.8 \n",
      "[CV]  colsample_bytree=0.6, learning_rate=0.02, min_child_samples=5, n_estimators=400, n_jobs=1, num_leaves=70, random_seed=1, subsample=0.8, score=-17998.689941, total=   8.9s\n",
      "[CV] colsample_bytree=0.6, learning_rate=0.02, min_child_samples=5, n_estimators=800, n_jobs=1, num_leaves=100, random_seed=1, subsample=0.8 \n",
      "[CV]  colsample_bytree=0.6, learning_rate=0.02, min_child_samples=5, n_estimators=800, n_jobs=1, num_leaves=30, random_seed=1, subsample=0.8, score=-21276.501327, total=   8.7s\n",
      "[CV] colsample_bytree=0.6, learning_rate=0.02, min_child_samples=5, n_estimators=1200, n_jobs=1, num_leaves=30, random_seed=1, subsample=0.8 \n",
      "[CV]  colsample_bytree=0.6, learning_rate=0.015, min_child_samples=40, n_estimators=1600, n_jobs=1, num_leaves=50, random_seed=1, subsample=0.8, score=-16300.790612, total=  24.1s\n",
      "[CV] colsample_bytree=0.6, learning_rate=0.02, min_child_samples=5, n_estimators=1200, n_jobs=1, num_leaves=50, random_seed=1, subsample=0.8 \n",
      "[CV]  colsample_bytree=0.6, learning_rate=0.02, min_child_samples=5, n_estimators=400, n_jobs=1, num_leaves=100, random_seed=1, subsample=0.8, score=-19413.285430, total=  11.7s\n",
      "[CV] colsample_bytree=0.6, learning_rate=0.02, min_child_samples=5, n_estimators=1200, n_jobs=1, num_leaves=70, random_seed=1, subsample=0.8 \n",
      "[CV]  colsample_bytree=0.6, learning_rate=0.02, min_child_samples=5, n_estimators=800, n_jobs=1, num_leaves=50, random_seed=1, subsample=0.8, score=-18578.237800, total=  13.1s\n",
      "[CV] colsample_bytree=0.6, learning_rate=0.02, min_child_samples=5, n_estimators=1200, n_jobs=1, num_leaves=100, random_seed=1, subsample=0.8 \n"
     ]
    },
    {
     "name": "stdout",
     "output_type": "stream",
     "text": [
      "[CV]  colsample_bytree=0.6, learning_rate=0.015, min_child_samples=40, n_estimators=1600, n_jobs=1, num_leaves=70, random_seed=1, subsample=0.8, score=-15914.997224, total=  31.1s\n",
      "[CV] colsample_bytree=0.6, learning_rate=0.02, min_child_samples=5, n_estimators=1600, n_jobs=1, num_leaves=30, random_seed=1, subsample=0.8 \n",
      "[CV]  colsample_bytree=0.6, learning_rate=0.02, min_child_samples=5, n_estimators=1200, n_jobs=1, num_leaves=30, random_seed=1, subsample=0.8, score=-21564.452087, total=  12.6s\n",
      "[CV] colsample_bytree=0.6, learning_rate=0.02, min_child_samples=5, n_estimators=1600, n_jobs=1, num_leaves=50, random_seed=1, subsample=0.8 \n",
      "[CV]  colsample_bytree=0.6, learning_rate=0.02, min_child_samples=5, n_estimators=800, n_jobs=1, num_leaves=70, random_seed=1, subsample=0.8, score=-17928.109312, total=  17.2s\n",
      "[CV] colsample_bytree=0.6, learning_rate=0.02, min_child_samples=5, n_estimators=1600, n_jobs=1, num_leaves=70, random_seed=1, subsample=0.8 \n",
      "[CV]  colsample_bytree=0.6, learning_rate=0.015, min_child_samples=40, n_estimators=1600, n_jobs=1, num_leaves=100, random_seed=1, subsample=0.8, score=-15659.475400, total=  34.5s\n",
      "[CV] colsample_bytree=0.6, learning_rate=0.02, min_child_samples=5, n_estimators=1600, n_jobs=1, num_leaves=100, random_seed=1, subsample=0.8 \n",
      "[CV]  colsample_bytree=0.6, learning_rate=0.02, min_child_samples=5, n_estimators=1200, n_jobs=1, num_leaves=50, random_seed=1, subsample=0.8, score=-18562.763304, total=  19.2s\n",
      "[CV] colsample_bytree=0.6, learning_rate=0.02, min_child_samples=10, n_estimators=400, n_jobs=1, num_leaves=30, random_seed=1, subsample=0.8 \n",
      "[CV]  colsample_bytree=0.6, learning_rate=0.02, min_child_samples=5, n_estimators=800, n_jobs=1, num_leaves=100, random_seed=1, subsample=0.8, score=-19033.203575, total=  23.1s\n",
      "[CV] colsample_bytree=0.6, learning_rate=0.02, min_child_samples=10, n_estimators=400, n_jobs=1, num_leaves=50, random_seed=1, subsample=0.8 \n",
      "[CV]  colsample_bytree=0.6, learning_rate=0.02, min_child_samples=10, n_estimators=400, n_jobs=1, num_leaves=30, random_seed=1, subsample=0.8, score=-18107.547977, total=   4.3s\n",
      "[CV] colsample_bytree=0.6, learning_rate=0.02, min_child_samples=10, n_estimators=400, n_jobs=1, num_leaves=70, random_seed=1, subsample=0.8 \n",
      "[CV]  colsample_bytree=0.6, learning_rate=0.02, min_child_samples=5, n_estimators=1600, n_jobs=1, num_leaves=30, random_seed=1, subsample=0.8, score=-21680.333857, total=  17.0s\n",
      "[CV] colsample_bytree=0.6, learning_rate=0.02, min_child_samples=10, n_estimators=400, n_jobs=1, num_leaves=100, random_seed=1, subsample=0.8 \n",
      "[CV]  colsample_bytree=0.6, learning_rate=0.02, min_child_samples=10, n_estimators=400, n_jobs=1, num_leaves=50, random_seed=1, subsample=0.8, score=-20604.916235, total=   6.3s\n",
      "[CV] colsample_bytree=0.6, learning_rate=0.02, min_child_samples=10, n_estimators=800, n_jobs=1, num_leaves=30, random_seed=1, subsample=0.8 \n",
      "[CV]  colsample_bytree=0.6, learning_rate=0.02, min_child_samples=5, n_estimators=1200, n_jobs=1, num_leaves=70, random_seed=1, subsample=0.8, score=-18077.771967, total=  25.3s\n",
      "[CV] colsample_bytree=0.6, learning_rate=0.02, min_child_samples=10, n_estimators=800, n_jobs=1, num_leaves=50, random_seed=1, subsample=0.8 \n",
      "[CV]  colsample_bytree=0.6, learning_rate=0.02, min_child_samples=10, n_estimators=400, n_jobs=1, num_leaves=70, random_seed=1, subsample=0.8, score=-19274.634701, total=   8.4s\n",
      "[CV] colsample_bytree=0.6, learning_rate=0.02, min_child_samples=10, n_estimators=800, n_jobs=1, num_leaves=70, random_seed=1, subsample=0.8 \n",
      "[CV]  colsample_bytree=0.6, learning_rate=0.02, min_child_samples=10, n_estimators=800, n_jobs=1, num_leaves=30, random_seed=1, subsample=0.8, score=-18126.677579, total=   8.2s\n",
      "[CV] colsample_bytree=0.6, learning_rate=0.02, min_child_samples=10, n_estimators=800, n_jobs=1, num_leaves=100, random_seed=1, subsample=0.8 \n",
      "[CV]  colsample_bytree=0.6, learning_rate=0.02, min_child_samples=10, n_estimators=400, n_jobs=1, num_leaves=100, random_seed=1, subsample=0.8, score=-19067.013344, total=  10.9s\n",
      "[CV] colsample_bytree=0.6, learning_rate=0.02, min_child_samples=10, n_estimators=1200, n_jobs=1, num_leaves=30, random_seed=1, subsample=0.8 \n",
      "[CV]  colsample_bytree=0.6, learning_rate=0.02, min_child_samples=5, n_estimators=1600, n_jobs=1, num_leaves=50, random_seed=1, subsample=0.8, score=-18558.899483, total=  24.9s\n",
      "[CV] colsample_bytree=0.6, learning_rate=0.02, min_child_samples=10, n_estimators=1200, n_jobs=1, num_leaves=50, random_seed=1, subsample=0.8 \n",
      "[CV]  colsample_bytree=0.6, learning_rate=0.02, min_child_samples=10, n_estimators=800, n_jobs=1, num_leaves=50, random_seed=1, subsample=0.8, score=-20165.849887, total=  12.3s\n",
      "[CV] colsample_bytree=0.6, learning_rate=0.02, min_child_samples=10, n_estimators=1200, n_jobs=1, num_leaves=70, random_seed=1, subsample=0.8 \n",
      "[CV]  colsample_bytree=0.6, learning_rate=0.02, min_child_samples=5, n_estimators=1200, n_jobs=1, num_leaves=100, random_seed=1, subsample=0.8, score=-19111.591202, total=  34.9s\n",
      "[CV] colsample_bytree=0.6, learning_rate=0.02, min_child_samples=10, n_estimators=1200, n_jobs=1, num_leaves=100, random_seed=1, subsample=0.8 \n",
      "[CV]  colsample_bytree=0.6, learning_rate=0.02, min_child_samples=10, n_estimators=800, n_jobs=1, num_leaves=70, random_seed=1, subsample=0.8, score=-18991.584325, total=  16.1s\n",
      "[CV] colsample_bytree=0.6, learning_rate=0.02, min_child_samples=10, n_estimators=1600, n_jobs=1, num_leaves=30, random_seed=1, subsample=0.8 \n",
      "[CV]  colsample_bytree=0.6, learning_rate=0.02, min_child_samples=10, n_estimators=1200, n_jobs=1, num_leaves=30, random_seed=1, subsample=0.8, score=-17185.873185, total=  12.3s\n",
      "[CV] colsample_bytree=0.6, learning_rate=0.02, min_child_samples=10, n_estimators=1600, n_jobs=1, num_leaves=50, random_seed=1, subsample=0.8 \n",
      "[CV]  colsample_bytree=0.6, learning_rate=0.02, min_child_samples=5, n_estimators=1600, n_jobs=1, num_leaves=70, random_seed=1, subsample=0.8, score=-18222.186632, total=  34.1s\n",
      "[CV] colsample_bytree=0.6, learning_rate=0.02, min_child_samples=10, n_estimators=1600, n_jobs=1, num_leaves=70, random_seed=1, subsample=0.8 \n",
      "[CV]  colsample_bytree=0.6, learning_rate=0.02, min_child_samples=10, n_estimators=800, n_jobs=1, num_leaves=100, random_seed=1, subsample=0.8, score=-18866.354341, total=  22.4s\n",
      "[CV] colsample_bytree=0.6, learning_rate=0.02, min_child_samples=10, n_estimators=1600, n_jobs=1, num_leaves=100, random_seed=1, subsample=0.8 \n",
      "[CV]  colsample_bytree=0.6, learning_rate=0.02, min_child_samples=10, n_estimators=1200, n_jobs=1, num_leaves=50, random_seed=1, subsample=0.8, score=-18742.723652, total=  18.4s\n",
      "[CV] colsample_bytree=0.6, learning_rate=0.02, min_child_samples=20, n_estimators=400, n_jobs=1, num_leaves=30, random_seed=1, subsample=0.8 \n",
      "[CV]  colsample_bytree=0.6, learning_rate=0.02, min_child_samples=20, n_estimators=400, n_jobs=1, num_leaves=30, random_seed=1, subsample=0.8, score=-15356.747518, total=   4.7s\n",
      "[CV] colsample_bytree=0.6, learning_rate=0.02, min_child_samples=20, n_estimators=400, n_jobs=1, num_leaves=50, random_seed=1, subsample=0.8 \n",
      "[CV]  colsample_bytree=0.6, learning_rate=0.02, min_child_samples=5, n_estimators=1600, n_jobs=1, num_leaves=100, random_seed=1, subsample=0.8, score=-19181.693527, total=  45.2s\n",
      "[CV] colsample_bytree=0.6, learning_rate=0.02, min_child_samples=20, n_estimators=400, n_jobs=1, num_leaves=70, random_seed=1, subsample=0.8 \n",
      "[CV]  colsample_bytree=0.6, learning_rate=0.02, min_child_samples=10, n_estimators=1600, n_jobs=1, num_leaves=30, random_seed=1, subsample=0.8, score=-17193.071742, total=  16.3s\n",
      "[CV] colsample_bytree=0.6, learning_rate=0.02, min_child_samples=20, n_estimators=400, n_jobs=1, num_leaves=100, random_seed=1, subsample=0.8 \n",
      "[CV]  colsample_bytree=0.6, learning_rate=0.02, min_child_samples=10, n_estimators=1200, n_jobs=1, num_leaves=70, random_seed=1, subsample=0.8, score=-18026.435600, total=  24.7s\n",
      "[CV] colsample_bytree=0.6, learning_rate=0.02, min_child_samples=20, n_estimators=800, n_jobs=1, num_leaves=30, random_seed=1, subsample=0.8 \n",
      "[CV]  colsample_bytree=0.6, learning_rate=0.02, min_child_samples=20, n_estimators=400, n_jobs=1, num_leaves=50, random_seed=1, subsample=0.8, score=-14673.302008, total=   6.2s\n"
     ]
    },
    {
     "name": "stdout",
     "output_type": "stream",
     "text": [
      "[CV] colsample_bytree=0.6, learning_rate=0.02, min_child_samples=20, n_estimators=800, n_jobs=1, num_leaves=50, random_seed=1, subsample=0.8 \n",
      "[CV]  colsample_bytree=0.6, learning_rate=0.02, min_child_samples=20, n_estimators=400, n_jobs=1, num_leaves=70, random_seed=1, subsample=0.8, score=-14712.778372, total=   8.6s\n",
      "[CV] colsample_bytree=0.6, learning_rate=0.02, min_child_samples=20, n_estimators=800, n_jobs=1, num_leaves=70, random_seed=1, subsample=0.8 \n",
      "[CV]  colsample_bytree=0.6, learning_rate=0.02, min_child_samples=10, n_estimators=1600, n_jobs=1, num_leaves=50, random_seed=1, subsample=0.8, score=-18198.123554, total=  24.1s\n",
      "[CV] colsample_bytree=0.6, learning_rate=0.02, min_child_samples=20, n_estimators=800, n_jobs=1, num_leaves=100, random_seed=1, subsample=0.8 \n",
      "[CV]  colsample_bytree=0.6, learning_rate=0.02, min_child_samples=20, n_estimators=400, n_jobs=1, num_leaves=100, random_seed=1, subsample=0.8, score=-15399.924461, total=  10.7s\n",
      "[CV] colsample_bytree=0.6, learning_rate=0.02, min_child_samples=20, n_estimators=1200, n_jobs=1, num_leaves=30, random_seed=1, subsample=0.8 \n",
      "[CV]  colsample_bytree=0.6, learning_rate=0.02, min_child_samples=20, n_estimators=800, n_jobs=1, num_leaves=30, random_seed=1, subsample=0.8, score=-15601.986625, total=   8.4s\n",
      "[CV] colsample_bytree=0.6, learning_rate=0.02, min_child_samples=20, n_estimators=1200, n_jobs=1, num_leaves=50, random_seed=1, subsample=0.8 \n",
      "[CV]  colsample_bytree=0.6, learning_rate=0.02, min_child_samples=10, n_estimators=1200, n_jobs=1, num_leaves=100, random_seed=1, subsample=0.8, score=-17755.486565, total=  33.1s\n",
      "[CV] colsample_bytree=0.6, learning_rate=0.02, min_child_samples=20, n_estimators=1200, n_jobs=1, num_leaves=70, random_seed=1, subsample=0.8 \n",
      "[CV]  colsample_bytree=0.6, learning_rate=0.02, min_child_samples=20, n_estimators=800, n_jobs=1, num_leaves=50, random_seed=1, subsample=0.8, score=-14395.707383, total=  12.3s\n",
      "[CV] colsample_bytree=0.6, learning_rate=0.02, min_child_samples=20, n_estimators=1200, n_jobs=1, num_leaves=100, random_seed=1, subsample=0.8 \n",
      "[CV]  colsample_bytree=0.6, learning_rate=0.02, min_child_samples=10, n_estimators=1600, n_jobs=1, num_leaves=70, random_seed=1, subsample=0.8, score=-17522.657684, total=  32.6s\n",
      "[CV] colsample_bytree=0.6, learning_rate=0.02, min_child_samples=20, n_estimators=1600, n_jobs=1, num_leaves=30, random_seed=1, subsample=0.8 \n",
      "[CV]  colsample_bytree=0.6, learning_rate=0.02, min_child_samples=20, n_estimators=1200, n_jobs=1, num_leaves=30, random_seed=1, subsample=0.8, score=-15082.167136, total=  12.2s\n",
      "[CV] colsample_bytree=0.6, learning_rate=0.02, min_child_samples=20, n_estimators=1600, n_jobs=1, num_leaves=50, random_seed=1, subsample=0.8 \n",
      "[CV]  colsample_bytree=0.6, learning_rate=0.02, min_child_samples=20, n_estimators=800, n_jobs=1, num_leaves=70, random_seed=1, subsample=0.8, score=-14403.489490, total=  16.2s\n",
      "[CV] colsample_bytree=0.6, learning_rate=0.02, min_child_samples=20, n_estimators=1600, n_jobs=1, num_leaves=70, random_seed=1, subsample=0.8 \n",
      "[CV]  colsample_bytree=0.6, learning_rate=0.02, min_child_samples=20, n_estimators=800, n_jobs=1, num_leaves=100, random_seed=1, subsample=0.8, score=-14783.856237, total=  20.8s\n",
      "[CV] colsample_bytree=0.6, learning_rate=0.02, min_child_samples=20, n_estimators=1600, n_jobs=1, num_leaves=100, random_seed=1, subsample=0.8 \n",
      "[CV]  colsample_bytree=0.6, learning_rate=0.02, min_child_samples=20, n_estimators=1200, n_jobs=1, num_leaves=50, random_seed=1, subsample=0.8, score=-14311.059655, total=  18.1s\n",
      "[CV] colsample_bytree=0.6, learning_rate=0.02, min_child_samples=40, n_estimators=400, n_jobs=1, num_leaves=30, random_seed=1, subsample=0.8 \n",
      "[CV]  colsample_bytree=0.6, learning_rate=0.02, min_child_samples=40, n_estimators=400, n_jobs=1, num_leaves=30, random_seed=1, subsample=0.8, score=-17187.443289, total=   4.4s\n",
      "[CV] colsample_bytree=0.6, learning_rate=0.02, min_child_samples=40, n_estimators=400, n_jobs=1, num_leaves=50, random_seed=1, subsample=0.8 \n",
      "[CV]  colsample_bytree=0.6, learning_rate=0.02, min_child_samples=20, n_estimators=1600, n_jobs=1, num_leaves=30, random_seed=1, subsample=0.8, score=-14900.048962, total=  16.0s\n",
      "[CV] colsample_bytree=0.6, learning_rate=0.02, min_child_samples=40, n_estimators=400, n_jobs=1, num_leaves=70, random_seed=1, subsample=0.8 \n",
      "[CV]  colsample_bytree=0.6, learning_rate=0.02, min_child_samples=10, n_estimators=1600, n_jobs=1, num_leaves=100, random_seed=1, subsample=0.8, score=-17216.789422, total=  42.8s\n",
      "[CV] colsample_bytree=0.6, learning_rate=0.02, min_child_samples=40, n_estimators=400, n_jobs=1, num_leaves=100, random_seed=1, subsample=0.8 \n",
      "[CV]  colsample_bytree=0.6, learning_rate=0.02, min_child_samples=20, n_estimators=1200, n_jobs=1, num_leaves=70, random_seed=1, subsample=0.8, score=-13981.036736, total=  24.6s\n",
      "[CV] colsample_bytree=0.6, learning_rate=0.02, min_child_samples=40, n_estimators=800, n_jobs=1, num_leaves=30, random_seed=1, subsample=0.8 \n",
      "[CV]  colsample_bytree=0.6, learning_rate=0.02, min_child_samples=40, n_estimators=400, n_jobs=1, num_leaves=50, random_seed=1, subsample=0.8, score=-17274.283029, total=   6.2s\n",
      "[CV] colsample_bytree=0.6, learning_rate=0.02, min_child_samples=40, n_estimators=800, n_jobs=1, num_leaves=50, random_seed=1, subsample=0.8 \n",
      "[CV]  colsample_bytree=0.6, learning_rate=0.02, min_child_samples=40, n_estimators=400, n_jobs=1, num_leaves=70, random_seed=1, subsample=0.8, score=-17687.725335, total=   8.1s\n",
      "[CV] colsample_bytree=0.6, learning_rate=0.02, min_child_samples=40, n_estimators=800, n_jobs=1, num_leaves=70, random_seed=1, subsample=0.8 \n",
      "[CV]  colsample_bytree=0.6, learning_rate=0.02, min_child_samples=40, n_estimators=400, n_jobs=1, num_leaves=100, random_seed=1, subsample=0.8, score=-17099.906993, total=   8.2s\n",
      "[CV] colsample_bytree=0.6, learning_rate=0.02, min_child_samples=40, n_estimators=800, n_jobs=1, num_leaves=100, random_seed=1, subsample=0.8 \n",
      "[CV]  colsample_bytree=0.6, learning_rate=0.02, min_child_samples=40, n_estimators=800, n_jobs=1, num_leaves=30, random_seed=1, subsample=0.8, score=-15313.588518, total=   8.1s\n",
      "[CV] colsample_bytree=0.6, learning_rate=0.02, min_child_samples=40, n_estimators=1200, n_jobs=1, num_leaves=30, random_seed=1, subsample=0.8 \n",
      "[CV]  colsample_bytree=0.6, learning_rate=0.02, min_child_samples=20, n_estimators=1600, n_jobs=1, num_leaves=50, random_seed=1, subsample=0.8, score=-14032.648750, total=  24.4s\n",
      "[CV] colsample_bytree=0.6, learning_rate=0.02, min_child_samples=40, n_estimators=1200, n_jobs=1, num_leaves=50, random_seed=1, subsample=0.8 \n",
      "[CV]  colsample_bytree=0.6, learning_rate=0.02, min_child_samples=20, n_estimators=1200, n_jobs=1, num_leaves=100, random_seed=1, subsample=0.8, score=-14324.254219, total=  32.5s\n",
      "[CV] colsample_bytree=0.6, learning_rate=0.02, min_child_samples=40, n_estimators=1200, n_jobs=1, num_leaves=70, random_seed=1, subsample=0.8 \n",
      "[CV]  colsample_bytree=0.6, learning_rate=0.02, min_child_samples=40, n_estimators=800, n_jobs=1, num_leaves=50, random_seed=1, subsample=0.8, score=-15225.928569, total=  11.9s\n",
      "[CV] colsample_bytree=0.6, learning_rate=0.02, min_child_samples=40, n_estimators=1200, n_jobs=1, num_leaves=100, random_seed=1, subsample=0.8 \n",
      "[CV]  colsample_bytree=0.6, learning_rate=0.02, min_child_samples=20, n_estimators=1600, n_jobs=1, num_leaves=70, random_seed=1, subsample=0.8, score=-13612.182945, total=  31.8s\n",
      "[CV] colsample_bytree=0.6, learning_rate=0.02, min_child_samples=40, n_estimators=1600, n_jobs=1, num_leaves=30, random_seed=1, subsample=0.8 \n",
      "[CV]  colsample_bytree=0.6, learning_rate=0.02, min_child_samples=40, n_estimators=800, n_jobs=1, num_leaves=70, random_seed=1, subsample=0.8, score=-15606.706308, total=  15.9s\n",
      "[CV] colsample_bytree=0.6, learning_rate=0.02, min_child_samples=40, n_estimators=1600, n_jobs=1, num_leaves=50, random_seed=1, subsample=0.8 \n",
      "[CV]  colsample_bytree=0.6, learning_rate=0.02, min_child_samples=40, n_estimators=1200, n_jobs=1, num_leaves=30, random_seed=1, subsample=0.8, score=-14975.038165, total=  12.8s\n",
      "[CV] colsample_bytree=0.6, learning_rate=0.02, min_child_samples=40, n_estimators=1600, n_jobs=1, num_leaves=70, random_seed=1, subsample=0.8 \n",
      "[CV]  colsample_bytree=0.6, learning_rate=0.02, min_child_samples=40, n_estimators=800, n_jobs=1, num_leaves=100, random_seed=1, subsample=0.8, score=-15051.709096, total=  18.7s\n"
     ]
    },
    {
     "name": "stdout",
     "output_type": "stream",
     "text": [
      "[CV] colsample_bytree=0.6, learning_rate=0.02, min_child_samples=40, n_estimators=1600, n_jobs=1, num_leaves=100, random_seed=1, subsample=0.8 \n",
      "[CV]  colsample_bytree=0.6, learning_rate=0.02, min_child_samples=40, n_estimators=1200, n_jobs=1, num_leaves=50, random_seed=1, subsample=0.8, score=-15022.149404, total=  18.2s\n",
      "[CV] colsample_bytree=0.8, learning_rate=0.01, min_child_samples=5, n_estimators=400, n_jobs=1, num_leaves=30, random_seed=1, subsample=0.8 \n",
      "[CV]  colsample_bytree=0.8, learning_rate=0.01, min_child_samples=5, n_estimators=400, n_jobs=1, num_leaves=30, random_seed=1, subsample=0.8, score=-17024.546743, total=   5.3s\n",
      "[CV] colsample_bytree=0.8, learning_rate=0.01, min_child_samples=5, n_estimators=400, n_jobs=1, num_leaves=50, random_seed=1, subsample=0.8 \n",
      "[CV]  colsample_bytree=0.6, learning_rate=0.02, min_child_samples=40, n_estimators=1200, n_jobs=1, num_leaves=70, random_seed=1, subsample=0.8, score=-15319.932051, total=  23.5s\n",
      "[CV] colsample_bytree=0.8, learning_rate=0.01, min_child_samples=5, n_estimators=400, n_jobs=1, num_leaves=70, random_seed=1, subsample=0.8 \n",
      "[CV]  colsample_bytree=0.6, learning_rate=0.02, min_child_samples=20, n_estimators=1600, n_jobs=1, num_leaves=100, random_seed=1, subsample=0.8, score=-14028.379039, total=  43.2s\n",
      "[CV] colsample_bytree=0.8, learning_rate=0.01, min_child_samples=5, n_estimators=400, n_jobs=1, num_leaves=100, random_seed=1, subsample=0.8 \n",
      "[CV]  colsample_bytree=0.6, learning_rate=0.02, min_child_samples=40, n_estimators=1600, n_jobs=1, num_leaves=30, random_seed=1, subsample=0.8, score=-14842.390344, total=  17.9s\n",
      "[CV] colsample_bytree=0.8, learning_rate=0.01, min_child_samples=5, n_estimators=800, n_jobs=1, num_leaves=30, random_seed=1, subsample=0.8 \n",
      "[CV]  colsample_bytree=0.8, learning_rate=0.01, min_child_samples=5, n_estimators=400, n_jobs=1, num_leaves=50, random_seed=1, subsample=0.8, score=-17583.819851, total=   8.0s\n",
      "[CV] colsample_bytree=0.8, learning_rate=0.01, min_child_samples=5, n_estimators=800, n_jobs=1, num_leaves=50, random_seed=1, subsample=0.8 \n",
      "[CV]  colsample_bytree=0.6, learning_rate=0.02, min_child_samples=40, n_estimators=1200, n_jobs=1, num_leaves=100, random_seed=1, subsample=0.8, score=-14802.797227, total=  26.8s\n",
      "[CV] colsample_bytree=0.8, learning_rate=0.01, min_child_samples=5, n_estimators=800, n_jobs=1, num_leaves=70, random_seed=1, subsample=0.8 \n",
      "[CV]  colsample_bytree=0.8, learning_rate=0.01, min_child_samples=5, n_estimators=400, n_jobs=1, num_leaves=70, random_seed=1, subsample=0.8, score=-17212.359186, total=  10.3s\n",
      "[CV] colsample_bytree=0.8, learning_rate=0.01, min_child_samples=5, n_estimators=800, n_jobs=1, num_leaves=100, random_seed=1, subsample=0.8 \n",
      "[CV]  colsample_bytree=0.8, learning_rate=0.01, min_child_samples=5, n_estimators=800, n_jobs=1, num_leaves=30, random_seed=1, subsample=0.8, score=-18078.279654, total=  10.8s\n",
      "[CV] colsample_bytree=0.8, learning_rate=0.01, min_child_samples=5, n_estimators=1200, n_jobs=1, num_leaves=30, random_seed=1, subsample=0.8 \n",
      "[CV]  colsample_bytree=0.6, learning_rate=0.02, min_child_samples=40, n_estimators=1600, n_jobs=1, num_leaves=50, random_seed=1, subsample=0.8, score=-14695.797304, total=  25.2s\n",
      "[CV] colsample_bytree=0.8, learning_rate=0.01, min_child_samples=5, n_estimators=1200, n_jobs=1, num_leaves=50, random_seed=1, subsample=0.8 \n",
      "[CV]  colsample_bytree=0.8, learning_rate=0.01, min_child_samples=5, n_estimators=400, n_jobs=1, num_leaves=100, random_seed=1, subsample=0.8, score=-17193.970224, total=  14.1s\n",
      "[CV] colsample_bytree=0.8, learning_rate=0.01, min_child_samples=5, n_estimators=1200, n_jobs=1, num_leaves=70, random_seed=1, subsample=0.8 \n",
      "[CV]  colsample_bytree=0.8, learning_rate=0.01, min_child_samples=5, n_estimators=800, n_jobs=1, num_leaves=50, random_seed=1, subsample=0.8, score=-19126.159429, total=  16.5s\n",
      "[CV] colsample_bytree=0.8, learning_rate=0.01, min_child_samples=5, n_estimators=1200, n_jobs=1, num_leaves=100, random_seed=1, subsample=0.8 \n",
      "[CV]  colsample_bytree=0.6, learning_rate=0.02, min_child_samples=40, n_estimators=1600, n_jobs=1, num_leaves=70, random_seed=1, subsample=0.8, score=-14901.868574, total=  34.0s\n",
      "[CV] colsample_bytree=0.8, learning_rate=0.01, min_child_samples=5, n_estimators=1600, n_jobs=1, num_leaves=30, random_seed=1, subsample=0.8 \n",
      "[CV]  colsample_bytree=0.6, learning_rate=0.02, min_child_samples=40, n_estimators=1600, n_jobs=1, num_leaves=100, random_seed=1, subsample=0.8, score=-14343.929925, total=  35.1s\n",
      "[CV] colsample_bytree=0.8, learning_rate=0.01, min_child_samples=5, n_estimators=1600, n_jobs=1, num_leaves=50, random_seed=1, subsample=0.8 \n",
      "[CV]  colsample_bytree=0.8, learning_rate=0.01, min_child_samples=5, n_estimators=800, n_jobs=1, num_leaves=70, random_seed=1, subsample=0.8, score=-19143.706611, total=  21.6s\n",
      "[CV] colsample_bytree=0.8, learning_rate=0.01, min_child_samples=5, n_estimators=1600, n_jobs=1, num_leaves=70, random_seed=1, subsample=0.8 \n",
      "[CV]  colsample_bytree=0.8, learning_rate=0.01, min_child_samples=5, n_estimators=1200, n_jobs=1, num_leaves=30, random_seed=1, subsample=0.8, score=-18153.141686, total=  16.0s\n",
      "[CV] colsample_bytree=0.8, learning_rate=0.01, min_child_samples=5, n_estimators=1600, n_jobs=1, num_leaves=100, random_seed=1, subsample=0.8 \n",
      "[CV]  colsample_bytree=0.8, learning_rate=0.01, min_child_samples=5, n_estimators=1200, n_jobs=1, num_leaves=50, random_seed=1, subsample=0.8, score=-19261.181495, total=  23.9s\n",
      "[CV] colsample_bytree=0.8, learning_rate=0.01, min_child_samples=10, n_estimators=400, n_jobs=1, num_leaves=30, random_seed=1, subsample=0.8 \n",
      "[CV]  colsample_bytree=0.8, learning_rate=0.01, min_child_samples=5, n_estimators=800, n_jobs=1, num_leaves=100, random_seed=1, subsample=0.8, score=-18902.231772, total=  29.0s\n",
      "[CV] colsample_bytree=0.8, learning_rate=0.01, min_child_samples=10, n_estimators=400, n_jobs=1, num_leaves=50, random_seed=1, subsample=0.8 \n",
      "[CV]  colsample_bytree=0.8, learning_rate=0.01, min_child_samples=10, n_estimators=400, n_jobs=1, num_leaves=30, random_seed=1, subsample=0.8, score=-17982.528617, total=   5.0s\n",
      "[CV] colsample_bytree=0.8, learning_rate=0.01, min_child_samples=10, n_estimators=400, n_jobs=1, num_leaves=70, random_seed=1, subsample=0.8 \n",
      "[CV]  colsample_bytree=0.8, learning_rate=0.01, min_child_samples=5, n_estimators=1600, n_jobs=1, num_leaves=30, random_seed=1, subsample=0.8, score=-18049.395103, total=  20.1s\n",
      "[CV] colsample_bytree=0.8, learning_rate=0.01, min_child_samples=10, n_estimators=400, n_jobs=1, num_leaves=100, random_seed=1, subsample=0.8 \n",
      "[CV]  colsample_bytree=0.8, learning_rate=0.01, min_child_samples=10, n_estimators=400, n_jobs=1, num_leaves=50, random_seed=1, subsample=0.8, score=-17632.710586, total=   7.5s\n",
      "[CV] colsample_bytree=0.8, learning_rate=0.01, min_child_samples=10, n_estimators=800, n_jobs=1, num_leaves=30, random_seed=1, subsample=0.8 \n",
      "[CV]  colsample_bytree=0.8, learning_rate=0.01, min_child_samples=5, n_estimators=1200, n_jobs=1, num_leaves=70, random_seed=1, subsample=0.8, score=-19351.528605, total=  32.1s\n",
      "[CV] colsample_bytree=0.8, learning_rate=0.01, min_child_samples=10, n_estimators=800, n_jobs=1, num_leaves=50, random_seed=1, subsample=0.8 \n",
      "[CV]  colsample_bytree=0.8, learning_rate=0.01, min_child_samples=10, n_estimators=400, n_jobs=1, num_leaves=70, random_seed=1, subsample=0.8, score=-17337.430403, total=   9.7s\n",
      "[CV] colsample_bytree=0.8, learning_rate=0.01, min_child_samples=10, n_estimators=800, n_jobs=1, num_leaves=70, random_seed=1, subsample=0.8 \n",
      "[CV]  colsample_bytree=0.8, learning_rate=0.01, min_child_samples=10, n_estimators=400, n_jobs=1, num_leaves=100, random_seed=1, subsample=0.8, score=-18218.840160, total=  12.9s\n",
      "[CV] colsample_bytree=0.8, learning_rate=0.01, min_child_samples=10, n_estimators=800, n_jobs=1, num_leaves=100, random_seed=1, subsample=0.8 \n",
      "[CV]  colsample_bytree=0.8, learning_rate=0.01, min_child_samples=10, n_estimators=800, n_jobs=1, num_leaves=30, random_seed=1, subsample=0.8, score=-18823.124321, total=  10.0s\n",
      "[CV] colsample_bytree=0.8, learning_rate=0.01, min_child_samples=10, n_estimators=1200, n_jobs=1, num_leaves=30, random_seed=1, subsample=0.8 \n",
      "[CV]  colsample_bytree=0.8, learning_rate=0.01, min_child_samples=5, n_estimators=1600, n_jobs=1, num_leaves=50, random_seed=1, subsample=0.8, score=-19411.285972, total=  31.0s\n"
     ]
    },
    {
     "name": "stdout",
     "output_type": "stream",
     "text": [
      "[CV] colsample_bytree=0.8, learning_rate=0.01, min_child_samples=10, n_estimators=1200, n_jobs=1, num_leaves=50, random_seed=1, subsample=0.8 \n",
      "[CV]  colsample_bytree=0.8, learning_rate=0.01, min_child_samples=10, n_estimators=800, n_jobs=1, num_leaves=50, random_seed=1, subsample=0.8, score=-18464.136951, total=  15.1s\n",
      "[CV] colsample_bytree=0.8, learning_rate=0.01, min_child_samples=10, n_estimators=1200, n_jobs=1, num_leaves=70, random_seed=1, subsample=0.8 \n",
      "[CV]  colsample_bytree=0.8, learning_rate=0.01, min_child_samples=5, n_estimators=1200, n_jobs=1, num_leaves=100, random_seed=1, subsample=0.8, score=-18912.439711, total=  44.7s\n",
      "[CV] colsample_bytree=0.8, learning_rate=0.01, min_child_samples=10, n_estimators=1200, n_jobs=1, num_leaves=100, random_seed=1, subsample=0.8 \n",
      "[CV]  colsample_bytree=0.8, learning_rate=0.01, min_child_samples=10, n_estimators=1200, n_jobs=1, num_leaves=30, random_seed=1, subsample=0.8, score=-18799.975726, total=  14.5s\n",
      "[CV] colsample_bytree=0.8, learning_rate=0.01, min_child_samples=10, n_estimators=1600, n_jobs=1, num_leaves=30, random_seed=1, subsample=0.8 \n",
      "[CV]  colsample_bytree=0.8, learning_rate=0.01, min_child_samples=10, n_estimators=800, n_jobs=1, num_leaves=70, random_seed=1, subsample=0.8, score=-18118.729465, total=  19.4s\n",
      "[CV] colsample_bytree=0.8, learning_rate=0.01, min_child_samples=10, n_estimators=1600, n_jobs=1, num_leaves=50, random_seed=1, subsample=0.8 \n",
      "[CV]  colsample_bytree=0.8, learning_rate=0.01, min_child_samples=5, n_estimators=1600, n_jobs=1, num_leaves=70, random_seed=1, subsample=0.8, score=-19443.881560, total=  42.6s\n",
      "[CV] colsample_bytree=0.8, learning_rate=0.01, min_child_samples=10, n_estimators=1600, n_jobs=1, num_leaves=70, random_seed=1, subsample=0.8 \n",
      "[CV]  colsample_bytree=0.8, learning_rate=0.01, min_child_samples=10, n_estimators=800, n_jobs=1, num_leaves=100, random_seed=1, subsample=0.8, score=-19313.362793, total=  26.7s\n",
      "[CV] colsample_bytree=0.8, learning_rate=0.01, min_child_samples=10, n_estimators=1600, n_jobs=1, num_leaves=100, random_seed=1, subsample=0.8 \n",
      "[CV]  colsample_bytree=0.8, learning_rate=0.01, min_child_samples=10, n_estimators=1200, n_jobs=1, num_leaves=50, random_seed=1, subsample=0.8, score=-18713.281714, total=  23.2s\n",
      "[CV] colsample_bytree=0.8, learning_rate=0.01, min_child_samples=20, n_estimators=400, n_jobs=1, num_leaves=30, random_seed=1, subsample=0.8 \n",
      "[CV]  colsample_bytree=0.8, learning_rate=0.01, min_child_samples=5, n_estimators=1600, n_jobs=1, num_leaves=100, random_seed=1, subsample=0.8, score=-18774.386929, total=  57.3s\n",
      "[CV] colsample_bytree=0.8, learning_rate=0.01, min_child_samples=20, n_estimators=400, n_jobs=1, num_leaves=50, random_seed=1, subsample=0.8 \n",
      "[CV]  colsample_bytree=0.8, learning_rate=0.01, min_child_samples=20, n_estimators=400, n_jobs=1, num_leaves=30, random_seed=1, subsample=0.8, score=-14806.888449, total=   4.8s\n",
      "[CV] colsample_bytree=0.8, learning_rate=0.01, min_child_samples=20, n_estimators=400, n_jobs=1, num_leaves=70, random_seed=1, subsample=0.8 \n",
      "[CV]  colsample_bytree=0.8, learning_rate=0.01, min_child_samples=10, n_estimators=1600, n_jobs=1, num_leaves=30, random_seed=1, subsample=0.8, score=-19029.055074, total=  19.7s\n",
      "[CV] colsample_bytree=0.8, learning_rate=0.01, min_child_samples=20, n_estimators=400, n_jobs=1, num_leaves=100, random_seed=1, subsample=0.8 \n",
      "[CV]  colsample_bytree=0.8, learning_rate=0.01, min_child_samples=10, n_estimators=1200, n_jobs=1, num_leaves=70, random_seed=1, subsample=0.8, score=-18153.027187, total=  30.0s\n",
      "[CV] colsample_bytree=0.8, learning_rate=0.01, min_child_samples=20, n_estimators=800, n_jobs=1, num_leaves=30, random_seed=1, subsample=0.8 \n",
      "[CV]  colsample_bytree=0.8, learning_rate=0.01, min_child_samples=20, n_estimators=400, n_jobs=1, num_leaves=50, random_seed=1, subsample=0.8, score=-14858.043357, total=   7.2s\n",
      "[CV] colsample_bytree=0.8, learning_rate=0.01, min_child_samples=20, n_estimators=800, n_jobs=1, num_leaves=50, random_seed=1, subsample=0.8 \n",
      "[CV]  colsample_bytree=0.8, learning_rate=0.01, min_child_samples=20, n_estimators=400, n_jobs=1, num_leaves=70, random_seed=1, subsample=0.8, score=-15287.627057, total=   9.2s\n",
      "[CV] colsample_bytree=0.8, learning_rate=0.01, min_child_samples=20, n_estimators=800, n_jobs=1, num_leaves=70, random_seed=1, subsample=0.8 \n",
      "[CV]  colsample_bytree=0.8, learning_rate=0.01, min_child_samples=20, n_estimators=400, n_jobs=1, num_leaves=100, random_seed=1, subsample=0.8, score=-15270.288470, total=  12.3s\n",
      "[CV] colsample_bytree=0.8, learning_rate=0.01, min_child_samples=20, n_estimators=800, n_jobs=1, num_leaves=100, random_seed=1, subsample=0.8 \n",
      "[CV]  colsample_bytree=0.8, learning_rate=0.01, min_child_samples=10, n_estimators=1600, n_jobs=1, num_leaves=50, random_seed=1, subsample=0.8, score=-18681.058682, total=  30.2s\n",
      "[CV] colsample_bytree=0.8, learning_rate=0.01, min_child_samples=20, n_estimators=1200, n_jobs=1, num_leaves=30, random_seed=1, subsample=0.8 \n",
      "[CV]  colsample_bytree=0.8, learning_rate=0.01, min_child_samples=20, n_estimators=800, n_jobs=1, num_leaves=30, random_seed=1, subsample=0.8, score=-14548.800306, total=   9.6s\n",
      "[CV] colsample_bytree=0.8, learning_rate=0.01, min_child_samples=20, n_estimators=1200, n_jobs=1, num_leaves=50, random_seed=1, subsample=0.8 \n",
      "[CV]  colsample_bytree=0.8, learning_rate=0.01, min_child_samples=10, n_estimators=1200, n_jobs=1, num_leaves=100, random_seed=1, subsample=0.8, score=-19066.410901, total=  40.1s\n",
      "[CV] colsample_bytree=0.8, learning_rate=0.01, min_child_samples=20, n_estimators=1200, n_jobs=1, num_leaves=70, random_seed=1, subsample=0.8 \n",
      "[CV]  colsample_bytree=0.8, learning_rate=0.01, min_child_samples=20, n_estimators=800, n_jobs=1, num_leaves=50, random_seed=1, subsample=0.8, score=-14513.907689, total=  14.7s\n",
      "[CV] colsample_bytree=0.8, learning_rate=0.01, min_child_samples=20, n_estimators=1200, n_jobs=1, num_leaves=100, random_seed=1, subsample=0.8 \n",
      "[CV]  colsample_bytree=0.8, learning_rate=0.01, min_child_samples=10, n_estimators=1600, n_jobs=1, num_leaves=70, random_seed=1, subsample=0.8, score=-17987.223522, total=  39.8s\n",
      "[CV] colsample_bytree=0.8, learning_rate=0.01, min_child_samples=20, n_estimators=1600, n_jobs=1, num_leaves=30, random_seed=1, subsample=0.8 \n",
      "[CV]  colsample_bytree=0.8, learning_rate=0.01, min_child_samples=20, n_estimators=800, n_jobs=1, num_leaves=70, random_seed=1, subsample=0.8, score=-14621.844676, total=  19.2s\n",
      "[CV] colsample_bytree=0.8, learning_rate=0.01, min_child_samples=20, n_estimators=1600, n_jobs=1, num_leaves=50, random_seed=1, subsample=0.8 \n",
      "[CV]  colsample_bytree=0.8, learning_rate=0.01, min_child_samples=20, n_estimators=1200, n_jobs=1, num_leaves=30, random_seed=1, subsample=0.8, score=-14672.790288, total=  14.6s\n",
      "[CV] colsample_bytree=0.8, learning_rate=0.01, min_child_samples=20, n_estimators=1600, n_jobs=1, num_leaves=70, random_seed=1, subsample=0.8 \n",
      "[CV]  colsample_bytree=0.8, learning_rate=0.01, min_child_samples=20, n_estimators=1200, n_jobs=1, num_leaves=50, random_seed=1, subsample=0.8, score=-14470.872923, total=  22.1s\n",
      "[CV] colsample_bytree=0.8, learning_rate=0.01, min_child_samples=20, n_estimators=1600, n_jobs=1, num_leaves=100, random_seed=1, subsample=0.8 \n",
      "[CV]  colsample_bytree=0.8, learning_rate=0.01, min_child_samples=20, n_estimators=800, n_jobs=1, num_leaves=100, random_seed=1, subsample=0.8, score=-14908.720773, total=  25.0s\n",
      "[CV] colsample_bytree=0.8, learning_rate=0.01, min_child_samples=40, n_estimators=400, n_jobs=1, num_leaves=30, random_seed=1, subsample=0.8 \n",
      "[CV]  colsample_bytree=0.8, learning_rate=0.01, min_child_samples=40, n_estimators=400, n_jobs=1, num_leaves=30, random_seed=1, subsample=0.8, score=-18076.064142, total=   4.6s\n",
      "[CV] colsample_bytree=0.8, learning_rate=0.01, min_child_samples=40, n_estimators=400, n_jobs=1, num_leaves=50, random_seed=1, subsample=0.8 \n",
      "[CV]  colsample_bytree=0.8, learning_rate=0.01, min_child_samples=20, n_estimators=1600, n_jobs=1, num_leaves=30, random_seed=1, subsample=0.8, score=-14349.747057, total=  19.2s\n",
      "[CV] colsample_bytree=0.8, learning_rate=0.01, min_child_samples=40, n_estimators=400, n_jobs=1, num_leaves=70, random_seed=1, subsample=0.8 \n",
      "[CV]  colsample_bytree=0.8, learning_rate=0.01, min_child_samples=10, n_estimators=1600, n_jobs=1, num_leaves=100, random_seed=1, subsample=0.8, score=-18780.556268, total=  54.3s\n"
     ]
    },
    {
     "name": "stdout",
     "output_type": "stream",
     "text": [
      "[CV] colsample_bytree=0.8, learning_rate=0.01, min_child_samples=40, n_estimators=400, n_jobs=1, num_leaves=100, random_seed=1, subsample=0.8 \n",
      "[CV]  colsample_bytree=0.8, learning_rate=0.01, min_child_samples=20, n_estimators=1200, n_jobs=1, num_leaves=70, random_seed=1, subsample=0.8, score=-14588.496577, total=  28.6s\n",
      "[CV]  colsample_bytree=0.8, learning_rate=0.01, min_child_samples=40, n_estimators=400, n_jobs=1, num_leaves=50, random_seed=1, subsample=0.8, score=-18320.728351, total=   7.1s\n",
      "[CV] colsample_bytree=0.8, learning_rate=0.01, min_child_samples=40, n_estimators=800, n_jobs=1, num_leaves=30, random_seed=1, subsample=0.8 \n",
      "[CV] colsample_bytree=0.8, learning_rate=0.01, min_child_samples=40, n_estimators=800, n_jobs=1, num_leaves=50, random_seed=1, subsample=0.8 \n",
      "[CV]  colsample_bytree=0.8, learning_rate=0.01, min_child_samples=40, n_estimators=400, n_jobs=1, num_leaves=70, random_seed=1, subsample=0.8, score=-18615.420109, total=   9.0s\n",
      "[CV] colsample_bytree=0.8, learning_rate=0.01, min_child_samples=40, n_estimators=800, n_jobs=1, num_leaves=70, random_seed=1, subsample=0.8 \n",
      "[CV]  colsample_bytree=0.8, learning_rate=0.01, min_child_samples=40, n_estimators=400, n_jobs=1, num_leaves=100, random_seed=1, subsample=0.8, score=-18415.679269, total=   9.6s\n",
      "[CV] colsample_bytree=0.8, learning_rate=0.01, min_child_samples=40, n_estimators=800, n_jobs=1, num_leaves=100, random_seed=1, subsample=0.8 \n",
      "[CV]  colsample_bytree=0.8, learning_rate=0.01, min_child_samples=20, n_estimators=1600, n_jobs=1, num_leaves=50, random_seed=1, subsample=0.8, score=-14341.258640, total=  29.3s\n",
      "[CV] colsample_bytree=0.8, learning_rate=0.01, min_child_samples=40, n_estimators=1200, n_jobs=1, num_leaves=30, random_seed=1, subsample=0.8 \n",
      "[CV]  colsample_bytree=0.8, learning_rate=0.01, min_child_samples=40, n_estimators=800, n_jobs=1, num_leaves=30, random_seed=1, subsample=0.8, score=-17916.465708, total=   9.5s\n",
      "[CV] colsample_bytree=0.8, learning_rate=0.01, min_child_samples=40, n_estimators=1200, n_jobs=1, num_leaves=50, random_seed=1, subsample=0.8 \n",
      "[CV]  colsample_bytree=0.8, learning_rate=0.01, min_child_samples=20, n_estimators=1200, n_jobs=1, num_leaves=100, random_seed=1, subsample=0.8, score=-14984.913723, total=  38.2s\n",
      "[CV] colsample_bytree=0.8, learning_rate=0.01, min_child_samples=40, n_estimators=1200, n_jobs=1, num_leaves=70, random_seed=1, subsample=0.8 \n",
      "[CV]  colsample_bytree=0.8, learning_rate=0.01, min_child_samples=40, n_estimators=800, n_jobs=1, num_leaves=50, random_seed=1, subsample=0.8, score=-18076.492894, total=  14.7s\n",
      "[CV] colsample_bytree=0.8, learning_rate=0.01, min_child_samples=40, n_estimators=1200, n_jobs=1, num_leaves=100, random_seed=1, subsample=0.8 \n",
      "[CV]  colsample_bytree=0.8, learning_rate=0.01, min_child_samples=20, n_estimators=1600, n_jobs=1, num_leaves=70, random_seed=1, subsample=0.8, score=-14387.644292, total=  39.6s\n",
      "[CV] colsample_bytree=0.8, learning_rate=0.01, min_child_samples=40, n_estimators=1600, n_jobs=1, num_leaves=30, random_seed=1, subsample=0.8 \n",
      "[CV]  colsample_bytree=0.8, learning_rate=0.01, min_child_samples=40, n_estimators=1200, n_jobs=1, num_leaves=30, random_seed=1, subsample=0.8, score=-17290.301351, total=  14.8s\n",
      "[CV] colsample_bytree=0.8, learning_rate=0.01, min_child_samples=40, n_estimators=1600, n_jobs=1, num_leaves=50, random_seed=1, subsample=0.8 \n",
      "[CV]  colsample_bytree=0.8, learning_rate=0.01, min_child_samples=40, n_estimators=800, n_jobs=1, num_leaves=70, random_seed=1, subsample=0.8, score=-18155.066887, total=  18.4s\n",
      "[CV] colsample_bytree=0.8, learning_rate=0.01, min_child_samples=40, n_estimators=1600, n_jobs=1, num_leaves=70, random_seed=1, subsample=0.8 \n",
      "[CV]  colsample_bytree=0.8, learning_rate=0.01, min_child_samples=40, n_estimators=800, n_jobs=1, num_leaves=100, random_seed=1, subsample=0.8, score=-17836.556463, total=  19.6s\n",
      "[CV] colsample_bytree=0.8, learning_rate=0.01, min_child_samples=40, n_estimators=1600, n_jobs=1, num_leaves=100, random_seed=1, subsample=0.8 \n",
      "[CV]  colsample_bytree=0.8, learning_rate=0.01, min_child_samples=40, n_estimators=1200, n_jobs=1, num_leaves=50, random_seed=1, subsample=0.8, score=-17472.437505, total=  22.0s\n",
      "[CV] colsample_bytree=0.8, learning_rate=0.015, min_child_samples=5, n_estimators=400, n_jobs=1, num_leaves=30, random_seed=1, subsample=0.8 \n",
      "[CV]  colsample_bytree=0.8, learning_rate=0.015, min_child_samples=5, n_estimators=400, n_jobs=1, num_leaves=30, random_seed=1, subsample=0.8, score=-18127.890068, total=   5.1s\n",
      "[CV] colsample_bytree=0.8, learning_rate=0.015, min_child_samples=5, n_estimators=400, n_jobs=1, num_leaves=50, random_seed=1, subsample=0.8 \n",
      "[CV]  colsample_bytree=0.8, learning_rate=0.01, min_child_samples=40, n_estimators=1200, n_jobs=1, num_leaves=70, random_seed=1, subsample=0.8, score=-17514.910617, total=  27.1s\n",
      "[CV] colsample_bytree=0.8, learning_rate=0.015, min_child_samples=5, n_estimators=400, n_jobs=1, num_leaves=70, random_seed=1, subsample=0.8 \n",
      "[CV]  colsample_bytree=0.8, learning_rate=0.01, min_child_samples=20, n_estimators=1600, n_jobs=1, num_leaves=100, random_seed=1, subsample=0.8, score=-14628.688790, total=  51.1s\n",
      "[CV] colsample_bytree=0.8, learning_rate=0.015, min_child_samples=5, n_estimators=400, n_jobs=1, num_leaves=100, random_seed=1, subsample=0.8 \n",
      "[CV]  colsample_bytree=0.8, learning_rate=0.01, min_child_samples=40, n_estimators=1600, n_jobs=1, num_leaves=30, random_seed=1, subsample=0.8, score=-16663.267398, total=  19.7s\n",
      "[CV] colsample_bytree=0.8, learning_rate=0.015, min_child_samples=5, n_estimators=800, n_jobs=1, num_leaves=30, random_seed=1, subsample=0.8 \n",
      "[CV]  colsample_bytree=0.8, learning_rate=0.015, min_child_samples=5, n_estimators=400, n_jobs=1, num_leaves=50, random_seed=1, subsample=0.8, score=-17924.477023, total=   8.1s\n",
      "[CV] colsample_bytree=0.8, learning_rate=0.015, min_child_samples=5, n_estimators=800, n_jobs=1, num_leaves=50, random_seed=1, subsample=0.8 \n",
      "[CV]  colsample_bytree=0.8, learning_rate=0.01, min_child_samples=40, n_estimators=1200, n_jobs=1, num_leaves=100, random_seed=1, subsample=0.8, score=-17302.556268, total=  30.8s\n",
      "[CV] colsample_bytree=0.8, learning_rate=0.015, min_child_samples=5, n_estimators=800, n_jobs=1, num_leaves=70, random_seed=1, subsample=0.8 \n",
      "[CV]  colsample_bytree=0.8, learning_rate=0.015, min_child_samples=5, n_estimators=400, n_jobs=1, num_leaves=70, random_seed=1, subsample=0.8, score=-18676.632415, total=  10.6s\n",
      "[CV] colsample_bytree=0.8, learning_rate=0.015, min_child_samples=5, n_estimators=800, n_jobs=1, num_leaves=100, random_seed=1, subsample=0.8 \n",
      "[CV]  colsample_bytree=0.8, learning_rate=0.015, min_child_samples=5, n_estimators=800, n_jobs=1, num_leaves=30, random_seed=1, subsample=0.8, score=-18427.234010, total=  10.1s\n",
      "[CV] colsample_bytree=0.8, learning_rate=0.015, min_child_samples=5, n_estimators=1200, n_jobs=1, num_leaves=30, random_seed=1, subsample=0.8 \n",
      "[CV]  colsample_bytree=0.8, learning_rate=0.015, min_child_samples=5, n_estimators=400, n_jobs=1, num_leaves=100, random_seed=1, subsample=0.8, score=-17792.284252, total=  14.4s\n",
      "[CV] colsample_bytree=0.8, learning_rate=0.015, min_child_samples=5, n_estimators=1200, n_jobs=1, num_leaves=50, random_seed=1, subsample=0.8 \n",
      "[CV]  colsample_bytree=0.8, learning_rate=0.01, min_child_samples=40, n_estimators=1600, n_jobs=1, num_leaves=50, random_seed=1, subsample=0.8, score=-16737.334124, total=  29.0s\n",
      "[CV] colsample_bytree=0.8, learning_rate=0.015, min_child_samples=5, n_estimators=1200, n_jobs=1, num_leaves=70, random_seed=1, subsample=0.8 \n",
      "[CV]  colsample_bytree=0.8, learning_rate=0.015, min_child_samples=5, n_estimators=800, n_jobs=1, num_leaves=50, random_seed=1, subsample=0.8, score=-18059.542972, total=  15.9s\n",
      "[CV] colsample_bytree=0.8, learning_rate=0.015, min_child_samples=5, n_estimators=1200, n_jobs=1, num_leaves=100, random_seed=1, subsample=0.8 \n",
      "[CV]  colsample_bytree=0.8, learning_rate=0.01, min_child_samples=40, n_estimators=1600, n_jobs=1, num_leaves=70, random_seed=1, subsample=0.8, score=-16896.790595, total=  37.5s\n",
      "[CV] colsample_bytree=0.8, learning_rate=0.015, min_child_samples=5, n_estimators=1600, n_jobs=1, num_leaves=30, random_seed=1, subsample=0.8 \n",
      "[CV]  colsample_bytree=0.8, learning_rate=0.015, min_child_samples=5, n_estimators=1200, n_jobs=1, num_leaves=30, random_seed=1, subsample=0.8, score=-18392.932710, total=  14.6s\n"
     ]
    },
    {
     "name": "stdout",
     "output_type": "stream",
     "text": [
      "[CV] colsample_bytree=0.8, learning_rate=0.015, min_child_samples=5, n_estimators=1600, n_jobs=1, num_leaves=50, random_seed=1, subsample=0.8 \n",
      "[CV]  colsample_bytree=0.8, learning_rate=0.015, min_child_samples=5, n_estimators=800, n_jobs=1, num_leaves=70, random_seed=1, subsample=0.8, score=-18512.394091, total=  20.7s\n",
      "[CV] colsample_bytree=0.8, learning_rate=0.015, min_child_samples=5, n_estimators=1600, n_jobs=1, num_leaves=70, random_seed=1, subsample=0.8 \n",
      "[CV]  colsample_bytree=0.8, learning_rate=0.01, min_child_samples=40, n_estimators=1600, n_jobs=1, num_leaves=100, random_seed=1, subsample=0.8, score=-16492.816364, total=  40.9s\n",
      "[CV] colsample_bytree=0.8, learning_rate=0.015, min_child_samples=5, n_estimators=1600, n_jobs=1, num_leaves=100, random_seed=1, subsample=0.8 \n",
      "[CV]  colsample_bytree=0.8, learning_rate=0.015, min_child_samples=5, n_estimators=800, n_jobs=1, num_leaves=100, random_seed=1, subsample=0.8, score=-17818.345225, total=  28.3s\n",
      "[CV] colsample_bytree=0.8, learning_rate=0.015, min_child_samples=10, n_estimators=400, n_jobs=1, num_leaves=30, random_seed=1, subsample=0.8 \n",
      "[CV]  colsample_bytree=0.8, learning_rate=0.015, min_child_samples=5, n_estimators=1200, n_jobs=1, num_leaves=50, random_seed=1, subsample=0.8, score=-18242.217339, total=  23.9s\n",
      "[CV] colsample_bytree=0.8, learning_rate=0.015, min_child_samples=10, n_estimators=400, n_jobs=1, num_leaves=50, random_seed=1, subsample=0.8 \n",
      "[CV]  colsample_bytree=0.8, learning_rate=0.015, min_child_samples=10, n_estimators=400, n_jobs=1, num_leaves=30, random_seed=1, subsample=0.8, score=-17603.736275, total=   4.8s\n",
      "[CV] colsample_bytree=0.8, learning_rate=0.015, min_child_samples=10, n_estimators=400, n_jobs=1, num_leaves=70, random_seed=1, subsample=0.8 \n",
      "[CV]  colsample_bytree=0.8, learning_rate=0.015, min_child_samples=5, n_estimators=1600, n_jobs=1, num_leaves=30, random_seed=1, subsample=0.8, score=-18515.583926, total=  20.3s\n",
      "[CV] colsample_bytree=0.8, learning_rate=0.015, min_child_samples=10, n_estimators=400, n_jobs=1, num_leaves=100, random_seed=1, subsample=0.8 \n",
      "[CV]  colsample_bytree=0.8, learning_rate=0.015, min_child_samples=10, n_estimators=400, n_jobs=1, num_leaves=50, random_seed=1, subsample=0.8, score=-18743.170274, total=   7.4s\n",
      "[CV] colsample_bytree=0.8, learning_rate=0.015, min_child_samples=10, n_estimators=800, n_jobs=1, num_leaves=30, random_seed=1, subsample=0.8 \n",
      "[CV]  colsample_bytree=0.8, learning_rate=0.015, min_child_samples=5, n_estimators=1200, n_jobs=1, num_leaves=70, random_seed=1, subsample=0.8, score=-18689.640788, total=  31.3s\n",
      "[CV] colsample_bytree=0.8, learning_rate=0.015, min_child_samples=10, n_estimators=800, n_jobs=1, num_leaves=50, random_seed=1, subsample=0.8 \n",
      "[CV]  colsample_bytree=0.8, learning_rate=0.015, min_child_samples=10, n_estimators=400, n_jobs=1, num_leaves=70, random_seed=1, subsample=0.8, score=-18096.289252, total=  10.0s\n",
      "[CV] colsample_bytree=0.8, learning_rate=0.015, min_child_samples=10, n_estimators=800, n_jobs=1, num_leaves=70, random_seed=1, subsample=0.8 \n",
      "[CV]  colsample_bytree=0.8, learning_rate=0.015, min_child_samples=10, n_estimators=800, n_jobs=1, num_leaves=30, random_seed=1, subsample=0.8, score=-17498.320452, total=   9.9s\n",
      "[CV] colsample_bytree=0.8, learning_rate=0.015, min_child_samples=10, n_estimators=800, n_jobs=1, num_leaves=100, random_seed=1, subsample=0.8 \n",
      "[CV]  colsample_bytree=0.8, learning_rate=0.015, min_child_samples=10, n_estimators=400, n_jobs=1, num_leaves=100, random_seed=1, subsample=0.8, score=-18053.508989, total=  13.2s\n",
      "[CV] colsample_bytree=0.8, learning_rate=0.015, min_child_samples=10, n_estimators=1200, n_jobs=1, num_leaves=30, random_seed=1, subsample=0.8 \n",
      "[CV]  colsample_bytree=0.8, learning_rate=0.015, min_child_samples=5, n_estimators=1600, n_jobs=1, num_leaves=50, random_seed=1, subsample=0.8, score=-18197.951709, total=  29.9s\n",
      "[CV] colsample_bytree=0.8, learning_rate=0.015, min_child_samples=10, n_estimators=1200, n_jobs=1, num_leaves=50, random_seed=1, subsample=0.8 \n",
      "[CV]  colsample_bytree=0.8, learning_rate=0.015, min_child_samples=10, n_estimators=800, n_jobs=1, num_leaves=50, random_seed=1, subsample=0.8, score=-18771.713442, total=  14.8s\n",
      "[CV] colsample_bytree=0.8, learning_rate=0.015, min_child_samples=10, n_estimators=1200, n_jobs=1, num_leaves=70, random_seed=1, subsample=0.8 \n",
      "[CV]  colsample_bytree=0.8, learning_rate=0.015, min_child_samples=5, n_estimators=1200, n_jobs=1, num_leaves=100, random_seed=1, subsample=0.8, score=-17472.365397, total=  42.3s\n",
      "[CV] colsample_bytree=0.8, learning_rate=0.015, min_child_samples=10, n_estimators=1200, n_jobs=1, num_leaves=100, random_seed=1, subsample=0.8 \n",
      "[CV]  colsample_bytree=0.8, learning_rate=0.015, min_child_samples=5, n_estimators=1600, n_jobs=1, num_leaves=70, random_seed=1, subsample=0.8, score=-18662.293696, total=  40.6s\n",
      "[CV] colsample_bytree=0.8, learning_rate=0.015, min_child_samples=10, n_estimators=1600, n_jobs=1, num_leaves=30, random_seed=1, subsample=0.8 \n",
      "[CV]  colsample_bytree=0.8, learning_rate=0.015, min_child_samples=10, n_estimators=800, n_jobs=1, num_leaves=70, random_seed=1, subsample=0.8, score=-18500.345746, total=  19.4s\n",
      "[CV] colsample_bytree=0.8, learning_rate=0.015, min_child_samples=10, n_estimators=1600, n_jobs=1, num_leaves=50, random_seed=1, subsample=0.8 \n",
      "[CV]  colsample_bytree=0.8, learning_rate=0.015, min_child_samples=10, n_estimators=1200, n_jobs=1, num_leaves=30, random_seed=1, subsample=0.8, score=-16844.466430, total=  14.7s\n",
      "[CV] colsample_bytree=0.8, learning_rate=0.015, min_child_samples=10, n_estimators=1600, n_jobs=1, num_leaves=70, random_seed=1, subsample=0.8 \n",
      "[CV]  colsample_bytree=0.8, learning_rate=0.015, min_child_samples=10, n_estimators=1200, n_jobs=1, num_leaves=50, random_seed=1, subsample=0.8, score=-18092.017422, total=  22.5s\n",
      "[CV] colsample_bytree=0.8, learning_rate=0.015, min_child_samples=10, n_estimators=1600, n_jobs=1, num_leaves=100, random_seed=1, subsample=0.8 \n",
      "[CV]  colsample_bytree=0.8, learning_rate=0.015, min_child_samples=10, n_estimators=800, n_jobs=1, num_leaves=100, random_seed=1, subsample=0.8, score=-18557.295634, total=  27.3s\n",
      "[CV] colsample_bytree=0.8, learning_rate=0.015, min_child_samples=20, n_estimators=400, n_jobs=1, num_leaves=30, random_seed=1, subsample=0.8 \n",
      "[CV]  colsample_bytree=0.8, learning_rate=0.015, min_child_samples=20, n_estimators=400, n_jobs=1, num_leaves=30, random_seed=1, subsample=0.8, score=-15187.325523, total=   4.7s\n",
      "[CV] colsample_bytree=0.8, learning_rate=0.015, min_child_samples=20, n_estimators=400, n_jobs=1, num_leaves=50, random_seed=1, subsample=0.8 \n",
      "[CV]  colsample_bytree=0.8, learning_rate=0.015, min_child_samples=5, n_estimators=1600, n_jobs=1, num_leaves=100, random_seed=1, subsample=0.8, score=-17404.512091, total=  55.5s\n",
      "[CV] colsample_bytree=0.8, learning_rate=0.015, min_child_samples=20, n_estimators=400, n_jobs=1, num_leaves=70, random_seed=1, subsample=0.8 \n",
      "[CV]  colsample_bytree=0.8, learning_rate=0.015, min_child_samples=10, n_estimators=1600, n_jobs=1, num_leaves=30, random_seed=1, subsample=0.8, score=-16493.235123, total=  19.2s\n",
      "[CV] colsample_bytree=0.8, learning_rate=0.015, min_child_samples=20, n_estimators=400, n_jobs=1, num_leaves=100, random_seed=1, subsample=0.8 \n",
      "[CV]  colsample_bytree=0.8, learning_rate=0.015, min_child_samples=10, n_estimators=1200, n_jobs=1, num_leaves=70, random_seed=1, subsample=0.8, score=-17713.828583, total=  30.1s\n",
      "[CV] colsample_bytree=0.8, learning_rate=0.015, min_child_samples=20, n_estimators=800, n_jobs=1, num_leaves=30, random_seed=1, subsample=0.8 \n",
      "[CV]  colsample_bytree=0.8, learning_rate=0.015, min_child_samples=20, n_estimators=400, n_jobs=1, num_leaves=50, random_seed=1, subsample=0.8, score=-15670.604076, total=   7.4s\n",
      "[CV] colsample_bytree=0.8, learning_rate=0.015, min_child_samples=20, n_estimators=800, n_jobs=1, num_leaves=50, random_seed=1, subsample=0.8 \n",
      "[CV]  colsample_bytree=0.8, learning_rate=0.015, min_child_samples=20, n_estimators=400, n_jobs=1, num_leaves=70, random_seed=1, subsample=0.8, score=-15674.673966, total=   9.7s\n",
      "[CV] colsample_bytree=0.8, learning_rate=0.015, min_child_samples=20, n_estimators=800, n_jobs=1, num_leaves=70, random_seed=1, subsample=0.8 \n"
     ]
    },
    {
     "name": "stdout",
     "output_type": "stream",
     "text": [
      "[CV]  colsample_bytree=0.8, learning_rate=0.015, min_child_samples=20, n_estimators=400, n_jobs=1, num_leaves=100, random_seed=1, subsample=0.8, score=-16402.792198, total=  12.6s\n",
      "[CV] colsample_bytree=0.8, learning_rate=0.015, min_child_samples=20, n_estimators=800, n_jobs=1, num_leaves=100, random_seed=1, subsample=0.8 \n",
      "[CV]  colsample_bytree=0.8, learning_rate=0.015, min_child_samples=10, n_estimators=1600, n_jobs=1, num_leaves=50, random_seed=1, subsample=0.8, score=-17667.467210, total=  30.3s\n",
      "[CV] colsample_bytree=0.8, learning_rate=0.015, min_child_samples=20, n_estimators=1200, n_jobs=1, num_leaves=30, random_seed=1, subsample=0.8 \n",
      "[CV]  colsample_bytree=0.8, learning_rate=0.015, min_child_samples=20, n_estimators=800, n_jobs=1, num_leaves=30, random_seed=1, subsample=0.8, score=-15396.560920, total=   9.5s\n",
      "[CV] colsample_bytree=0.8, learning_rate=0.015, min_child_samples=20, n_estimators=1200, n_jobs=1, num_leaves=50, random_seed=1, subsample=0.8 \n",
      "[CV]  colsample_bytree=0.8, learning_rate=0.015, min_child_samples=10, n_estimators=1200, n_jobs=1, num_leaves=100, random_seed=1, subsample=0.8, score=-17609.389908, total=  39.0s\n",
      "[CV] colsample_bytree=0.8, learning_rate=0.015, min_child_samples=20, n_estimators=1200, n_jobs=1, num_leaves=70, random_seed=1, subsample=0.8 \n",
      "[CV]  colsample_bytree=0.8, learning_rate=0.015, min_child_samples=20, n_estimators=800, n_jobs=1, num_leaves=50, random_seed=1, subsample=0.8, score=-15590.719717, total=  14.8s\n",
      "[CV] colsample_bytree=0.8, learning_rate=0.015, min_child_samples=20, n_estimators=1200, n_jobs=1, num_leaves=100, random_seed=1, subsample=0.8 \n",
      "[CV]  colsample_bytree=0.8, learning_rate=0.015, min_child_samples=10, n_estimators=1600, n_jobs=1, num_leaves=70, random_seed=1, subsample=0.8, score=-17263.461128, total=  39.1s\n",
      "[CV] colsample_bytree=0.8, learning_rate=0.015, min_child_samples=20, n_estimators=1600, n_jobs=1, num_leaves=30, random_seed=1, subsample=0.8 \n",
      "[CV]  colsample_bytree=0.8, learning_rate=0.015, min_child_samples=20, n_estimators=1200, n_jobs=1, num_leaves=30, random_seed=1, subsample=0.8, score=-15165.853746, total=  14.4s\n",
      "[CV] colsample_bytree=0.8, learning_rate=0.015, min_child_samples=20, n_estimators=1600, n_jobs=1, num_leaves=50, random_seed=1, subsample=0.8 \n",
      "[CV]  colsample_bytree=0.8, learning_rate=0.015, min_child_samples=20, n_estimators=800, n_jobs=1, num_leaves=70, random_seed=1, subsample=0.8, score=-15510.318399, total=  19.1s\n",
      "[CV] colsample_bytree=0.8, learning_rate=0.015, min_child_samples=20, n_estimators=1600, n_jobs=1, num_leaves=70, random_seed=1, subsample=0.8 \n",
      "[CV]  colsample_bytree=0.8, learning_rate=0.015, min_child_samples=20, n_estimators=1200, n_jobs=1, num_leaves=50, random_seed=1, subsample=0.8, score=-15409.147944, total=  21.7s\n",
      "[CV] colsample_bytree=0.8, learning_rate=0.015, min_child_samples=20, n_estimators=1600, n_jobs=1, num_leaves=100, random_seed=1, subsample=0.8 \n",
      "[CV]  colsample_bytree=0.8, learning_rate=0.015, min_child_samples=20, n_estimators=800, n_jobs=1, num_leaves=100, random_seed=1, subsample=0.8, score=-16190.605448, total=  25.3s\n",
      "[CV] colsample_bytree=0.8, learning_rate=0.015, min_child_samples=40, n_estimators=400, n_jobs=1, num_leaves=30, random_seed=1, subsample=0.8 \n",
      "[CV]  colsample_bytree=0.8, learning_rate=0.015, min_child_samples=20, n_estimators=1600, n_jobs=1, num_leaves=30, random_seed=1, subsample=0.8, score=-14897.702266, total=  18.9s\n",
      "[CV] colsample_bytree=0.8, learning_rate=0.015, min_child_samples=40, n_estimators=400, n_jobs=1, num_leaves=50, random_seed=1, subsample=0.8 \n",
      "[CV]  colsample_bytree=0.8, learning_rate=0.015, min_child_samples=40, n_estimators=400, n_jobs=1, num_leaves=30, random_seed=1, subsample=0.8, score=-18196.273248, total=   4.9s\n",
      "[CV] colsample_bytree=0.8, learning_rate=0.015, min_child_samples=40, n_estimators=400, n_jobs=1, num_leaves=70, random_seed=1, subsample=0.8 \n",
      "[CV]  colsample_bytree=0.8, learning_rate=0.015, min_child_samples=10, n_estimators=1600, n_jobs=1, num_leaves=100, random_seed=1, subsample=0.8, score=-17193.408743, total=  52.5s\n",
      "[CV] colsample_bytree=0.8, learning_rate=0.015, min_child_samples=40, n_estimators=400, n_jobs=1, num_leaves=100, random_seed=1, subsample=0.8 \n",
      "[CV]  colsample_bytree=0.8, learning_rate=0.015, min_child_samples=20, n_estimators=1200, n_jobs=1, num_leaves=70, random_seed=1, subsample=0.8, score=-15339.754174, total=  28.9s\n",
      "[CV] colsample_bytree=0.8, learning_rate=0.015, min_child_samples=40, n_estimators=800, n_jobs=1, num_leaves=30, random_seed=1, subsample=0.8 \n",
      "[CV]  colsample_bytree=0.8, learning_rate=0.015, min_child_samples=40, n_estimators=400, n_jobs=1, num_leaves=50, random_seed=1, subsample=0.8, score=-18839.572274, total=   7.7s\n",
      "[CV] colsample_bytree=0.8, learning_rate=0.015, min_child_samples=40, n_estimators=800, n_jobs=1, num_leaves=50, random_seed=1, subsample=0.8 \n",
      "[CV]  colsample_bytree=0.8, learning_rate=0.015, min_child_samples=40, n_estimators=400, n_jobs=1, num_leaves=70, random_seed=1, subsample=0.8, score=-18765.923012, total=   9.3s\n",
      "[CV] colsample_bytree=0.8, learning_rate=0.015, min_child_samples=40, n_estimators=800, n_jobs=1, num_leaves=70, random_seed=1, subsample=0.8 \n",
      "[CV]  colsample_bytree=0.8, learning_rate=0.015, min_child_samples=40, n_estimators=400, n_jobs=1, num_leaves=100, random_seed=1, subsample=0.8, score=-18298.815776, total=   9.6s\n",
      "[CV] colsample_bytree=0.8, learning_rate=0.015, min_child_samples=40, n_estimators=800, n_jobs=1, num_leaves=100, random_seed=1, subsample=0.8 \n"
     ]
    },
    {
     "name": "stderr",
     "output_type": "stream",
     "text": [
      "[Parallel(n_jobs=-1)]: Done 496 tasks      | elapsed: 20.7min\n"
     ]
    },
    {
     "name": "stdout",
     "output_type": "stream",
     "text": [
      "[CV]  colsample_bytree=0.8, learning_rate=0.015, min_child_samples=40, n_estimators=800, n_jobs=1, num_leaves=30, random_seed=1, subsample=0.8, score=-16898.643668, total=   9.3s\n",
      "[CV] colsample_bytree=0.8, learning_rate=0.015, min_child_samples=40, n_estimators=1200, n_jobs=1, num_leaves=30, random_seed=1, subsample=0.8 \n",
      "[CV]  colsample_bytree=0.8, learning_rate=0.015, min_child_samples=20, n_estimators=1600, n_jobs=1, num_leaves=50, random_seed=1, subsample=0.8, score=-14867.027464, total=  28.8s\n",
      "[CV] colsample_bytree=0.8, learning_rate=0.015, min_child_samples=40, n_estimators=1200, n_jobs=1, num_leaves=50, random_seed=1, subsample=0.8 \n",
      "[CV]  colsample_bytree=0.8, learning_rate=0.015, min_child_samples=20, n_estimators=1200, n_jobs=1, num_leaves=100, random_seed=1, subsample=0.8, score=-15798.531507, total=  39.3s\n",
      "[CV] colsample_bytree=0.8, learning_rate=0.015, min_child_samples=40, n_estimators=1200, n_jobs=1, num_leaves=70, random_seed=1, subsample=0.8 \n",
      "[CV]  colsample_bytree=0.8, learning_rate=0.015, min_child_samples=40, n_estimators=800, n_jobs=1, num_leaves=50, random_seed=1, subsample=0.8, score=-16960.078261, total=  14.1s\n",
      "[CV] colsample_bytree=0.8, learning_rate=0.015, min_child_samples=40, n_estimators=1200, n_jobs=1, num_leaves=100, random_seed=1, subsample=0.8 \n",
      "[CV]  colsample_bytree=0.8, learning_rate=0.015, min_child_samples=20, n_estimators=1600, n_jobs=1, num_leaves=70, random_seed=1, subsample=0.8, score=-14841.243463, total=  38.4s\n",
      "[CV] colsample_bytree=0.8, learning_rate=0.015, min_child_samples=40, n_estimators=1600, n_jobs=1, num_leaves=30, random_seed=1, subsample=0.8 \n",
      "[CV]  colsample_bytree=0.8, learning_rate=0.015, min_child_samples=40, n_estimators=800, n_jobs=1, num_leaves=70, random_seed=1, subsample=0.8, score=-16847.993932, total=  17.9s\n",
      "[CV] colsample_bytree=0.8, learning_rate=0.015, min_child_samples=40, n_estimators=1600, n_jobs=1, num_leaves=50, random_seed=1, subsample=0.8 \n",
      "[CV]  colsample_bytree=0.8, learning_rate=0.015, min_child_samples=40, n_estimators=1200, n_jobs=1, num_leaves=30, random_seed=1, subsample=0.8, score=-16170.383160, total=  14.5s\n",
      "[CV] colsample_bytree=0.8, learning_rate=0.015, min_child_samples=40, n_estimators=1600, n_jobs=1, num_leaves=70, random_seed=1, subsample=0.8 \n",
      "[CV]  colsample_bytree=0.8, learning_rate=0.015, min_child_samples=40, n_estimators=800, n_jobs=1, num_leaves=100, random_seed=1, subsample=0.8, score=-16924.843129, total=  20.4s\n",
      "[CV] colsample_bytree=0.8, learning_rate=0.015, min_child_samples=40, n_estimators=1600, n_jobs=1, num_leaves=100, random_seed=1, subsample=0.8 \n",
      "[CV]  colsample_bytree=0.8, learning_rate=0.015, min_child_samples=40, n_estimators=1200, n_jobs=1, num_leaves=50, random_seed=1, subsample=0.8, score=-16273.414326, total=  22.7s\n",
      "[CV] colsample_bytree=0.8, learning_rate=0.02, min_child_samples=5, n_estimators=400, n_jobs=1, num_leaves=30, random_seed=1, subsample=0.8 \n",
      "[CV]  colsample_bytree=0.8, learning_rate=0.02, min_child_samples=5, n_estimators=400, n_jobs=1, num_leaves=30, random_seed=1, subsample=0.8, score=-17710.408498, total=   5.0s\n",
      "[CV] colsample_bytree=0.8, learning_rate=0.02, min_child_samples=5, n_estimators=400, n_jobs=1, num_leaves=50, random_seed=1, subsample=0.8 \n",
      "[CV]  colsample_bytree=0.8, learning_rate=0.015, min_child_samples=40, n_estimators=1600, n_jobs=1, num_leaves=30, random_seed=1, subsample=0.8, score=-15845.429517, total=  18.9s\n",
      "[CV] colsample_bytree=0.8, learning_rate=0.02, min_child_samples=5, n_estimators=400, n_jobs=1, num_leaves=70, random_seed=1, subsample=0.8 \n",
      "[CV]  colsample_bytree=0.8, learning_rate=0.015, min_child_samples=40, n_estimators=1200, n_jobs=1, num_leaves=70, random_seed=1, subsample=0.8, score=-15991.163661, total=  27.7s\n",
      "[CV] colsample_bytree=0.8, learning_rate=0.02, min_child_samples=5, n_estimators=400, n_jobs=1, num_leaves=100, random_seed=1, subsample=0.8 \n",
      "[CV]  colsample_bytree=0.8, learning_rate=0.015, min_child_samples=20, n_estimators=1600, n_jobs=1, num_leaves=100, random_seed=1, subsample=0.8, score=-15275.469489, total=  52.0s\n",
      "[CV] colsample_bytree=0.8, learning_rate=0.02, min_child_samples=5, n_estimators=800, n_jobs=1, num_leaves=30, random_seed=1, subsample=0.8 \n",
      "[CV]  colsample_bytree=0.8, learning_rate=0.02, min_child_samples=5, n_estimators=400, n_jobs=1, num_leaves=50, random_seed=1, subsample=0.8, score=-17286.192209, total=   8.1s\n",
      "[CV] colsample_bytree=0.8, learning_rate=0.02, min_child_samples=5, n_estimators=800, n_jobs=1, num_leaves=50, random_seed=1, subsample=0.8 \n",
      "[CV]  colsample_bytree=0.8, learning_rate=0.015, min_child_samples=40, n_estimators=1200, n_jobs=1, num_leaves=100, random_seed=1, subsample=0.8, score=-16105.852855, total=  30.6s\n",
      "[CV] colsample_bytree=0.8, learning_rate=0.02, min_child_samples=5, n_estimators=800, n_jobs=1, num_leaves=70, random_seed=1, subsample=0.8 \n",
      "[CV]  colsample_bytree=0.8, learning_rate=0.02, min_child_samples=5, n_estimators=400, n_jobs=1, num_leaves=70, random_seed=1, subsample=0.8, score=-18574.073194, total=  10.3s\n",
      "[CV] colsample_bytree=0.8, learning_rate=0.02, min_child_samples=5, n_estimators=800, n_jobs=1, num_leaves=100, random_seed=1, subsample=0.8 \n",
      "[CV]  colsample_bytree=0.8, learning_rate=0.015, min_child_samples=40, n_estimators=1600, n_jobs=1, num_leaves=50, random_seed=1, subsample=0.8, score=-15822.360778, total=  29.0s\n",
      "[CV] colsample_bytree=0.8, learning_rate=0.02, min_child_samples=5, n_estimators=1200, n_jobs=1, num_leaves=30, random_seed=1, subsample=0.8 \n",
      "[CV]  colsample_bytree=0.8, learning_rate=0.02, min_child_samples=5, n_estimators=800, n_jobs=1, num_leaves=30, random_seed=1, subsample=0.8, score=-17479.014609, total=  10.1s\n",
      "[CV] colsample_bytree=0.8, learning_rate=0.02, min_child_samples=5, n_estimators=1200, n_jobs=1, num_leaves=50, random_seed=1, subsample=0.8 \n",
      "[CV]  colsample_bytree=0.8, learning_rate=0.02, min_child_samples=5, n_estimators=400, n_jobs=1, num_leaves=100, random_seed=1, subsample=0.8, score=-19569.345418, total=  14.4s\n",
      "[CV] colsample_bytree=0.8, learning_rate=0.02, min_child_samples=5, n_estimators=1200, n_jobs=1, num_leaves=70, random_seed=1, subsample=0.8 \n",
      "[CV]  colsample_bytree=0.8, learning_rate=0.015, min_child_samples=40, n_estimators=1600, n_jobs=1, num_leaves=70, random_seed=1, subsample=0.8, score=-15498.570777, total=  37.2s\n",
      "[CV] colsample_bytree=0.8, learning_rate=0.02, min_child_samples=5, n_estimators=1200, n_jobs=1, num_leaves=100, random_seed=1, subsample=0.8 \n",
      "[CV]  colsample_bytree=0.8, learning_rate=0.02, min_child_samples=5, n_estimators=800, n_jobs=1, num_leaves=50, random_seed=1, subsample=0.8, score=-17714.946759, total=  15.4s\n",
      "[CV] colsample_bytree=0.8, learning_rate=0.02, min_child_samples=5, n_estimators=1600, n_jobs=1, num_leaves=30, random_seed=1, subsample=0.8 \n",
      "[CV]  colsample_bytree=0.8, learning_rate=0.02, min_child_samples=5, n_estimators=1200, n_jobs=1, num_leaves=30, random_seed=1, subsample=0.8, score=-17669.574876, total=  14.4s\n",
      "[CV] colsample_bytree=0.8, learning_rate=0.02, min_child_samples=5, n_estimators=1600, n_jobs=1, num_leaves=50, random_seed=1, subsample=0.8 \n",
      "[CV]  colsample_bytree=0.8, learning_rate=0.02, min_child_samples=5, n_estimators=800, n_jobs=1, num_leaves=70, random_seed=1, subsample=0.8, score=-18361.567911, total=  20.9s\n",
      "[CV] colsample_bytree=0.8, learning_rate=0.02, min_child_samples=5, n_estimators=1600, n_jobs=1, num_leaves=70, random_seed=1, subsample=0.8 \n",
      "[CV]  colsample_bytree=0.8, learning_rate=0.015, min_child_samples=40, n_estimators=1600, n_jobs=1, num_leaves=100, random_seed=1, subsample=0.8, score=-15464.969759, total=  41.7s\n",
      "[CV] colsample_bytree=0.8, learning_rate=0.02, min_child_samples=5, n_estimators=1600, n_jobs=1, num_leaves=100, random_seed=1, subsample=0.8 \n",
      "[CV]  colsample_bytree=0.8, learning_rate=0.02, min_child_samples=5, n_estimators=1200, n_jobs=1, num_leaves=50, random_seed=1, subsample=0.8, score=-17779.570564, total=  23.5s\n",
      "[CV] colsample_bytree=0.8, learning_rate=0.02, min_child_samples=10, n_estimators=400, n_jobs=1, num_leaves=30, random_seed=1, subsample=0.8 \n",
      "[CV]  colsample_bytree=0.8, learning_rate=0.02, min_child_samples=5, n_estimators=800, n_jobs=1, num_leaves=100, random_seed=1, subsample=0.8, score=-18828.508101, total=  28.8s\n"
     ]
    },
    {
     "name": "stdout",
     "output_type": "stream",
     "text": [
      "[CV] colsample_bytree=0.8, learning_rate=0.02, min_child_samples=10, n_estimators=400, n_jobs=1, num_leaves=50, random_seed=1, subsample=0.8 \n",
      "[CV]  colsample_bytree=0.8, learning_rate=0.02, min_child_samples=10, n_estimators=400, n_jobs=1, num_leaves=30, random_seed=1, subsample=0.8, score=-20967.568966, total=   5.0s\n",
      "[CV] colsample_bytree=0.8, learning_rate=0.02, min_child_samples=10, n_estimators=400, n_jobs=1, num_leaves=70, random_seed=1, subsample=0.8 \n",
      "[CV]  colsample_bytree=0.8, learning_rate=0.02, min_child_samples=5, n_estimators=1600, n_jobs=1, num_leaves=30, random_seed=1, subsample=0.8, score=-17783.402449, total=  19.6s\n",
      "[CV] colsample_bytree=0.8, learning_rate=0.02, min_child_samples=10, n_estimators=400, n_jobs=1, num_leaves=100, random_seed=1, subsample=0.8 \n",
      "[CV]  colsample_bytree=0.8, learning_rate=0.02, min_child_samples=5, n_estimators=1200, n_jobs=1, num_leaves=70, random_seed=1, subsample=0.8, score=-18449.197011, total=  30.8s\n",
      "[CV] colsample_bytree=0.8, learning_rate=0.02, min_child_samples=10, n_estimators=800, n_jobs=1, num_leaves=30, random_seed=1, subsample=0.8 \n",
      "[CV]  colsample_bytree=0.8, learning_rate=0.02, min_child_samples=10, n_estimators=400, n_jobs=1, num_leaves=50, random_seed=1, subsample=0.8, score=-19473.322250, total=   7.8s\n",
      "[CV] colsample_bytree=0.8, learning_rate=0.02, min_child_samples=10, n_estimators=800, n_jobs=1, num_leaves=50, random_seed=1, subsample=0.8 \n",
      "[CV]  colsample_bytree=0.8, learning_rate=0.02, min_child_samples=10, n_estimators=400, n_jobs=1, num_leaves=70, random_seed=1, subsample=0.8, score=-19678.948584, total=  10.0s\n",
      "[CV] colsample_bytree=0.8, learning_rate=0.02, min_child_samples=10, n_estimators=800, n_jobs=1, num_leaves=70, random_seed=1, subsample=0.8 \n",
      "[CV]  colsample_bytree=0.8, learning_rate=0.02, min_child_samples=10, n_estimators=400, n_jobs=1, num_leaves=100, random_seed=1, subsample=0.8, score=-20244.205413, total=  13.2s\n",
      "[CV] colsample_bytree=0.8, learning_rate=0.02, min_child_samples=10, n_estimators=800, n_jobs=1, num_leaves=100, random_seed=1, subsample=0.8 \n",
      "[CV]  colsample_bytree=0.8, learning_rate=0.02, min_child_samples=10, n_estimators=800, n_jobs=1, num_leaves=30, random_seed=1, subsample=0.8, score=-20065.798159, total=  10.3s\n",
      "[CV] colsample_bytree=0.8, learning_rate=0.02, min_child_samples=10, n_estimators=1200, n_jobs=1, num_leaves=30, random_seed=1, subsample=0.8 \n",
      "[CV]  colsample_bytree=0.8, learning_rate=0.02, min_child_samples=5, n_estimators=1600, n_jobs=1, num_leaves=50, random_seed=1, subsample=0.8, score=-17830.027172, total=  29.7s\n",
      "[CV] colsample_bytree=0.8, learning_rate=0.02, min_child_samples=10, n_estimators=1200, n_jobs=1, num_leaves=50, random_seed=1, subsample=0.8 \n",
      "[CV]  colsample_bytree=0.8, learning_rate=0.02, min_child_samples=10, n_estimators=800, n_jobs=1, num_leaves=50, random_seed=1, subsample=0.8, score=-19551.878974, total=  15.4s\n",
      "[CV] colsample_bytree=0.8, learning_rate=0.02, min_child_samples=10, n_estimators=1200, n_jobs=1, num_leaves=70, random_seed=1, subsample=0.8 \n",
      "[CV]  colsample_bytree=0.8, learning_rate=0.02, min_child_samples=5, n_estimators=1200, n_jobs=1, num_leaves=100, random_seed=1, subsample=0.8, score=-18786.345976, total=  41.8s\n",
      "[CV] colsample_bytree=0.8, learning_rate=0.02, min_child_samples=10, n_estimators=1200, n_jobs=1, num_leaves=100, random_seed=1, subsample=0.8 \n",
      "[CV]  colsample_bytree=0.8, learning_rate=0.02, min_child_samples=10, n_estimators=800, n_jobs=1, num_leaves=70, random_seed=1, subsample=0.8, score=-19417.016830, total=  19.8s\n",
      "[CV] colsample_bytree=0.8, learning_rate=0.02, min_child_samples=10, n_estimators=1600, n_jobs=1, num_leaves=30, random_seed=1, subsample=0.8 \n",
      "[CV]  colsample_bytree=0.8, learning_rate=0.02, min_child_samples=5, n_estimators=1600, n_jobs=1, num_leaves=70, random_seed=1, subsample=0.8, score=-18441.703746, total=  40.6s\n",
      "[CV] colsample_bytree=0.8, learning_rate=0.02, min_child_samples=10, n_estimators=1600, n_jobs=1, num_leaves=50, random_seed=1, subsample=0.8 \n",
      "[CV]  colsample_bytree=0.8, learning_rate=0.02, min_child_samples=10, n_estimators=1200, n_jobs=1, num_leaves=30, random_seed=1, subsample=0.8, score=-18879.923030, total=  14.8s\n",
      "[CV] colsample_bytree=0.8, learning_rate=0.02, min_child_samples=10, n_estimators=1600, n_jobs=1, num_leaves=70, random_seed=1, subsample=0.8 \n",
      "[CV]  colsample_bytree=0.8, learning_rate=0.02, min_child_samples=10, n_estimators=1200, n_jobs=1, num_leaves=50, random_seed=1, subsample=0.8, score=-18464.370394, total=  22.2s\n",
      "[CV] colsample_bytree=0.8, learning_rate=0.02, min_child_samples=10, n_estimators=1600, n_jobs=1, num_leaves=100, random_seed=1, subsample=0.8 \n",
      "[CV]  colsample_bytree=0.8, learning_rate=0.02, min_child_samples=10, n_estimators=800, n_jobs=1, num_leaves=100, random_seed=1, subsample=0.8, score=-19481.464112, total=  26.7s\n",
      "[CV] colsample_bytree=0.8, learning_rate=0.02, min_child_samples=20, n_estimators=400, n_jobs=1, num_leaves=30, random_seed=1, subsample=0.8 \n",
      "[CV]  colsample_bytree=0.8, learning_rate=0.02, min_child_samples=20, n_estimators=400, n_jobs=1, num_leaves=30, random_seed=1, subsample=0.8, score=-15542.534307, total=   4.8s\n",
      "[CV] colsample_bytree=0.8, learning_rate=0.02, min_child_samples=20, n_estimators=400, n_jobs=1, num_leaves=50, random_seed=1, subsample=0.8 \n",
      "[CV]  colsample_bytree=0.8, learning_rate=0.02, min_child_samples=5, n_estimators=1600, n_jobs=1, num_leaves=100, random_seed=1, subsample=0.8, score=-18819.880265, total=  54.7s\n",
      "[CV] colsample_bytree=0.8, learning_rate=0.02, min_child_samples=20, n_estimators=400, n_jobs=1, num_leaves=70, random_seed=1, subsample=0.8 \n",
      "[CV]  colsample_bytree=0.8, learning_rate=0.02, min_child_samples=10, n_estimators=1600, n_jobs=1, num_leaves=30, random_seed=1, subsample=0.8, score=-18241.583495, total=  18.7s\n",
      "[CV] colsample_bytree=0.8, learning_rate=0.02, min_child_samples=20, n_estimators=400, n_jobs=1, num_leaves=100, random_seed=1, subsample=0.8 \n",
      "[CV]  colsample_bytree=0.8, learning_rate=0.02, min_child_samples=10, n_estimators=1200, n_jobs=1, num_leaves=70, random_seed=1, subsample=0.8, score=-18509.673411, total=  29.1s\n",
      "[CV] colsample_bytree=0.8, learning_rate=0.02, min_child_samples=20, n_estimators=800, n_jobs=1, num_leaves=30, random_seed=1, subsample=0.8 \n",
      "[CV]  colsample_bytree=0.8, learning_rate=0.02, min_child_samples=20, n_estimators=400, n_jobs=1, num_leaves=50, random_seed=1, subsample=0.8, score=-14958.537375, total=   7.7s\n",
      "[CV] colsample_bytree=0.8, learning_rate=0.02, min_child_samples=20, n_estimators=800, n_jobs=1, num_leaves=50, random_seed=1, subsample=0.8 \n",
      "[CV]  colsample_bytree=0.8, learning_rate=0.02, min_child_samples=20, n_estimators=400, n_jobs=1, num_leaves=70, random_seed=1, subsample=0.8, score=-15090.929612, total=   9.4s\n",
      "[CV] colsample_bytree=0.8, learning_rate=0.02, min_child_samples=20, n_estimators=800, n_jobs=1, num_leaves=70, random_seed=1, subsample=0.8 \n",
      "[CV]  colsample_bytree=0.8, learning_rate=0.02, min_child_samples=20, n_estimators=400, n_jobs=1, num_leaves=100, random_seed=1, subsample=0.8, score=-15740.027264, total=  12.5s\n",
      "[CV] colsample_bytree=0.8, learning_rate=0.02, min_child_samples=20, n_estimators=800, n_jobs=1, num_leaves=100, random_seed=1, subsample=0.8 \n",
      "[CV]  colsample_bytree=0.8, learning_rate=0.02, min_child_samples=10, n_estimators=1600, n_jobs=1, num_leaves=50, random_seed=1, subsample=0.8, score=-17797.510846, total=  29.5s\n",
      "[CV] colsample_bytree=0.8, learning_rate=0.02, min_child_samples=20, n_estimators=1200, n_jobs=1, num_leaves=30, random_seed=1, subsample=0.8 \n",
      "[CV]  colsample_bytree=0.8, learning_rate=0.02, min_child_samples=20, n_estimators=800, n_jobs=1, num_leaves=30, random_seed=1, subsample=0.8, score=-15187.025445, total=   9.5s\n",
      "[CV] colsample_bytree=0.8, learning_rate=0.02, min_child_samples=20, n_estimators=1200, n_jobs=1, num_leaves=50, random_seed=1, subsample=0.8 \n",
      "[CV]  colsample_bytree=0.8, learning_rate=0.02, min_child_samples=10, n_estimators=1200, n_jobs=1, num_leaves=100, random_seed=1, subsample=0.8, score=-18221.501833, total=  39.6s\n",
      "[CV] colsample_bytree=0.8, learning_rate=0.02, min_child_samples=20, n_estimators=1200, n_jobs=1, num_leaves=70, random_seed=1, subsample=0.8 \n",
      "[CV]  colsample_bytree=0.8, learning_rate=0.02, min_child_samples=20, n_estimators=800, n_jobs=1, num_leaves=50, random_seed=1, subsample=0.8, score=-14536.184518, total=  14.4s\n"
     ]
    },
    {
     "name": "stdout",
     "output_type": "stream",
     "text": [
      "[CV] colsample_bytree=0.8, learning_rate=0.02, min_child_samples=20, n_estimators=1200, n_jobs=1, num_leaves=100, random_seed=1, subsample=0.8 \n",
      "[CV]  colsample_bytree=0.8, learning_rate=0.02, min_child_samples=10, n_estimators=1600, n_jobs=1, num_leaves=70, random_seed=1, subsample=0.8, score=-17953.661488, total=  38.5s\n",
      "[CV] colsample_bytree=0.8, learning_rate=0.02, min_child_samples=20, n_estimators=1600, n_jobs=1, num_leaves=30, random_seed=1, subsample=0.8 \n",
      "[CV]  colsample_bytree=0.8, learning_rate=0.02, min_child_samples=20, n_estimators=1200, n_jobs=1, num_leaves=30, random_seed=1, subsample=0.8, score=-14815.803068, total=  14.4s\n",
      "[CV] colsample_bytree=0.8, learning_rate=0.02, min_child_samples=20, n_estimators=1600, n_jobs=1, num_leaves=50, random_seed=1, subsample=0.8 \n",
      "[CV]  colsample_bytree=0.8, learning_rate=0.02, min_child_samples=20, n_estimators=800, n_jobs=1, num_leaves=70, random_seed=1, subsample=0.8, score=-14621.504291, total=  19.1s\n",
      "[CV] colsample_bytree=0.8, learning_rate=0.02, min_child_samples=20, n_estimators=1600, n_jobs=1, num_leaves=70, random_seed=1, subsample=0.8 \n",
      "[CV]  colsample_bytree=0.8, learning_rate=0.02, min_child_samples=20, n_estimators=1200, n_jobs=1, num_leaves=50, random_seed=1, subsample=0.8, score=-13927.301241, total=  22.6s\n",
      "[CV] colsample_bytree=0.8, learning_rate=0.02, min_child_samples=20, n_estimators=1600, n_jobs=1, num_leaves=100, random_seed=1, subsample=0.8 \n",
      "[CV]  colsample_bytree=0.8, learning_rate=0.02, min_child_samples=20, n_estimators=800, n_jobs=1, num_leaves=100, random_seed=1, subsample=0.8, score=-15353.173295, total=  25.4s\n",
      "[CV] colsample_bytree=0.8, learning_rate=0.02, min_child_samples=40, n_estimators=400, n_jobs=1, num_leaves=30, random_seed=1, subsample=0.8 \n",
      "[CV]  colsample_bytree=0.8, learning_rate=0.02, min_child_samples=40, n_estimators=400, n_jobs=1, num_leaves=30, random_seed=1, subsample=0.8, score=-18733.565758, total=   4.8s\n",
      "[CV] colsample_bytree=0.8, learning_rate=0.02, min_child_samples=40, n_estimators=400, n_jobs=1, num_leaves=50, random_seed=1, subsample=0.8 \n",
      "[CV]  colsample_bytree=0.8, learning_rate=0.02, min_child_samples=20, n_estimators=1600, n_jobs=1, num_leaves=30, random_seed=1, subsample=0.8, score=-14263.607504, total=  18.6s\n",
      "[CV] colsample_bytree=0.8, learning_rate=0.02, min_child_samples=40, n_estimators=400, n_jobs=1, num_leaves=70, random_seed=1, subsample=0.8 \n",
      "[CV]  colsample_bytree=0.8, learning_rate=0.02, min_child_samples=10, n_estimators=1600, n_jobs=1, num_leaves=100, random_seed=1, subsample=0.8, score=-17581.230728, total=  52.3s\n",
      "[CV] colsample_bytree=0.8, learning_rate=0.02, min_child_samples=40, n_estimators=400, n_jobs=1, num_leaves=100, random_seed=1, subsample=0.8 \n",
      "[CV]  colsample_bytree=0.8, learning_rate=0.02, min_child_samples=20, n_estimators=1200, n_jobs=1, num_leaves=70, random_seed=1, subsample=0.8, score=-14188.502468, total=  29.2s\n",
      "[CV] colsample_bytree=0.8, learning_rate=0.02, min_child_samples=40, n_estimators=800, n_jobs=1, num_leaves=30, random_seed=1, subsample=0.8 \n",
      "[CV]  colsample_bytree=0.8, learning_rate=0.02, min_child_samples=40, n_estimators=400, n_jobs=1, num_leaves=50, random_seed=1, subsample=0.8, score=-18309.565654, total=   7.5s\n",
      "[CV] colsample_bytree=0.8, learning_rate=0.02, min_child_samples=40, n_estimators=800, n_jobs=1, num_leaves=50, random_seed=1, subsample=0.8 \n",
      "[CV]  colsample_bytree=0.8, learning_rate=0.02, min_child_samples=40, n_estimators=400, n_jobs=1, num_leaves=70, random_seed=1, subsample=0.8, score=-18550.275157, total=   9.1s\n",
      "[CV] colsample_bytree=0.8, learning_rate=0.02, min_child_samples=40, n_estimators=800, n_jobs=1, num_leaves=70, random_seed=1, subsample=0.8 \n",
      "[CV]  colsample_bytree=0.8, learning_rate=0.02, min_child_samples=40, n_estimators=400, n_jobs=1, num_leaves=100, random_seed=1, subsample=0.8, score=-18548.131276, total=  10.0s\n",
      "[CV] colsample_bytree=0.8, learning_rate=0.02, min_child_samples=40, n_estimators=800, n_jobs=1, num_leaves=100, random_seed=1, subsample=0.8 \n",
      "[CV]  colsample_bytree=0.8, learning_rate=0.02, min_child_samples=40, n_estimators=800, n_jobs=1, num_leaves=30, random_seed=1, subsample=0.8, score=-16467.115913, total=   9.7s\n",
      "[CV] colsample_bytree=0.8, learning_rate=0.02, min_child_samples=40, n_estimators=1200, n_jobs=1, num_leaves=30, random_seed=1, subsample=0.8 \n",
      "[CV]  colsample_bytree=0.8, learning_rate=0.02, min_child_samples=20, n_estimators=1200, n_jobs=1, num_leaves=100, random_seed=1, subsample=0.8, score=-14770.347449, total=  37.4s\n",
      "[CV] colsample_bytree=0.8, learning_rate=0.02, min_child_samples=40, n_estimators=1200, n_jobs=1, num_leaves=50, random_seed=1, subsample=0.8 \n",
      "[CV]  colsample_bytree=0.8, learning_rate=0.02, min_child_samples=20, n_estimators=1600, n_jobs=1, num_leaves=50, random_seed=1, subsample=0.8, score=-13622.091697, total=  29.0s\n",
      "[CV] colsample_bytree=0.8, learning_rate=0.02, min_child_samples=40, n_estimators=1200, n_jobs=1, num_leaves=70, random_seed=1, subsample=0.8 \n",
      "[CV]  colsample_bytree=0.8, learning_rate=0.02, min_child_samples=40, n_estimators=800, n_jobs=1, num_leaves=50, random_seed=1, subsample=0.8, score=-15847.056962, total=  14.9s\n",
      "[CV] colsample_bytree=0.8, learning_rate=0.02, min_child_samples=40, n_estimators=1200, n_jobs=1, num_leaves=100, random_seed=1, subsample=0.8 \n",
      "[CV]  colsample_bytree=0.8, learning_rate=0.02, min_child_samples=20, n_estimators=1600, n_jobs=1, num_leaves=70, random_seed=1, subsample=0.8, score=-13853.577360, total=  37.8s\n",
      "[CV] colsample_bytree=0.8, learning_rate=0.02, min_child_samples=40, n_estimators=1600, n_jobs=1, num_leaves=30, random_seed=1, subsample=0.8 \n",
      "[CV]  colsample_bytree=0.8, learning_rate=0.02, min_child_samples=40, n_estimators=800, n_jobs=1, num_leaves=70, random_seed=1, subsample=0.8, score=-16008.467911, total=  18.6s\n",
      "[CV] colsample_bytree=0.8, learning_rate=0.02, min_child_samples=40, n_estimators=1600, n_jobs=1, num_leaves=50, random_seed=1, subsample=0.8 \n",
      "[CV]  colsample_bytree=0.8, learning_rate=0.02, min_child_samples=40, n_estimators=1200, n_jobs=1, num_leaves=30, random_seed=1, subsample=0.8, score=-15976.390810, total=  15.0s\n",
      "[CV] colsample_bytree=0.8, learning_rate=0.02, min_child_samples=40, n_estimators=1600, n_jobs=1, num_leaves=70, random_seed=1, subsample=0.8 \n",
      "[CV]  colsample_bytree=0.8, learning_rate=0.02, min_child_samples=40, n_estimators=800, n_jobs=1, num_leaves=100, random_seed=1, subsample=0.8, score=-15981.957436, total=  20.1s\n",
      "[CV] colsample_bytree=0.8, learning_rate=0.02, min_child_samples=40, n_estimators=1600, n_jobs=1, num_leaves=100, random_seed=1, subsample=0.8 \n",
      "[CV]  colsample_bytree=0.8, learning_rate=0.02, min_child_samples=40, n_estimators=1200, n_jobs=1, num_leaves=50, random_seed=1, subsample=0.8, score=-15067.595075, total=  21.3s\n",
      "[CV]  colsample_bytree=0.8, learning_rate=0.02, min_child_samples=40, n_estimators=1200, n_jobs=1, num_leaves=70, random_seed=1, subsample=0.8, score=-15311.239529, total=  27.3s\n",
      "[CV]  colsample_bytree=0.8, learning_rate=0.02, min_child_samples=40, n_estimators=1600, n_jobs=1, num_leaves=30, random_seed=1, subsample=0.8, score=-15643.860336, total=  18.9s\n",
      "[CV]  colsample_bytree=0.8, learning_rate=0.02, min_child_samples=20, n_estimators=1600, n_jobs=1, num_leaves=100, random_seed=1, subsample=0.8, score=-14273.335773, total=  53.1s\n",
      "[CV]  colsample_bytree=0.8, learning_rate=0.02, min_child_samples=40, n_estimators=1200, n_jobs=1, num_leaves=100, random_seed=1, subsample=0.8, score=-15458.120007, total=  29.6s\n",
      "[CV]  colsample_bytree=0.8, learning_rate=0.02, min_child_samples=40, n_estimators=1600, n_jobs=1, num_leaves=50, random_seed=1, subsample=0.8, score=-14872.867220, total=  24.1s\n",
      "[CV]  colsample_bytree=0.8, learning_rate=0.02, min_child_samples=40, n_estimators=1600, n_jobs=1, num_leaves=70, random_seed=1, subsample=0.8, score=-14863.639819, total=  27.3s\n",
      "[CV]  colsample_bytree=0.8, learning_rate=0.02, min_child_samples=40, n_estimators=1600, n_jobs=1, num_leaves=100, random_seed=1, subsample=0.8, score=-15124.232471, total=  25.9s\n"
     ]
    },
    {
     "name": "stderr",
     "output_type": "stream",
     "text": [
      "[Parallel(n_jobs=-1)]: Done 576 out of 576 | elapsed: 24.6min finished\n"
     ]
    },
    {
     "data": {
      "text/plain": [
       "GridSearchCV(cv=PredefinedSplit(test_fold=array([-1, -1, ..., -1,  0])),\n",
       "       error_score='raise',\n",
       "       estimator=LGBMRegressor(boosting_type='gbdt', class_weight=None, colsample_bytree=1.0,\n",
       "       learning_rate=0.1, max_depth=-1, min_child_samples=20,\n",
       "       min_child_weight=0.001, min_split_gain=0.0, n_estimators=100,\n",
       "       n_jobs=-1, num_leaves=31, objective=None, random_state=None,\n",
       "       reg_alpha=0.0, reg_lambda=0.0, silent=True, subsample=1.0,\n",
       "       subsample_for_bin=200000, subsample_freq=1),\n",
       "       fit_params={}, iid=True, n_jobs=-1,\n",
       "       param_grid={'learning_rate': [0.01, 0.015, 0.02], 'n_estimators': [400, 800, 1200, 1600], 'subsample': [0.8], 'num_leaves': [30, 50, 70, 100], 'colsample_bytree': [0.4, 0.6, 0.8], 'min_child_samples': [5, 10, 20, 40], 'n_jobs': [1], 'random_seed': [1]},\n",
       "       pre_dispatch='2*n_jobs', refit=True, return_train_score=True,\n",
       "       scoring='neg_mean_squared_error', verbose=3)"
      ]
     },
     "execution_count": 106,
     "metadata": {},
     "output_type": "execute_result"
    }
   ],
   "source": [
    "clf = GridSearchCV(estimator=lgb, param_grid=parameters, n_jobs=-1, cv = PredefinedSplit(idx.values),\n",
    "                  scoring='neg_mean_squared_error', verbose=3)\n",
    "clf.fit(data_df.drop('current_sale', axis=1), data_df['current_sale'])"
   ]
  },
  {
   "cell_type": "code",
   "execution_count": 108,
   "metadata": {},
   "outputs": [
    {
     "data": {
      "text/plain": [
       "{'colsample_bytree': 0.4,\n",
       " 'learning_rate': 0.015,\n",
       " 'min_child_samples': 20,\n",
       " 'n_estimators': 1600,\n",
       " 'n_jobs': 1,\n",
       " 'num_leaves': 30,\n",
       " 'random_seed': 1,\n",
       " 'subsample': 0.8}"
      ]
     },
     "execution_count": 108,
     "metadata": {},
     "output_type": "execute_result"
    }
   ],
   "source": [
    "clf.best_params_"
   ]
  },
  {
   "cell_type": "code",
   "execution_count": 195,
   "metadata": {
    "collapsed": true
   },
   "outputs": [],
   "source": [
    "predict = 0\n",
    "bagging_num = 1\n",
    "for i in range(bagging_num):\n",
    "    model1 = LGBMRegressor(learning_rate=0.015, n_estimators=1600, subsample=0.8, num_leaves=30+i, \n",
    "                           colsample_bytree=0.4, min_child_samples=20, reg_lambda=0.0001, random_seed=i)\n",
    "    model2 = CatBoostRegressor(iterations=1400, learning_rate=0.01, depth=6, random_seed=i,\n",
    "                               l2_leaf_reg=4, loss_function='RMSE', eval_metric='RMSE',logging_level='Silent')\n",
    "    \n",
    "    model2.fit(train_X.fillna(-99999), np.log10(train_Y), cat_features=[6])\n",
    "    predict += np.power(10,model2.predict(test_X.fillna(-99999)))\n",
    "    \n",
    "    model1.fit(train_X.fillna(-99999), train_Y)\n",
    "    predict += model1.predict(test_X.fillna(-99999))\n",
    "\n",
    "predict = predict/bagging_num/2"
   ]
  },
  {
   "cell_type": "code",
   "execution_count": 196,
   "metadata": {},
   "outputs": [
    {
     "name": "stdout",
     "output_type": "stream",
     "text": [
      "101.674998237\n"
     ]
    }
   ],
   "source": [
    "mse = mean_squared_error(test_Y.values, predict)\n",
    "print(np.sqrt(mse))"
   ]
  },
  {
   "cell_type": "code",
   "execution_count": 197,
   "metadata": {},
   "outputs": [
    {
     "data": {
      "text/plain": [
       "<matplotlib.axes._subplots.AxesSubplot at 0x7f5e1061d4a8>"
      ]
     },
     "execution_count": 197,
     "metadata": {},
     "output_type": "execute_result"
    },
    {
     "data": {
      "image/png": "[encoded data removed]",
      "text/plain": [
       "<matplotlib.figure.Figure at 0x7f5e105eb9e8>"
      ]
     },
     "metadata": {},
     "output_type": "display_data"
    }
   ],
   "source": [
    "pd.Series((test_Y-predict)).hist(bins =30)"
   ]
  },
  {
   "cell_type": "code",
   "execution_count": 198,
   "metadata": {},
   "outputs": [
    {
     "data": {
      "text/plain": [
       "<matplotlib.axes._subplots.AxesSubplot at 0x7f5e10563908>"
      ]
     },
     "execution_count": 198,
     "metadata": {},
     "output_type": "execute_result"
    },
    {
     "data": {
      "image/png": "[encoded data removed]",
      "text/plain": [
       "<matplotlib.figure.Figure at 0x7f5e104e07b8>"
      ]
     },
     "metadata": {},
     "output_type": "display_data"
    }
   ],
   "source": [
    "ax = pd.Series((test_Y-predict)).plot(figsize=(15,8),  alpha=0.7)\n",
    "test_Y.plot(ax=ax, secondary_y=True, alpha=0.7)\n",
    "pd.Series(predict,index=test_Y.index).plot(ax=ax)"
   ]
  },
  {
   "cell_type": "code",
   "execution_count": 142,
   "metadata": {},
   "outputs": [
    {
     "data": {
      "text/plain": [
       "<matplotlib.axes._subplots.AxesSubplot at 0x7f5e102175c0>"
      ]
     },
     "execution_count": 142,
     "metadata": {},
     "output_type": "execute_result"
    },
    {
     "data": {
      "image/png": "[encoded data removed]",
      "text/plain": [
       "<matplotlib.figure.Figure at 0x7f5e101bb780>"
      ]
     },
     "metadata": {},
     "output_type": "display_data"
    }
   ],
   "source": [
    "pd.Series(model1.feature_importances_, index=train_X.columns).plot.barh(figsize=(15,15))"
   ]
  },
  {
   "cell_type": "markdown",
   "metadata": {},
   "source": [
    "## test"
   ]
  },
  {
   "cell_type": "code",
   "execution_count": 199,
   "metadata": {
    "collapsed": true
   },
   "outputs": [],
   "source": [
    "dataset_t = {}\n",
    "for c in cols:\n",
    "    dataset_t[c]=[]"
   ]
  },
  {
   "cell_type": "code",
   "execution_count": 200,
   "metadata": {},
   "outputs": [
    {
     "name": "stdout",
     "output_type": "stream",
     "text": [
      "140\n"
     ]
    }
   ],
   "source": [
    "count = 0\n",
    "max_value = sale_class_date.max()\n",
    "for c in sale_class_date.index.levels[0]:\n",
    "        t = datetime.datetime(2017, 11, 1, 0, 0, 0)\n",
    "        count +=1\n",
    "        dataset_t['current_sale'].append(0)\n",
    "        dataset_t['month'].append(t.month)\n",
    "        dataset_t['year'].append(t.year)\n",
    "        dataset_t['class_id'].append(c)\n",
    "        dataset_t['virtual_date'].append(t)\n",
    "        l3_total, l3_count = 0, 0\n",
    "        \n",
    "        last_month = t + DateOffset(months=-1)\n",
    "        if last_month in sale_class_date[c].index:\n",
    "            dataset_t['last_month_sale'].append(sale_class_date[c][last_month])\n",
    "            l3_total += sale_class_date[c][last_month]\n",
    "            l3_count += 1\n",
    "        else:\n",
    "            dataset_t['last_month_sale'].append(np.nan)\n",
    "            \n",
    "        last_year = t + DateOffset(years = -1)\n",
    "        if last_year in sale_class_date[c].index:\n",
    "            dataset_t['last_year_sale'].append(sale_class_date[c][last_year])\n",
    "        else:\n",
    "            dataset_t['last_year_sale'].append(np.nan)\n",
    "            \n",
    "        lalm = last_year + DateOffset(months = -1)\n",
    "        if last_month in sale_class_date[c].index and last_year in sale_class_date[c].index and lalm in sale_class_date[c].index:\n",
    "            dataset_t['e_year'].append(np.minimum(max_value,sale_class_date[c][last_month]*sale_class_date[c][last_year]/sale_class_date[c][lalm]))\n",
    "        else:\n",
    "            dataset_t['e_year'].append(np.nan)\n",
    "            \n",
    "        last_two_month = last_month + DateOffset(months = -1)\n",
    "        if last_month in sale_class_date[c].index and last_two_month in sale_class_date[c].index:\n",
    "            dataset_t['e_month'].append(np.minimum(max_value,sale_class_date[c][last_month]*sale_class_date[c][last_month]/sale_class_date[c][last_two_month]))\n",
    "        else:\n",
    "            dataset_t['e_month'].append(np.nan)\n",
    "        \n",
    "        if last_month in price_date[c].index:\n",
    "            dataset_t['last_month_price'].append(price_date[c][last_month])\n",
    "        else:\n",
    "            dataset_t['last_month_price'].append(np.nan)\n",
    "            \n",
    "        if last_year in price_date[c].index:\n",
    "            dataset_t['last_year_price'].append(price_date[c][last_year])\n",
    "        else:\n",
    "            dataset_t['last_year_price'].append(np.nan)\n",
    "            \n",
    "        dataset_t['price_delta'].append(dataset_t['last_month_price'][-1] - dataset_t['last_year_price'][-1])\n",
    "        \n",
    "        dataset_t['holidays'].append(holiday_df.loc[t,'holidays'])\n",
    "        dataset_t['holiday_importance'].append(holiday_df.loc[t,'important'])\n",
    "                \n",
    "        temp = t\n",
    "        weekend = 0\n",
    "        length = 0\n",
    "        while temp.month==t.month:\n",
    "            length+=1\n",
    "            if temp.weekday() >=5:\n",
    "                weekend+=1\n",
    "            temp += DateOffset(days=1)\n",
    "        dataset_t['weekend'].append(weekend)\n",
    "        dataset_t['length'].append(length)\n",
    "        dataset_t['workday'].append(length-weekend-holiday_df.loc[t,'holidays'])\n",
    "print(count)"
   ]
  },
  {
   "cell_type": "code",
   "execution_count": 210,
   "metadata": {
    "collapsed": true
   },
   "outputs": [],
   "source": [
    "test_df = pd.DataFrame(dataset_t, columns=cols)"
   ]
  },
  {
   "cell_type": "code",
   "execution_count": 227,
   "metadata": {},
   "outputs": [
    {
     "data": {
      "text/plain": [
       "Index(['current_sale', 'last_month_sale', 'last_year_sale', 'e_year',\n",
       "       'e_month', 'month', 'year', 'class_id', 'last_month_price',\n",
       "       'last_year_price', 'price_delta', 'holidays', 'holiday_importance',\n",
       "       'weekend', 'length', 'workday', 'mean2', 'median2', 'min2', 'max2',\n",
       "       'std2', 'count2', 'skew2', 'mean3', 'median3', 'min3', 'max3', 'std3',\n",
       "       'count3', 'skew3', 'mean6', 'median6', 'min6', 'max6', 'std6', 'count6',\n",
       "       'skew6', 'mean12', 'median12', 'min12', 'max12', 'std12', 'count12',\n",
       "       'skew12', 'mean18', 'median18', 'min18', 'max18', 'std18', 'count18',\n",
       "       'skew18', 'mean24', 'median24', 'min24', 'max24', 'std24', 'count24',\n",
       "       'skew24', 'mean100', 'median100', 'min100', 'max100', 'std100',\n",
       "       'count100', 'skew100', 'mean2_3', 'mean2_6', 'mean2_12', 'mean3_6',\n",
       "       'mean3_12', 'sin_month'],\n",
       "      dtype='object')"
      ]
     },
     "execution_count": 227,
     "metadata": {},
     "output_type": "execute_result"
    }
   ],
   "source": [
    "test_df.columns"
   ]
  },
  {
   "cell_type": "code",
   "execution_count": 212,
   "metadata": {
    "collapsed": true
   },
   "outputs": [],
   "source": [
    "test_df['virtual_date'] = test_df['virtual_date'].dt.date"
   ]
  },
  {
   "cell_type": "code",
   "execution_count": 213,
   "metadata": {},
   "outputs": [
    {
     "data": {
      "text/html": [
       "<div>\n",
       "<style scoped>\n",
       "    .dataframe tbody tr th:only-of-type {\n",
       "        vertical-align: middle;\n",
       "    }\n",
       "\n",
       "    .dataframe tbody tr th {\n",
       "        vertical-align: top;\n",
       "    }\n",
       "\n",
       "    .dataframe thead th {\n",
       "        text-align: right;\n",
       "    }\n",
       "</style>\n",
       "<table border=\"1\" class=\"dataframe\">\n",
       "  <thead>\n",
       "    <tr style=\"text-align: right;\">\n",
       "      <th></th>\n",
       "      <th>current_sale</th>\n",
       "      <th>last_month_sale</th>\n",
       "      <th>last_year_sale</th>\n",
       "      <th>e_year</th>\n",
       "      <th>e_month</th>\n",
       "      <th>month</th>\n",
       "      <th>year</th>\n",
       "      <th>class_id</th>\n",
       "      <th>last_month_price</th>\n",
       "      <th>last_year_price</th>\n",
       "      <th>price_delta</th>\n",
       "      <th>holidays</th>\n",
       "      <th>holiday_importance</th>\n",
       "      <th>weekend</th>\n",
       "      <th>length</th>\n",
       "      <th>workday</th>\n",
       "      <th>virtual_date</th>\n",
       "    </tr>\n",
       "  </thead>\n",
       "  <tbody>\n",
       "    <tr>\n",
       "      <th>0</th>\n",
       "      <td>0</td>\n",
       "      <td>180</td>\n",
       "      <td>876.0</td>\n",
       "      <td>249.493671</td>\n",
       "      <td>174.193548</td>\n",
       "      <td>11</td>\n",
       "      <td>2017</td>\n",
       "      <td>103507</td>\n",
       "      <td>10.0</td>\n",
       "      <td>13.8</td>\n",
       "      <td>-3.8</td>\n",
       "      <td>0</td>\n",
       "      <td>0</td>\n",
       "      <td>8</td>\n",
       "      <td>30</td>\n",
       "      <td>22</td>\n",
       "      <td>2017-11-01</td>\n",
       "    </tr>\n",
       "    <tr>\n",
       "      <th>1</th>\n",
       "      <td>0</td>\n",
       "      <td>263</td>\n",
       "      <td>301.0</td>\n",
       "      <td>270.180887</td>\n",
       "      <td>242.698246</td>\n",
       "      <td>11</td>\n",
       "      <td>2017</td>\n",
       "      <td>124140</td>\n",
       "      <td>13.5</td>\n",
       "      <td>13.3</td>\n",
       "      <td>0.2</td>\n",
       "      <td>0</td>\n",
       "      <td>0</td>\n",
       "      <td>8</td>\n",
       "      <td>30</td>\n",
       "      <td>22</td>\n",
       "      <td>2017-11-01</td>\n",
       "    </tr>\n",
       "    <tr>\n",
       "      <th>2</th>\n",
       "      <td>0</td>\n",
       "      <td>156</td>\n",
       "      <td>131.0</td>\n",
       "      <td>206.424242</td>\n",
       "      <td>74.195122</td>\n",
       "      <td>11</td>\n",
       "      <td>2017</td>\n",
       "      <td>125403</td>\n",
       "      <td>24.3</td>\n",
       "      <td>45.0</td>\n",
       "      <td>-20.7</td>\n",
       "      <td>0</td>\n",
       "      <td>0</td>\n",
       "      <td>8</td>\n",
       "      <td>30</td>\n",
       "      <td>22</td>\n",
       "      <td>2017-11-01</td>\n",
       "    </tr>\n",
       "    <tr>\n",
       "      <th>3</th>\n",
       "      <td>0</td>\n",
       "      <td>162</td>\n",
       "      <td>213.0</td>\n",
       "      <td>191.700000</td>\n",
       "      <td>180.993103</td>\n",
       "      <td>11</td>\n",
       "      <td>2017</td>\n",
       "      <td>136916</td>\n",
       "      <td>16.6</td>\n",
       "      <td>17.6</td>\n",
       "      <td>-1.0</td>\n",
       "      <td>0</td>\n",
       "      <td>0</td>\n",
       "      <td>8</td>\n",
       "      <td>30</td>\n",
       "      <td>22</td>\n",
       "      <td>2017-11-01</td>\n",
       "    </tr>\n",
       "    <tr>\n",
       "      <th>4</th>\n",
       "      <td>0</td>\n",
       "      <td>152</td>\n",
       "      <td>NaN</td>\n",
       "      <td>NaN</td>\n",
       "      <td>105.497717</td>\n",
       "      <td>11</td>\n",
       "      <td>2017</td>\n",
       "      <td>169673</td>\n",
       "      <td>8.0</td>\n",
       "      <td>NaN</td>\n",
       "      <td>NaN</td>\n",
       "      <td>0</td>\n",
       "      <td>0</td>\n",
       "      <td>8</td>\n",
       "      <td>30</td>\n",
       "      <td>22</td>\n",
       "      <td>2017-11-01</td>\n",
       "    </tr>\n",
       "  </tbody>\n",
       "</table>\n",
       "</div>"
      ],
      "text/plain": [
       "   current_sale  last_month_sale  last_year_sale      e_year     e_month  \\\n",
       "0             0              180           876.0  249.493671  174.193548   \n",
       "1             0              263           301.0  270.180887  242.698246   \n",
       "2             0              156           131.0  206.424242   74.195122   \n",
       "3             0              162           213.0  191.700000  180.993103   \n",
       "4             0              152             NaN         NaN  105.497717   \n",
       "\n",
       "   month  year  class_id  last_month_price  last_year_price  price_delta  \\\n",
       "0     11  2017    103507              10.0             13.8         -3.8   \n",
       "1     11  2017    124140              13.5             13.3          0.2   \n",
       "2     11  2017    125403              24.3             45.0        -20.7   \n",
       "3     11  2017    136916              16.6             17.6         -1.0   \n",
       "4     11  2017    169673               8.0              NaN          NaN   \n",
       "\n",
       "   holidays  holiday_importance  weekend  length  workday virtual_date  \n",
       "0         0                   0        8      30       22   2017-11-01  \n",
       "1         0                   0        8      30       22   2017-11-01  \n",
       "2         0                   0        8      30       22   2017-11-01  \n",
       "3         0                   0        8      30       22   2017-11-01  \n",
       "4         0                   0        8      30       22   2017-11-01  "
      ]
     },
     "execution_count": 213,
     "metadata": {},
     "output_type": "execute_result"
    }
   ],
   "source": [
    "test_df.head()"
   ]
  },
  {
   "cell_type": "code",
   "execution_count": 214,
   "metadata": {},
   "outputs": [
    {
     "name": "stderr",
     "output_type": "stream",
     "text": [
      "/home/yuanhao/anaconda3/lib/python3.6/site-packages/ipykernel_launcher.py:10: FutureWarning: using a dict on a Series for aggregation\n",
      "is deprecated and will be removed in a future version\n",
      "  # Remove the CWD from sys.path while we load stuff.\n"
     ]
    }
   ],
   "source": [
    "lagging_features_test = []\n",
    "reset_scd = sale_class_date.reset_index()\n",
    "\n",
    "date = datetime.date(2017,11,1)\n",
    "month_feature = []\n",
    "for month in [2,3,6,12,18,24,100]:\n",
    "    month_feature.append(quantity_feature(reset_scd, month, date))\n",
    "temp = pd.concat(month_feature, axis=1)\n",
    "temp = temp.loc[:,~temp.columns.duplicated()]\n",
    "lagging_features_test.append(temp.copy())\n",
    "lagging_features_test_df = pd.concat(lagging_features_test, axis=0).reset_index()\n",
    "lagging_features_test_df = ratio_feature(lagging_features_test_df)"
   ]
  },
  {
   "cell_type": "code",
   "execution_count": 215,
   "metadata": {
    "collapsed": true
   },
   "outputs": [],
   "source": [
    "test_df = test_df.merge(lagging_features_test_df, left_on=['class_id','virtual_date'], right_on=['class_id','date'], \n",
    "                        how='left')"
   ]
  },
  {
   "cell_type": "code",
   "execution_count": 216,
   "metadata": {
    "collapsed": true
   },
   "outputs": [],
   "source": [
    "test_df['sin_month'] = np.sin(test_df['month']*np.pi/12)\n",
    "test_df.drop(['virtual_date','date'], axis=1, inplace=True)"
   ]
  },
  {
   "cell_type": "code",
   "execution_count": 240,
   "metadata": {
    "collapsed": true
   },
   "outputs": [
    {
     "data": {
      "text/plain": [
       "68       37.166667\n",
       "39       40.000000\n",
       "114      43.833333\n",
       "112      48.666667\n",
       "70       50.333333\n",
       "95       53.333333\n",
       "115      54.166667\n",
       "53       59.750000\n",
       "132      64.666667\n",
       "48       70.400000\n",
       "27       70.833333\n",
       "93       72.000000\n",
       "103      77.333333\n",
       "111      84.333333\n",
       "135      93.666667\n",
       "10       97.166667\n",
       "74       97.500000\n",
       "61       98.666667\n",
       "43      100.333333\n",
       "7       102.500000\n",
       "15      104.166667\n",
       "60      105.000000\n",
       "136     107.333333\n",
       "51      107.500000\n",
       "83      108.250000\n",
       "88      110.500000\n",
       "121     110.833333\n",
       "41      111.500000\n",
       "90      113.166667\n",
       "4       116.200000\n",
       "          ...     \n",
       "82      479.500000\n",
       "36      503.000000\n",
       "97      533.500000\n",
       "21      540.166667\n",
       "29      556.000000\n",
       "101     559.000000\n",
       "129     560.500000\n",
       "130     567.500000\n",
       "92      589.333333\n",
       "26      593.833333\n",
       "108     605.166667\n",
       "109     614.500000\n",
       "87      652.166667\n",
       "37      656.166667\n",
       "46      730.666667\n",
       "110     763.500000\n",
       "107     779.000000\n",
       "20      779.166667\n",
       "35      784.500000\n",
       "134     871.500000\n",
       "133     947.666667\n",
       "86     1000.833333\n",
       "131    1014.666667\n",
       "126    1028.000000\n",
       "54     1700.500000\n",
       "50     1720.166667\n",
       "31     1819.000000\n",
       "11     2132.666667\n",
       "33     2470.333333\n",
       "105    3243.500000\n",
       "Name: mean6, Length: 140, dtype: float64"
      ]
     },
     "execution_count": 240,
     "metadata": {},
     "output_type": "execute_result"
    }
   ],
   "source": [
    "test_df['mean6'].sort_values()"
   ]
  },
  {
   "cell_type": "code",
   "execution_count": 246,
   "metadata": {
    "collapsed": true
   },
   "outputs": [],
   "source": [
    "\n",
    "train_df = data_df\n",
    "\n",
    "train_X = data_df.drop('current_sale', axis=1)\n",
    "train_Y = data_df['current_sale']\n",
    "test_X = test_df.drop('current_sale', axis=1)\n",
    "predictor = train_X.columns.tolist()\n",
    "predict = 0\n",
    "bagging_num = 1\n",
    "for i in range(bagging_num):\n",
    "    model1 = LGBMRegressor(learning_rate=0.015, n_estimators=1600, subsample=0.8, num_leaves=30+i, \n",
    "                           colsample_bytree=0.4, min_child_samples=20, reg_lambda=0.0001, random_seed=i)\n",
    "    model2 = CatBoostRegressor(iterations=1400, learning_rate=0.01, depth=6, random_seed=i,\n",
    "                               l2_leaf_reg=4, loss_function='RMSE', eval_metric='RMSE',logging_level='Silent')\n",
    "    \n",
    "    model1.fit(train_X[predictor].fillna(-99999), (train_Y))\n",
    "    model2.fit(train_X[predictor].fillna(-99999), np.log10(train_Y), cat_features=[6])\n",
    "    predict += model1.predict(test_X[predictor].fillna(-99999)) \n",
    "    predict += np.power(10, model2.predict(test_X[predictor].fillna(-99999)))\n",
    "predict = predict/bagging_num/2"
   ]
  },
  {
   "cell_type": "code",
   "execution_count": 254,
   "metadata": {},
   "outputs": [
    {
     "data": {
      "text/plain": [
       "Index(['last_month_sale', 'last_year_sale', 'e_year', 'e_month', 'month',\n",
       "       'year', 'class_id', 'last_month_price', 'last_year_price',\n",
       "       'price_delta', 'holidays', 'holiday_importance', 'weekend', 'length',\n",
       "       'workday', 'mean2', 'median2', 'min2', 'max2', 'std2', 'count2',\n",
       "       'skew2', 'mean3', 'median3', 'min3', 'max3', 'std3', 'count3', 'skew3',\n",
       "       'mean6', 'median6', 'min6', 'max6', 'std6', 'count6', 'skew6', 'mean12',\n",
       "       'median12', 'min12', 'max12', 'std12', 'count12', 'skew12', 'mean18',\n",
       "       'median18', 'min18', 'max18', 'std18', 'count18', 'skew18', 'mean24',\n",
       "       'median24', 'min24', 'max24', 'std24', 'count24', 'skew24', 'mean100',\n",
       "       'median100', 'min100', 'max100', 'std100', 'count100', 'skew100',\n",
       "       'mean2_3', 'mean2_6', 'mean2_12', 'mean3_6', 'mean3_12', 'sin_month'],\n",
       "      dtype='object')"
      ]
     },
     "execution_count": 254,
     "metadata": {},
     "output_type": "execute_result"
    }
   ],
   "source": [
    "test_X.columns"
   ]
  },
  {
   "cell_type": "code",
   "execution_count": 256,
   "metadata": {},
   "outputs": [
    {
     "data": {
      "text/plain": [
       "Index(['last_month_sale', 'last_year_sale', 'e_year', 'e_month', 'month',\n",
       "       'year', 'class_id', 'last_month_price', 'last_year_price',\n",
       "       'price_delta', 'holidays', 'holiday_importance', 'weekend', 'length',\n",
       "       'workday', 'sin_month', 'mean2', 'median2', 'min2', 'max2', 'std2',\n",
       "       'count2', 'skew2', 'mean3', 'median3', 'min3', 'max3', 'std3', 'count3',\n",
       "       'skew3', 'mean6', 'median6', 'min6', 'max6', 'std6', 'count6', 'skew6',\n",
       "       'mean12', 'median12', 'min12', 'max12', 'std12', 'count12', 'skew12',\n",
       "       'mean18', 'median18', 'min18', 'max18', 'std18', 'count18', 'skew18',\n",
       "       'mean24', 'median24', 'min24', 'max24', 'std24', 'count24', 'skew24',\n",
       "       'mean100', 'median100', 'min100', 'max100', 'std100', 'count100',\n",
       "       'skew100', 'mean2_3', 'mean2_6', 'mean2_12', 'mean3_6', 'mean3_12'],\n",
       "      dtype='object')"
      ]
     },
     "execution_count": 256,
     "metadata": {},
     "output_type": "execute_result"
    }
   ],
   "source": [
    "train_X.columns"
   ]
  },
  {
   "cell_type": "code",
   "execution_count": 247,
   "metadata": {},
   "outputs": [
    {
     "data": {
      "text/plain": [
       "<matplotlib.axes._subplots.AxesSubplot at 0x7f5e07992ef0>"
      ]
     },
     "execution_count": 247,
     "metadata": {},
     "output_type": "execute_result"
    },
    {
     "data": {
      "image/png": "[encoded data removed]",
      "text/plain": [
       "<matplotlib.figure.Figure at 0x7f5e0722ce80>"
      ]
     },
     "metadata": {},
     "output_type": "display_data"
    }
   ],
   "source": [
    "pd.Series(model1.feature_importances_, index=train_X[predictor].columns).plot.barh(figsize=(15,15))"
   ]
  },
  {
   "cell_type": "code",
   "execution_count": 222,
   "metadata": {},
   "outputs": [
    {
     "data": {
      "text/html": [
       "<div>\n",
       "<style scoped>\n",
       "    .dataframe tbody tr th:only-of-type {\n",
       "        vertical-align: middle;\n",
       "    }\n",
       "\n",
       "    .dataframe tbody tr th {\n",
       "        vertical-align: top;\n",
       "    }\n",
       "\n",
       "    .dataframe thead th {\n",
       "        text-align: right;\n",
       "    }\n",
       "</style>\n",
       "<table border=\"1\" class=\"dataframe\">\n",
       "  <thead>\n",
       "    <tr style=\"text-align: right;\">\n",
       "      <th></th>\n",
       "      <th>last_month_sale</th>\n",
       "      <th>last_year_sale</th>\n",
       "      <th>e_year</th>\n",
       "      <th>e_month</th>\n",
       "      <th>month</th>\n",
       "      <th>year</th>\n",
       "      <th>class_id</th>\n",
       "      <th>last_month_price</th>\n",
       "      <th>last_year_price</th>\n",
       "      <th>price_delta</th>\n",
       "      <th>...</th>\n",
       "      <th>max100</th>\n",
       "      <th>std100</th>\n",
       "      <th>count100</th>\n",
       "      <th>skew100</th>\n",
       "      <th>mean2_3</th>\n",
       "      <th>mean2_6</th>\n",
       "      <th>mean2_12</th>\n",
       "      <th>mean3_6</th>\n",
       "      <th>mean3_12</th>\n",
       "      <th>sin_month</th>\n",
       "    </tr>\n",
       "  </thead>\n",
       "  <tbody>\n",
       "    <tr>\n",
       "      <th>0</th>\n",
       "      <td>180</td>\n",
       "      <td>876.0</td>\n",
       "      <td>249.493671</td>\n",
       "      <td>174.193548</td>\n",
       "      <td>11</td>\n",
       "      <td>2017</td>\n",
       "      <td>103507</td>\n",
       "      <td>10.0</td>\n",
       "      <td>13.8</td>\n",
       "      <td>-3.8</td>\n",
       "      <td>...</td>\n",
       "      <td>1653</td>\n",
       "      <td>374.166890</td>\n",
       "      <td>32</td>\n",
       "      <td>1.372849</td>\n",
       "      <td>1.000000</td>\n",
       "      <td>0.659459</td>\n",
       "      <td>0.378947</td>\n",
       "      <td>0.655856</td>\n",
       "      <td>0.376877</td>\n",
       "      <td>0.258819</td>\n",
       "    </tr>\n",
       "    <tr>\n",
       "      <th>1</th>\n",
       "      <td>263</td>\n",
       "      <td>301.0</td>\n",
       "      <td>270.180887</td>\n",
       "      <td>242.698246</td>\n",
       "      <td>11</td>\n",
       "      <td>2017</td>\n",
       "      <td>124140</td>\n",
       "      <td>13.5</td>\n",
       "      <td>13.3</td>\n",
       "      <td>0.2</td>\n",
       "      <td>...</td>\n",
       "      <td>526</td>\n",
       "      <td>91.739079</td>\n",
       "      <td>42</td>\n",
       "      <td>0.014611</td>\n",
       "      <td>1.057915</td>\n",
       "      <td>1.057915</td>\n",
       "      <td>0.986203</td>\n",
       "      <td>0.996139</td>\n",
       "      <td>0.928614</td>\n",
       "      <td>0.258819</td>\n",
       "    </tr>\n",
       "    <tr>\n",
       "      <th>2</th>\n",
       "      <td>156</td>\n",
       "      <td>131.0</td>\n",
       "      <td>206.424242</td>\n",
       "      <td>74.195122</td>\n",
       "      <td>11</td>\n",
       "      <td>2017</td>\n",
       "      <td>125403</td>\n",
       "      <td>24.3</td>\n",
       "      <td>45.0</td>\n",
       "      <td>-20.7</td>\n",
       "      <td>...</td>\n",
       "      <td>418</td>\n",
       "      <td>75.993625</td>\n",
       "      <td>70</td>\n",
       "      <td>1.200444</td>\n",
       "      <td>0.909774</td>\n",
       "      <td>0.788702</td>\n",
       "      <td>0.921905</td>\n",
       "      <td>0.863661</td>\n",
       "      <td>1.009524</td>\n",
       "      <td>0.258819</td>\n",
       "    </tr>\n",
       "    <tr>\n",
       "      <th>3</th>\n",
       "      <td>162</td>\n",
       "      <td>213.0</td>\n",
       "      <td>191.700000</td>\n",
       "      <td>180.993103</td>\n",
       "      <td>11</td>\n",
       "      <td>2017</td>\n",
       "      <td>136916</td>\n",
       "      <td>16.6</td>\n",
       "      <td>17.6</td>\n",
       "      <td>-1.0</td>\n",
       "      <td>...</td>\n",
       "      <td>715</td>\n",
       "      <td>132.871645</td>\n",
       "      <td>70</td>\n",
       "      <td>1.129576</td>\n",
       "      <td>0.941718</td>\n",
       "      <td>0.925628</td>\n",
       "      <td>0.826380</td>\n",
       "      <td>0.976884</td>\n",
       "      <td>0.872140</td>\n",
       "      <td>0.258819</td>\n",
       "    </tr>\n",
       "    <tr>\n",
       "      <th>4</th>\n",
       "      <td>152</td>\n",
       "      <td>NaN</td>\n",
       "      <td>NaN</td>\n",
       "      <td>105.497717</td>\n",
       "      <td>11</td>\n",
       "      <td>2017</td>\n",
       "      <td>169673</td>\n",
       "      <td>8.0</td>\n",
       "      <td>NaN</td>\n",
       "      <td>NaN</td>\n",
       "      <td>...</td>\n",
       "      <td>219</td>\n",
       "      <td>68.349835</td>\n",
       "      <td>5</td>\n",
       "      <td>1.015397</td>\n",
       "      <td>1.209783</td>\n",
       "      <td>1.582765</td>\n",
       "      <td>1.582765</td>\n",
       "      <td>1.299772</td>\n",
       "      <td>1.299772</td>\n",
       "      <td>0.258819</td>\n",
       "    </tr>\n",
       "  </tbody>\n",
       "</table>\n",
       "<p>5 rows × 70 columns</p>\n",
       "</div>"
      ],
      "text/plain": [
       "   last_month_sale  last_year_sale      e_year     e_month  month  year  \\\n",
       "0              180           876.0  249.493671  174.193548     11  2017   \n",
       "1              263           301.0  270.180887  242.698246     11  2017   \n",
       "2              156           131.0  206.424242   74.195122     11  2017   \n",
       "3              162           213.0  191.700000  180.993103     11  2017   \n",
       "4              152             NaN         NaN  105.497717     11  2017   \n",
       "\n",
       "   class_id  last_month_price  last_year_price  price_delta    ...      \\\n",
       "0    103507              10.0             13.8         -3.8    ...       \n",
       "1    124140              13.5             13.3          0.2    ...       \n",
       "2    125403              24.3             45.0        -20.7    ...       \n",
       "3    136916              16.6             17.6         -1.0    ...       \n",
       "4    169673               8.0              NaN          NaN    ...       \n",
       "\n",
       "   max100      std100  count100   skew100   mean2_3   mean2_6  mean2_12  \\\n",
       "0    1653  374.166890        32  1.372849  1.000000  0.659459  0.378947   \n",
       "1     526   91.739079        42  0.014611  1.057915  1.057915  0.986203   \n",
       "2     418   75.993625        70  1.200444  0.909774  0.788702  0.921905   \n",
       "3     715  132.871645        70  1.129576  0.941718  0.925628  0.826380   \n",
       "4     219   68.349835         5  1.015397  1.209783  1.582765  1.582765   \n",
       "\n",
       "    mean3_6  mean3_12  sin_month  \n",
       "0  0.655856  0.376877   0.258819  \n",
       "1  0.996139  0.928614   0.258819  \n",
       "2  0.863661  1.009524   0.258819  \n",
       "3  0.976884  0.872140   0.258819  \n",
       "4  1.299772  1.299772   0.258819  \n",
       "\n",
       "[5 rows x 70 columns]"
      ]
     },
     "execution_count": 222,
     "metadata": {},
     "output_type": "execute_result"
    }
   ],
   "source": [
    "test_X.head()"
   ]
  },
  {
   "cell_type": "code",
   "execution_count": 224,
   "metadata": {},
   "outputs": [
    {
     "data": {
      "text/html": [
       "<div>\n",
       "<style scoped>\n",
       "    .dataframe tbody tr th:only-of-type {\n",
       "        vertical-align: middle;\n",
       "    }\n",
       "\n",
       "    .dataframe tbody tr th {\n",
       "        vertical-align: top;\n",
       "    }\n",
       "\n",
       "    .dataframe thead th {\n",
       "        text-align: right;\n",
       "    }\n",
       "</style>\n",
       "<table border=\"1\" class=\"dataframe\">\n",
       "  <thead>\n",
       "    <tr style=\"text-align: right;\">\n",
       "      <th></th>\n",
       "      <th>current_sale</th>\n",
       "      <th>last_month_sale</th>\n",
       "      <th>last_year_sale</th>\n",
       "      <th>e_year</th>\n",
       "      <th>e_month</th>\n",
       "      <th>month</th>\n",
       "      <th>year</th>\n",
       "      <th>class_id</th>\n",
       "      <th>last_month_price</th>\n",
       "      <th>last_year_price</th>\n",
       "      <th>...</th>\n",
       "      <th>min100</th>\n",
       "      <th>max100</th>\n",
       "      <th>std100</th>\n",
       "      <th>count100</th>\n",
       "      <th>skew100</th>\n",
       "      <th>mean2_3</th>\n",
       "      <th>mean2_6</th>\n",
       "      <th>mean2_12</th>\n",
       "      <th>mean3_6</th>\n",
       "      <th>mean3_12</th>\n",
       "    </tr>\n",
       "  </thead>\n",
       "  <tbody>\n",
       "    <tr>\n",
       "      <th>7</th>\n",
       "      <td>1050</td>\n",
       "      <td>442.0</td>\n",
       "      <td>NaN</td>\n",
       "      <td>NaN</td>\n",
       "      <td>550.321127</td>\n",
       "      <td>10</td>\n",
       "      <td>2015</td>\n",
       "      <td>103507</td>\n",
       "      <td>14.9</td>\n",
       "      <td>NaN</td>\n",
       "      <td>...</td>\n",
       "      <td>58.0</td>\n",
       "      <td>442.0</td>\n",
       "      <td>119.800429</td>\n",
       "      <td>7.0</td>\n",
       "      <td>-0.564984</td>\n",
       "      <td>1.089790</td>\n",
       "      <td>1.296638</td>\n",
       "      <td>1.465843</td>\n",
       "      <td>1.186551</td>\n",
       "      <td>1.341391</td>\n",
       "    </tr>\n",
       "    <tr>\n",
       "      <th>19</th>\n",
       "      <td>632</td>\n",
       "      <td>684.0</td>\n",
       "      <td>1050.0</td>\n",
       "      <td>1624.886878</td>\n",
       "      <td>1152.354680</td>\n",
       "      <td>10</td>\n",
       "      <td>2016</td>\n",
       "      <td>103507</td>\n",
       "      <td>17.8</td>\n",
       "      <td>12.9</td>\n",
       "      <td>...</td>\n",
       "      <td>58.0</td>\n",
       "      <td>1433.0</td>\n",
       "      <td>364.504582</td>\n",
       "      <td>19.0</td>\n",
       "      <td>0.789069</td>\n",
       "      <td>1.111489</td>\n",
       "      <td>1.015528</td>\n",
       "      <td>0.744366</td>\n",
       "      <td>0.911801</td>\n",
       "      <td>0.668336</td>\n",
       "    </tr>\n",
       "    <tr>\n",
       "      <th>31</th>\n",
       "      <td>180</td>\n",
       "      <td>186.0</td>\n",
       "      <td>632.0</td>\n",
       "      <td>171.859649</td>\n",
       "      <td>192.200000</td>\n",
       "      <td>10</td>\n",
       "      <td>2017</td>\n",
       "      <td>103507</td>\n",
       "      <td>14.8</td>\n",
       "      <td>13.8</td>\n",
       "      <td>...</td>\n",
       "      <td>58.0</td>\n",
       "      <td>1653.0</td>\n",
       "      <td>374.643687</td>\n",
       "      <td>31.0</td>\n",
       "      <td>1.348530</td>\n",
       "      <td>0.804985</td>\n",
       "      <td>0.618592</td>\n",
       "      <td>0.351529</td>\n",
       "      <td>0.765070</td>\n",
       "      <td>0.434769</td>\n",
       "    </tr>\n",
       "  </tbody>\n",
       "</table>\n",
       "<p>3 rows × 71 columns</p>\n",
       "</div>"
      ],
      "text/plain": [
       "    current_sale  last_month_sale  last_year_sale       e_year      e_month  \\\n",
       "7           1050            442.0             NaN          NaN   550.321127   \n",
       "19           632            684.0          1050.0  1624.886878  1152.354680   \n",
       "31           180            186.0           632.0   171.859649   192.200000   \n",
       "\n",
       "    month  year  class_id  last_month_price  last_year_price    ...     \\\n",
       "7      10  2015    103507              14.9              NaN    ...      \n",
       "19     10  2016    103507              17.8             12.9    ...      \n",
       "31     10  2017    103507              14.8             13.8    ...      \n",
       "\n",
       "    min100  max100      std100  count100   skew100   mean2_3   mean2_6  \\\n",
       "7     58.0   442.0  119.800429       7.0 -0.564984  1.089790  1.296638   \n",
       "19    58.0  1433.0  364.504582      19.0  0.789069  1.111489  1.015528   \n",
       "31    58.0  1653.0  374.643687      31.0  1.348530  0.804985  0.618592   \n",
       "\n",
       "    mean2_12   mean3_6  mean3_12  \n",
       "7   1.465843  1.186551  1.341391  \n",
       "19  0.744366  0.911801  0.668336  \n",
       "31  0.351529  0.765070  0.434769  \n",
       "\n",
       "[3 rows x 71 columns]"
      ]
     },
     "execution_count": 224,
     "metadata": {},
     "output_type": "execute_result"
    }
   ],
   "source": [
    "data_df[(data_df['class_id']==103507) & (data_df['month']==10)]"
   ]
  },
  {
   "cell_type": "code",
   "execution_count": 249,
   "metadata": {
    "collapsed": true
   },
   "outputs": [],
   "source": [
    "ans_df = pd.DataFrame()\n",
    "\n",
    "ans_df['class_id']=test_df['class_id']\n",
    "ans_df['predict_date']='201711'\n",
    "ans_df['predict_quantity']=predict.astype(np.int)\n",
    "\n",
    "ans_df.set_index('class_id',inplace=True)\n",
    "ans_df.sort_index(inplace=True)"
   ]
  },
  {
   "cell_type": "code",
   "execution_count": 250,
   "metadata": {},
   "outputs": [
    {
     "data": {
      "text/plain": [
       "<matplotlib.axes._subplots.AxesSubplot at 0x7f5e078a6748>"
      ]
     },
     "execution_count": 250,
     "metadata": {},
     "output_type": "execute_result"
    },
    {
     "data": {
      "image/png": "[encoded data removed]",
      "text/plain": [
       "<matplotlib.figure.Figure at 0x7f5e076bf2b0>"
      ]
     },
     "metadata": {},
     "output_type": "display_data"
    }
   ],
   "source": [
    "ans_df['predict_quantity'].hist()"
   ]
  },
  {
   "cell_type": "code",
   "execution_count": 257,
   "metadata": {
    "collapsed": true
   },
   "outputs": [],
   "source": [
    "ans_df.to_csv('predict_0209.csv')"
   ]
  },
  {
   "cell_type": "code",
   "execution_count": 252,
   "metadata": {},
   "outputs": [
    {
     "data": {
      "text/plain": [
       "0"
      ]
     },
     "execution_count": 252,
     "metadata": {},
     "output_type": "execute_result"
    }
   ],
   "source": [
    "ans_df['predict_quantity'].isnull().sum()"
   ]
  },
  {
   "cell_type": "code",
   "execution_count": 253,
   "metadata": {},
   "outputs": [
    {
     "data": {
      "text/plain": [
       "55702"
      ]
     },
     "execution_count": 253,
     "metadata": {},
     "output_type": "execute_result"
    }
   ],
   "source": [
    "ans_df['predict_quantity'].sum()"
   ]
  },
  {
   "cell_type": "code",
   "execution_count": 665,
   "metadata": {},
   "outputs": [
    {
     "data": {
      "text/plain": [
       "<matplotlib.axes._subplots.AxesSubplot at 0x7f916a936b00>"
      ]
     },
     "execution_count": 665,
     "metadata": {},
     "output_type": "execute_result"
    },
    {
     "data": {
      "image/png": "[encoded data removed]",
      "text/plain": [
       "<matplotlib.figure.Figure at 0x7f916a916eb8>"
      ]
     },
     "metadata": {},
     "output_type": "display_data"
    }
   ],
   "source": [
    "pd.Series(predict,index=test_Y.index).plot(figsize=(15,8))\n",
    "pd.Series(test_Y).plot()"
   ]
  },
  {
   "cell_type": "code",
   "execution_count": null,
   "metadata": {
    "collapsed": true
   },
   "outputs": [],
   "source": []
  }
 ],
 "metadata": {
  "kernelspec": {
   "display_name": "Python 3",
   "language": "python",
   "name": "python3"
  },
  "language_info": {
   "codemirror_mode": {
    "name": "ipython",
    "version": 3
   },
   "file_extension": ".py",
   "mimetype": "text/x-python",
   "name": "python",
   "nbconvert_exporter": "python",
   "pygments_lexer": "ipython3",
   "version": "3.6.1"
  }
 },
 "nbformat": 4,
 "nbformat_minor": 2
}
